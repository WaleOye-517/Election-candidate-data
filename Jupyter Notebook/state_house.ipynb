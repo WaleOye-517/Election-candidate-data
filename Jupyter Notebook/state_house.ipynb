{
  "nbformat": 4,
  "nbformat_minor": 0,
  "metadata": {
    "colab": {
      "provenance": []
    },
    "kernelspec": {
      "name": "python3",
      "display_name": "Python 3"
    },
    "language_info": {
      "name": "python"
    }
  },
  "cells": [
    {
      "cell_type": "code",
      "execution_count": null,
      "metadata": {
        "id": "oZd9WDlFCMRa"
      },
      "outputs": [],
      "source": [
        "import tabula\n",
        "import pandas as pd\n",
        "import numpy as np\n",
        "import re\n",
        "import camelot"
      ]
    },
    {
      "cell_type": "code",
      "source": [
        "from google.colab import drive\n",
        "drive.mount('/content/drive', force_remount=True)"
      ],
      "metadata": {
        "colab": {
          "base_uri": "https://localhost:8080/"
        },
        "id": "VigS8LYnDzbI",
        "outputId": "a7c9c811-908c-44eb-db6a-1cb9daf04cfb"
      },
      "execution_count": null,
      "outputs": [
        {
          "output_type": "stream",
          "name": "stdout",
          "text": [
            "Mounted at /content/drive\n"
          ]
        }
      ]
    },
    {
      "cell_type": "code",
      "source": [
        "#path = \"/content/drive/MyDrive/Stears Data/Final-List-of-Candidates-for-National-Elections_SHA-14.pdf\"\n",
        "source = 'https://inecnigeria.org/list-of-candidates-for-2023-elections/'"
      ],
      "metadata": {
        "id": "HOuYwhtkD0ao"
      },
      "execution_count": null,
      "outputs": []
    },
    {
      "cell_type": "code",
      "source": [
        "df = tabula.read_pdf(path, pages= '99-893',pandas_options={'header':None}, lattice = True)"
      ],
      "metadata": {
        "id": "bbSdcF9yD0WW"
      },
      "execution_count": null,
      "outputs": []
    },
    {
      "cell_type": "code",
      "source": [
        "df2 = df.copy()"
      ],
      "metadata": {
        "id": "tZY9y_jUL1Ym"
      },
      "execution_count": null,
      "outputs": []
    },
    {
      "cell_type": "code",
      "source": [
        "cols = df2[0].values.tolist()[0]\n",
        "print(cols)"
      ],
      "metadata": {
        "colab": {
          "base_uri": "https://localhost:8080/"
        },
        "id": "5HijiMpTD0QO",
        "outputId": "c55b81cb-0a4b-4aff-9af2-ea4237708718"
      },
      "execution_count": null,
      "outputs": [
        {
          "output_type": "stream",
          "name": "stdout",
          "text": [
            "['S/N', 'STATE', 'CONSTITUENCY', 'PARTY', 'POSITION', 'CANDIDATE_NAME', 'PWD', 'AGE', 'GENDER', 'QUALIFICATIONS', 'REMARKS']\n"
          ]
        }
      ]
    },
    {
      "cell_type": "code",
      "source": [
        "df2[0] = df2[0].iloc[1:]\n",
        "df2[-1] = df2[-1].iloc[1:]\n",
        "df2 = pd.concat(df2)\n",
        "df2.columns = cols"
      ],
      "metadata": {
        "id": "B5ggt_OpKCiW"
      },
      "execution_count": null,
      "outputs": []
    },
    {
      "cell_type": "code",
      "source": [
        "df2.head()"
      ],
      "metadata": {
        "colab": {
          "base_uri": "https://localhost:8080/",
          "height": 337
        },
        "id": "juIYQYjCD0CH",
        "outputId": "5d48c3d4-ba9a-430e-e742-6a6518d61e8a"
      },
      "execution_count": null,
      "outputs": [
        {
          "output_type": "execute_result",
          "data": {
            "text/plain": [
              "  S/N STATE    CONSTITUENCY PARTY                  POSITION  \\\n",
              "1   1  ABIA       ABA SOUTH     A  State House\\rof Assembly   \n",
              "2   2  ABIA       UKWA EAST     A  State House\\rof Assembly   \n",
              "3   3  ABIA         IKWUANO     A  State House\\rof Assembly   \n",
              "4   4  ABIA  OSISIOMA NORTH     A  State House\\rof Assembly   \n",
              "5   5  ABIA  OSISIOMA SOUTH     A  State House\\rof Assembly   \n",
              "\n",
              "               CANDIDATE_NAME   PWD AGE GENDER QUALIFICATIONS REMARKS  \n",
              "1      EBERE SMART\\rONUABUCHI  None  62      M      FSLC WAEC     NaN  \n",
              "2    IHUTE PETER\\rCHUKWUEMEKA  None  53      M           FSLC     NaN  \n",
              "3         OJI ERICO OKECHUKWU  None  52      M       FSLC SSC     NaN  \n",
              "4  ENYINNAH INNOCENT\\rCHINTUA  None  64      M      FSLC WAEC     NaN  \n",
              "5      NWANKPA JOHN\\rCHIJINDU  None  38      M      FSLC WAEC     NaN  "
            ],
            "text/html": [
              "\n",
              "  <div id=\"df-da89a45c-98fe-47e9-adcf-f70b28ab04fd\">\n",
              "    <div class=\"colab-df-container\">\n",
              "      <div>\n",
              "<style scoped>\n",
              "    .dataframe tbody tr th:only-of-type {\n",
              "        vertical-align: middle;\n",
              "    }\n",
              "\n",
              "    .dataframe tbody tr th {\n",
              "        vertical-align: top;\n",
              "    }\n",
              "\n",
              "    .dataframe thead th {\n",
              "        text-align: right;\n",
              "    }\n",
              "</style>\n",
              "<table border=\"1\" class=\"dataframe\">\n",
              "  <thead>\n",
              "    <tr style=\"text-align: right;\">\n",
              "      <th></th>\n",
              "      <th>S/N</th>\n",
              "      <th>STATE</th>\n",
              "      <th>CONSTITUENCY</th>\n",
              "      <th>PARTY</th>\n",
              "      <th>POSITION</th>\n",
              "      <th>CANDIDATE_NAME</th>\n",
              "      <th>PWD</th>\n",
              "      <th>AGE</th>\n",
              "      <th>GENDER</th>\n",
              "      <th>QUALIFICATIONS</th>\n",
              "      <th>REMARKS</th>\n",
              "    </tr>\n",
              "  </thead>\n",
              "  <tbody>\n",
              "    <tr>\n",
              "      <th>1</th>\n",
              "      <td>1</td>\n",
              "      <td>ABIA</td>\n",
              "      <td>ABA SOUTH</td>\n",
              "      <td>A</td>\n",
              "      <td>State House\\rof Assembly</td>\n",
              "      <td>EBERE SMART\\rONUABUCHI</td>\n",
              "      <td>None</td>\n",
              "      <td>62</td>\n",
              "      <td>M</td>\n",
              "      <td>FSLC WAEC</td>\n",
              "      <td>NaN</td>\n",
              "    </tr>\n",
              "    <tr>\n",
              "      <th>2</th>\n",
              "      <td>2</td>\n",
              "      <td>ABIA</td>\n",
              "      <td>UKWA EAST</td>\n",
              "      <td>A</td>\n",
              "      <td>State House\\rof Assembly</td>\n",
              "      <td>IHUTE PETER\\rCHUKWUEMEKA</td>\n",
              "      <td>None</td>\n",
              "      <td>53</td>\n",
              "      <td>M</td>\n",
              "      <td>FSLC</td>\n",
              "      <td>NaN</td>\n",
              "    </tr>\n",
              "    <tr>\n",
              "      <th>3</th>\n",
              "      <td>3</td>\n",
              "      <td>ABIA</td>\n",
              "      <td>IKWUANO</td>\n",
              "      <td>A</td>\n",
              "      <td>State House\\rof Assembly</td>\n",
              "      <td>OJI ERICO OKECHUKWU</td>\n",
              "      <td>None</td>\n",
              "      <td>52</td>\n",
              "      <td>M</td>\n",
              "      <td>FSLC SSC</td>\n",
              "      <td>NaN</td>\n",
              "    </tr>\n",
              "    <tr>\n",
              "      <th>4</th>\n",
              "      <td>4</td>\n",
              "      <td>ABIA</td>\n",
              "      <td>OSISIOMA NORTH</td>\n",
              "      <td>A</td>\n",
              "      <td>State House\\rof Assembly</td>\n",
              "      <td>ENYINNAH INNOCENT\\rCHINTUA</td>\n",
              "      <td>None</td>\n",
              "      <td>64</td>\n",
              "      <td>M</td>\n",
              "      <td>FSLC WAEC</td>\n",
              "      <td>NaN</td>\n",
              "    </tr>\n",
              "    <tr>\n",
              "      <th>5</th>\n",
              "      <td>5</td>\n",
              "      <td>ABIA</td>\n",
              "      <td>OSISIOMA SOUTH</td>\n",
              "      <td>A</td>\n",
              "      <td>State House\\rof Assembly</td>\n",
              "      <td>NWANKPA JOHN\\rCHIJINDU</td>\n",
              "      <td>None</td>\n",
              "      <td>38</td>\n",
              "      <td>M</td>\n",
              "      <td>FSLC WAEC</td>\n",
              "      <td>NaN</td>\n",
              "    </tr>\n",
              "  </tbody>\n",
              "</table>\n",
              "</div>\n",
              "      <button class=\"colab-df-convert\" onclick=\"convertToInteractive('df-da89a45c-98fe-47e9-adcf-f70b28ab04fd')\"\n",
              "              title=\"Convert this dataframe to an interactive table.\"\n",
              "              style=\"display:none;\">\n",
              "        \n",
              "  <svg xmlns=\"http://www.w3.org/2000/svg\" height=\"24px\"viewBox=\"0 0 24 24\"\n",
              "       width=\"24px\">\n",
              "    <path d=\"M0 0h24v24H0V0z\" fill=\"none\"/>\n",
              "    <path d=\"M18.56 5.44l.94 2.06.94-2.06 2.06-.94-2.06-.94-.94-2.06-.94 2.06-2.06.94zm-11 1L8.5 8.5l.94-2.06 2.06-.94-2.06-.94L8.5 2.5l-.94 2.06-2.06.94zm10 10l.94 2.06.94-2.06 2.06-.94-2.06-.94-.94-2.06-.94 2.06-2.06.94z\"/><path d=\"M17.41 7.96l-1.37-1.37c-.4-.4-.92-.59-1.43-.59-.52 0-1.04.2-1.43.59L10.3 9.45l-7.72 7.72c-.78.78-.78 2.05 0 2.83L4 21.41c.39.39.9.59 1.41.59.51 0 1.02-.2 1.41-.59l7.78-7.78 2.81-2.81c.8-.78.8-2.07 0-2.86zM5.41 20L4 18.59l7.72-7.72 1.47 1.35L5.41 20z\"/>\n",
              "  </svg>\n",
              "      </button>\n",
              "      \n",
              "  <style>\n",
              "    .colab-df-container {\n",
              "      display:flex;\n",
              "      flex-wrap:wrap;\n",
              "      gap: 12px;\n",
              "    }\n",
              "\n",
              "    .colab-df-convert {\n",
              "      background-color: #E8F0FE;\n",
              "      border: none;\n",
              "      border-radius: 50%;\n",
              "      cursor: pointer;\n",
              "      display: none;\n",
              "      fill: #1967D2;\n",
              "      height: 32px;\n",
              "      padding: 0 0 0 0;\n",
              "      width: 32px;\n",
              "    }\n",
              "\n",
              "    .colab-df-convert:hover {\n",
              "      background-color: #E2EBFA;\n",
              "      box-shadow: 0px 1px 2px rgba(60, 64, 67, 0.3), 0px 1px 3px 1px rgba(60, 64, 67, 0.15);\n",
              "      fill: #174EA6;\n",
              "    }\n",
              "\n",
              "    [theme=dark] .colab-df-convert {\n",
              "      background-color: #3B4455;\n",
              "      fill: #D2E3FC;\n",
              "    }\n",
              "\n",
              "    [theme=dark] .colab-df-convert:hover {\n",
              "      background-color: #434B5C;\n",
              "      box-shadow: 0px 1px 3px 1px rgba(0, 0, 0, 0.15);\n",
              "      filter: drop-shadow(0px 1px 2px rgba(0, 0, 0, 0.3));\n",
              "      fill: #FFFFFF;\n",
              "    }\n",
              "  </style>\n",
              "\n",
              "      <script>\n",
              "        const buttonEl =\n",
              "          document.querySelector('#df-da89a45c-98fe-47e9-adcf-f70b28ab04fd button.colab-df-convert');\n",
              "        buttonEl.style.display =\n",
              "          google.colab.kernel.accessAllowed ? 'block' : 'none';\n",
              "\n",
              "        async function convertToInteractive(key) {\n",
              "          const element = document.querySelector('#df-da89a45c-98fe-47e9-adcf-f70b28ab04fd');\n",
              "          const dataTable =\n",
              "            await google.colab.kernel.invokeFunction('convertToInteractive',\n",
              "                                                     [key], {});\n",
              "          if (!dataTable) return;\n",
              "\n",
              "          const docLinkHtml = 'Like what you see? Visit the ' +\n",
              "            '<a target=\"_blank\" href=https://colab.research.google.com/notebooks/data_table.ipynb>data table notebook</a>'\n",
              "            + ' to learn more about interactive tables.';\n",
              "          element.innerHTML = '';\n",
              "          dataTable['output_type'] = 'display_data';\n",
              "          await google.colab.output.renderOutput(dataTable, element);\n",
              "          const docLink = document.createElement('div');\n",
              "          docLink.innerHTML = docLinkHtml;\n",
              "          element.appendChild(docLink);\n",
              "        }\n",
              "      </script>\n",
              "    </div>\n",
              "  </div>\n",
              "  "
            ]
          },
          "metadata": {},
          "execution_count": 162
        }
      ]
    },
    {
      "cell_type": "code",
      "source": [
        "df2.tail()"
      ],
      "metadata": {
        "colab": {
          "base_uri": "https://localhost:8080/",
          "height": 337
        },
        "id": "YkxkktWKK70i",
        "outputId": "ee7eda19-2fa9-4da1-c3b0-b5e9f8a14496"
      },
      "execution_count": null,
      "outputs": [
        {
          "output_type": "execute_result",
          "data": {
            "text/plain": [
              "      S/N    STATE    CONSTITUENCY PARTY                  POSITION  \\\n",
              "9   10227  ZAMFARA         GUMMI I   YPP  State House\\rof Assembly   \n",
              "10  10228  ZAMFARA      TSAFE WEST   YPP  State House\\rof Assembly   \n",
              "11  10229  ZAMFARA          BAKURA   YPP  State House\\rof Assembly   \n",
              "12  10230  ZAMFARA      GUSAU WEST   ZLP  State House\\rof Assembly   \n",
              "13  10231  ZAMFARA  BUKKUYUM SOUTH   ZLP  State House\\rof Assembly   \n",
              "\n",
              "         CANDIDATE_NAME   PWD AGE GENDER QUALIFICATIONS REMARKS  \n",
              "9          S/GARI BELLO  None  35      M  FSLC NECO NCE     NaN  \n",
              "10        SHAFIA HASSAN  None  34      M      FSLC WAEC     NaN  \n",
              "11         YUSUF SALISU  None  25      M      FSLC SSCE     NaN  \n",
              "12  ALIYU IBRAHIM GUSAU  None  30      M           NECO     NaN  \n",
              "13  LAWAL BASHIR MASAMA  None  28      M           NECO     NaN  "
            ],
            "text/html": [
              "\n",
              "  <div id=\"df-0b84d743-87bb-4b1e-9da3-a4c241313c67\">\n",
              "    <div class=\"colab-df-container\">\n",
              "      <div>\n",
              "<style scoped>\n",
              "    .dataframe tbody tr th:only-of-type {\n",
              "        vertical-align: middle;\n",
              "    }\n",
              "\n",
              "    .dataframe tbody tr th {\n",
              "        vertical-align: top;\n",
              "    }\n",
              "\n",
              "    .dataframe thead th {\n",
              "        text-align: right;\n",
              "    }\n",
              "</style>\n",
              "<table border=\"1\" class=\"dataframe\">\n",
              "  <thead>\n",
              "    <tr style=\"text-align: right;\">\n",
              "      <th></th>\n",
              "      <th>S/N</th>\n",
              "      <th>STATE</th>\n",
              "      <th>CONSTITUENCY</th>\n",
              "      <th>PARTY</th>\n",
              "      <th>POSITION</th>\n",
              "      <th>CANDIDATE_NAME</th>\n",
              "      <th>PWD</th>\n",
              "      <th>AGE</th>\n",
              "      <th>GENDER</th>\n",
              "      <th>QUALIFICATIONS</th>\n",
              "      <th>REMARKS</th>\n",
              "    </tr>\n",
              "  </thead>\n",
              "  <tbody>\n",
              "    <tr>\n",
              "      <th>9</th>\n",
              "      <td>10227</td>\n",
              "      <td>ZAMFARA</td>\n",
              "      <td>GUMMI I</td>\n",
              "      <td>YPP</td>\n",
              "      <td>State House\\rof Assembly</td>\n",
              "      <td>S/GARI BELLO</td>\n",
              "      <td>None</td>\n",
              "      <td>35</td>\n",
              "      <td>M</td>\n",
              "      <td>FSLC NECO NCE</td>\n",
              "      <td>NaN</td>\n",
              "    </tr>\n",
              "    <tr>\n",
              "      <th>10</th>\n",
              "      <td>10228</td>\n",
              "      <td>ZAMFARA</td>\n",
              "      <td>TSAFE WEST</td>\n",
              "      <td>YPP</td>\n",
              "      <td>State House\\rof Assembly</td>\n",
              "      <td>SHAFIA HASSAN</td>\n",
              "      <td>None</td>\n",
              "      <td>34</td>\n",
              "      <td>M</td>\n",
              "      <td>FSLC WAEC</td>\n",
              "      <td>NaN</td>\n",
              "    </tr>\n",
              "    <tr>\n",
              "      <th>11</th>\n",
              "      <td>10229</td>\n",
              "      <td>ZAMFARA</td>\n",
              "      <td>BAKURA</td>\n",
              "      <td>YPP</td>\n",
              "      <td>State House\\rof Assembly</td>\n",
              "      <td>YUSUF SALISU</td>\n",
              "      <td>None</td>\n",
              "      <td>25</td>\n",
              "      <td>M</td>\n",
              "      <td>FSLC SSCE</td>\n",
              "      <td>NaN</td>\n",
              "    </tr>\n",
              "    <tr>\n",
              "      <th>12</th>\n",
              "      <td>10230</td>\n",
              "      <td>ZAMFARA</td>\n",
              "      <td>GUSAU WEST</td>\n",
              "      <td>ZLP</td>\n",
              "      <td>State House\\rof Assembly</td>\n",
              "      <td>ALIYU IBRAHIM GUSAU</td>\n",
              "      <td>None</td>\n",
              "      <td>30</td>\n",
              "      <td>M</td>\n",
              "      <td>NECO</td>\n",
              "      <td>NaN</td>\n",
              "    </tr>\n",
              "    <tr>\n",
              "      <th>13</th>\n",
              "      <td>10231</td>\n",
              "      <td>ZAMFARA</td>\n",
              "      <td>BUKKUYUM SOUTH</td>\n",
              "      <td>ZLP</td>\n",
              "      <td>State House\\rof Assembly</td>\n",
              "      <td>LAWAL BASHIR MASAMA</td>\n",
              "      <td>None</td>\n",
              "      <td>28</td>\n",
              "      <td>M</td>\n",
              "      <td>NECO</td>\n",
              "      <td>NaN</td>\n",
              "    </tr>\n",
              "  </tbody>\n",
              "</table>\n",
              "</div>\n",
              "      <button class=\"colab-df-convert\" onclick=\"convertToInteractive('df-0b84d743-87bb-4b1e-9da3-a4c241313c67')\"\n",
              "              title=\"Convert this dataframe to an interactive table.\"\n",
              "              style=\"display:none;\">\n",
              "        \n",
              "  <svg xmlns=\"http://www.w3.org/2000/svg\" height=\"24px\"viewBox=\"0 0 24 24\"\n",
              "       width=\"24px\">\n",
              "    <path d=\"M0 0h24v24H0V0z\" fill=\"none\"/>\n",
              "    <path d=\"M18.56 5.44l.94 2.06.94-2.06 2.06-.94-2.06-.94-.94-2.06-.94 2.06-2.06.94zm-11 1L8.5 8.5l.94-2.06 2.06-.94-2.06-.94L8.5 2.5l-.94 2.06-2.06.94zm10 10l.94 2.06.94-2.06 2.06-.94-2.06-.94-.94-2.06-.94 2.06-2.06.94z\"/><path d=\"M17.41 7.96l-1.37-1.37c-.4-.4-.92-.59-1.43-.59-.52 0-1.04.2-1.43.59L10.3 9.45l-7.72 7.72c-.78.78-.78 2.05 0 2.83L4 21.41c.39.39.9.59 1.41.59.51 0 1.02-.2 1.41-.59l7.78-7.78 2.81-2.81c.8-.78.8-2.07 0-2.86zM5.41 20L4 18.59l7.72-7.72 1.47 1.35L5.41 20z\"/>\n",
              "  </svg>\n",
              "      </button>\n",
              "      \n",
              "  <style>\n",
              "    .colab-df-container {\n",
              "      display:flex;\n",
              "      flex-wrap:wrap;\n",
              "      gap: 12px;\n",
              "    }\n",
              "\n",
              "    .colab-df-convert {\n",
              "      background-color: #E8F0FE;\n",
              "      border: none;\n",
              "      border-radius: 50%;\n",
              "      cursor: pointer;\n",
              "      display: none;\n",
              "      fill: #1967D2;\n",
              "      height: 32px;\n",
              "      padding: 0 0 0 0;\n",
              "      width: 32px;\n",
              "    }\n",
              "\n",
              "    .colab-df-convert:hover {\n",
              "      background-color: #E2EBFA;\n",
              "      box-shadow: 0px 1px 2px rgba(60, 64, 67, 0.3), 0px 1px 3px 1px rgba(60, 64, 67, 0.15);\n",
              "      fill: #174EA6;\n",
              "    }\n",
              "\n",
              "    [theme=dark] .colab-df-convert {\n",
              "      background-color: #3B4455;\n",
              "      fill: #D2E3FC;\n",
              "    }\n",
              "\n",
              "    [theme=dark] .colab-df-convert:hover {\n",
              "      background-color: #434B5C;\n",
              "      box-shadow: 0px 1px 3px 1px rgba(0, 0, 0, 0.15);\n",
              "      filter: drop-shadow(0px 1px 2px rgba(0, 0, 0, 0.3));\n",
              "      fill: #FFFFFF;\n",
              "    }\n",
              "  </style>\n",
              "\n",
              "      <script>\n",
              "        const buttonEl =\n",
              "          document.querySelector('#df-0b84d743-87bb-4b1e-9da3-a4c241313c67 button.colab-df-convert');\n",
              "        buttonEl.style.display =\n",
              "          google.colab.kernel.accessAllowed ? 'block' : 'none';\n",
              "\n",
              "        async function convertToInteractive(key) {\n",
              "          const element = document.querySelector('#df-0b84d743-87bb-4b1e-9da3-a4c241313c67');\n",
              "          const dataTable =\n",
              "            await google.colab.kernel.invokeFunction('convertToInteractive',\n",
              "                                                     [key], {});\n",
              "          if (!dataTable) return;\n",
              "\n",
              "          const docLinkHtml = 'Like what you see? Visit the ' +\n",
              "            '<a target=\"_blank\" href=https://colab.research.google.com/notebooks/data_table.ipynb>data table notebook</a>'\n",
              "            + ' to learn more about interactive tables.';\n",
              "          element.innerHTML = '';\n",
              "          dataTable['output_type'] = 'display_data';\n",
              "          await google.colab.output.renderOutput(dataTable, element);\n",
              "          const docLink = document.createElement('div');\n",
              "          docLink.innerHTML = docLinkHtml;\n",
              "          element.appendChild(docLink);\n",
              "        }\n",
              "      </script>\n",
              "    </div>\n",
              "  </div>\n",
              "  "
            ]
          },
          "metadata": {},
          "execution_count": 163
        }
      ]
    },
    {
      "cell_type": "code",
      "source": [
        "state_house = df2.copy()"
      ],
      "metadata": {
        "id": "CZbLpFW8NF5V"
      },
      "execution_count": null,
      "outputs": []
    },
    {
      "cell_type": "code",
      "source": [
        "state_house.info()"
      ],
      "metadata": {
        "colab": {
          "base_uri": "https://localhost:8080/"
        },
        "id": "rpc9HIK9NYjF",
        "outputId": "85b6d646-b021-4af3-a23c-099a06789b9f"
      },
      "execution_count": null,
      "outputs": [
        {
          "output_type": "stream",
          "name": "stdout",
          "text": [
            "<class 'pandas.core.frame.DataFrame'>\n",
            "Int64Index: 11045 entries, 1 to 13\n",
            "Data columns (total 11 columns):\n",
            " #   Column          Non-Null Count  Dtype \n",
            "---  ------          --------------  ----- \n",
            " 0   S/N             10999 non-null  object\n",
            " 1   STATE           10251 non-null  object\n",
            " 2   CONSTITUENCY    10251 non-null  object\n",
            " 3   PARTY           10251 non-null  object\n",
            " 4   POSITION        10251 non-null  object\n",
            " 5   CANDIDATE_NAME  10225 non-null  object\n",
            " 6   PWD             10207 non-null  object\n",
            " 7   AGE             10207 non-null  object\n",
            " 8   GENDER          10207 non-null  object\n",
            " 9   QUALIFICATIONS  9813 non-null   object\n",
            " 10  REMARKS         103 non-null    object\n",
            "dtypes: object(11)\n",
            "memory usage: 1.0+ MB\n"
          ]
        }
      ]
    },
    {
      "cell_type": "code",
      "source": [
        "state_house.replace(to_replace=[r\"\\\\t|\\\\n|\\\\r\", \"\\t|\\n|\\r\"], value=[\" \",\" \"], regex=True, inplace=True)"
      ],
      "metadata": {
        "id": "oyLGm7u7NHig"
      },
      "execution_count": null,
      "outputs": []
    },
    {
      "cell_type": "code",
      "source": [
        "state_house.rename(columns = {'candidate_name':'name of candidate'}, inplace = True)"
      ],
      "metadata": {
        "id": "B1BurRpRNwmt"
      },
      "execution_count": null,
      "outputs": []
    },
    {
      "cell_type": "code",
      "source": [
        "state_house.head()"
      ],
      "metadata": {
        "colab": {
          "base_uri": "https://localhost:8080/",
          "height": 337
        },
        "id": "Ef__rkOXNwd1",
        "outputId": "8eb0fe7d-d009-44b3-e9d8-99f88b0f01d2"
      },
      "execution_count": null,
      "outputs": [
        {
          "output_type": "execute_result",
          "data": {
            "text/plain": [
              "  S/N STATE    CONSTITUENCY PARTY                 POSITION  \\\n",
              "1   1  ABIA       ABA SOUTH     A  State House of Assembly   \n",
              "2   2  ABIA       UKWA EAST     A  State House of Assembly   \n",
              "3   3  ABIA         IKWUANO     A  State House of Assembly   \n",
              "4   4  ABIA  OSISIOMA NORTH     A  State House of Assembly   \n",
              "5   5  ABIA  OSISIOMA SOUTH     A  State House of Assembly   \n",
              "\n",
              "              CANDIDATE_NAME   PWD AGE GENDER QUALIFICATIONS REMARKS  \n",
              "1      EBERE SMART ONUABUCHI  None  62      M      FSLC WAEC     NaN  \n",
              "2    IHUTE PETER CHUKWUEMEKA  None  53      M           FSLC     NaN  \n",
              "3        OJI ERICO OKECHUKWU  None  52      M       FSLC SSC     NaN  \n",
              "4  ENYINNAH INNOCENT CHINTUA  None  64      M      FSLC WAEC     NaN  \n",
              "5      NWANKPA JOHN CHIJINDU  None  38      M      FSLC WAEC     NaN  "
            ],
            "text/html": [
              "\n",
              "  <div id=\"df-bd399689-5b8a-4dd7-8668-9abdf4155173\">\n",
              "    <div class=\"colab-df-container\">\n",
              "      <div>\n",
              "<style scoped>\n",
              "    .dataframe tbody tr th:only-of-type {\n",
              "        vertical-align: middle;\n",
              "    }\n",
              "\n",
              "    .dataframe tbody tr th {\n",
              "        vertical-align: top;\n",
              "    }\n",
              "\n",
              "    .dataframe thead th {\n",
              "        text-align: right;\n",
              "    }\n",
              "</style>\n",
              "<table border=\"1\" class=\"dataframe\">\n",
              "  <thead>\n",
              "    <tr style=\"text-align: right;\">\n",
              "      <th></th>\n",
              "      <th>S/N</th>\n",
              "      <th>STATE</th>\n",
              "      <th>CONSTITUENCY</th>\n",
              "      <th>PARTY</th>\n",
              "      <th>POSITION</th>\n",
              "      <th>CANDIDATE_NAME</th>\n",
              "      <th>PWD</th>\n",
              "      <th>AGE</th>\n",
              "      <th>GENDER</th>\n",
              "      <th>QUALIFICATIONS</th>\n",
              "      <th>REMARKS</th>\n",
              "    </tr>\n",
              "  </thead>\n",
              "  <tbody>\n",
              "    <tr>\n",
              "      <th>1</th>\n",
              "      <td>1</td>\n",
              "      <td>ABIA</td>\n",
              "      <td>ABA SOUTH</td>\n",
              "      <td>A</td>\n",
              "      <td>State House of Assembly</td>\n",
              "      <td>EBERE SMART ONUABUCHI</td>\n",
              "      <td>None</td>\n",
              "      <td>62</td>\n",
              "      <td>M</td>\n",
              "      <td>FSLC WAEC</td>\n",
              "      <td>NaN</td>\n",
              "    </tr>\n",
              "    <tr>\n",
              "      <th>2</th>\n",
              "      <td>2</td>\n",
              "      <td>ABIA</td>\n",
              "      <td>UKWA EAST</td>\n",
              "      <td>A</td>\n",
              "      <td>State House of Assembly</td>\n",
              "      <td>IHUTE PETER CHUKWUEMEKA</td>\n",
              "      <td>None</td>\n",
              "      <td>53</td>\n",
              "      <td>M</td>\n",
              "      <td>FSLC</td>\n",
              "      <td>NaN</td>\n",
              "    </tr>\n",
              "    <tr>\n",
              "      <th>3</th>\n",
              "      <td>3</td>\n",
              "      <td>ABIA</td>\n",
              "      <td>IKWUANO</td>\n",
              "      <td>A</td>\n",
              "      <td>State House of Assembly</td>\n",
              "      <td>OJI ERICO OKECHUKWU</td>\n",
              "      <td>None</td>\n",
              "      <td>52</td>\n",
              "      <td>M</td>\n",
              "      <td>FSLC SSC</td>\n",
              "      <td>NaN</td>\n",
              "    </tr>\n",
              "    <tr>\n",
              "      <th>4</th>\n",
              "      <td>4</td>\n",
              "      <td>ABIA</td>\n",
              "      <td>OSISIOMA NORTH</td>\n",
              "      <td>A</td>\n",
              "      <td>State House of Assembly</td>\n",
              "      <td>ENYINNAH INNOCENT CHINTUA</td>\n",
              "      <td>None</td>\n",
              "      <td>64</td>\n",
              "      <td>M</td>\n",
              "      <td>FSLC WAEC</td>\n",
              "      <td>NaN</td>\n",
              "    </tr>\n",
              "    <tr>\n",
              "      <th>5</th>\n",
              "      <td>5</td>\n",
              "      <td>ABIA</td>\n",
              "      <td>OSISIOMA SOUTH</td>\n",
              "      <td>A</td>\n",
              "      <td>State House of Assembly</td>\n",
              "      <td>NWANKPA JOHN CHIJINDU</td>\n",
              "      <td>None</td>\n",
              "      <td>38</td>\n",
              "      <td>M</td>\n",
              "      <td>FSLC WAEC</td>\n",
              "      <td>NaN</td>\n",
              "    </tr>\n",
              "  </tbody>\n",
              "</table>\n",
              "</div>\n",
              "      <button class=\"colab-df-convert\" onclick=\"convertToInteractive('df-bd399689-5b8a-4dd7-8668-9abdf4155173')\"\n",
              "              title=\"Convert this dataframe to an interactive table.\"\n",
              "              style=\"display:none;\">\n",
              "        \n",
              "  <svg xmlns=\"http://www.w3.org/2000/svg\" height=\"24px\"viewBox=\"0 0 24 24\"\n",
              "       width=\"24px\">\n",
              "    <path d=\"M0 0h24v24H0V0z\" fill=\"none\"/>\n",
              "    <path d=\"M18.56 5.44l.94 2.06.94-2.06 2.06-.94-2.06-.94-.94-2.06-.94 2.06-2.06.94zm-11 1L8.5 8.5l.94-2.06 2.06-.94-2.06-.94L8.5 2.5l-.94 2.06-2.06.94zm10 10l.94 2.06.94-2.06 2.06-.94-2.06-.94-.94-2.06-.94 2.06-2.06.94z\"/><path d=\"M17.41 7.96l-1.37-1.37c-.4-.4-.92-.59-1.43-.59-.52 0-1.04.2-1.43.59L10.3 9.45l-7.72 7.72c-.78.78-.78 2.05 0 2.83L4 21.41c.39.39.9.59 1.41.59.51 0 1.02-.2 1.41-.59l7.78-7.78 2.81-2.81c.8-.78.8-2.07 0-2.86zM5.41 20L4 18.59l7.72-7.72 1.47 1.35L5.41 20z\"/>\n",
              "  </svg>\n",
              "      </button>\n",
              "      \n",
              "  <style>\n",
              "    .colab-df-container {\n",
              "      display:flex;\n",
              "      flex-wrap:wrap;\n",
              "      gap: 12px;\n",
              "    }\n",
              "\n",
              "    .colab-df-convert {\n",
              "      background-color: #E8F0FE;\n",
              "      border: none;\n",
              "      border-radius: 50%;\n",
              "      cursor: pointer;\n",
              "      display: none;\n",
              "      fill: #1967D2;\n",
              "      height: 32px;\n",
              "      padding: 0 0 0 0;\n",
              "      width: 32px;\n",
              "    }\n",
              "\n",
              "    .colab-df-convert:hover {\n",
              "      background-color: #E2EBFA;\n",
              "      box-shadow: 0px 1px 2px rgba(60, 64, 67, 0.3), 0px 1px 3px 1px rgba(60, 64, 67, 0.15);\n",
              "      fill: #174EA6;\n",
              "    }\n",
              "\n",
              "    [theme=dark] .colab-df-convert {\n",
              "      background-color: #3B4455;\n",
              "      fill: #D2E3FC;\n",
              "    }\n",
              "\n",
              "    [theme=dark] .colab-df-convert:hover {\n",
              "      background-color: #434B5C;\n",
              "      box-shadow: 0px 1px 3px 1px rgba(0, 0, 0, 0.15);\n",
              "      filter: drop-shadow(0px 1px 2px rgba(0, 0, 0, 0.3));\n",
              "      fill: #FFFFFF;\n",
              "    }\n",
              "  </style>\n",
              "\n",
              "      <script>\n",
              "        const buttonEl =\n",
              "          document.querySelector('#df-bd399689-5b8a-4dd7-8668-9abdf4155173 button.colab-df-convert');\n",
              "        buttonEl.style.display =\n",
              "          google.colab.kernel.accessAllowed ? 'block' : 'none';\n",
              "\n",
              "        async function convertToInteractive(key) {\n",
              "          const element = document.querySelector('#df-bd399689-5b8a-4dd7-8668-9abdf4155173');\n",
              "          const dataTable =\n",
              "            await google.colab.kernel.invokeFunction('convertToInteractive',\n",
              "                                                     [key], {});\n",
              "          if (!dataTable) return;\n",
              "\n",
              "          const docLinkHtml = 'Like what you see? Visit the ' +\n",
              "            '<a target=\"_blank\" href=https://colab.research.google.com/notebooks/data_table.ipynb>data table notebook</a>'\n",
              "            + ' to learn more about interactive tables.';\n",
              "          element.innerHTML = '';\n",
              "          dataTable['output_type'] = 'display_data';\n",
              "          await google.colab.output.renderOutput(dataTable, element);\n",
              "          const docLink = document.createElement('div');\n",
              "          docLink.innerHTML = docLinkHtml;\n",
              "          element.appendChild(docLink);\n",
              "        }\n",
              "      </script>\n",
              "    </div>\n",
              "  </div>\n",
              "  "
            ]
          },
          "metadata": {},
          "execution_count": 168
        }
      ]
    },
    {
      "cell_type": "code",
      "source": [
        "state_house.columns = state_house.columns.str.lower()"
      ],
      "metadata": {
        "id": "ug9gABiVNwXd"
      },
      "execution_count": null,
      "outputs": []
    },
    {
      "cell_type": "code",
      "source": [
        "state_house.head()"
      ],
      "metadata": {
        "colab": {
          "base_uri": "https://localhost:8080/",
          "height": 337
        },
        "id": "V9CMRSMLNwNN",
        "outputId": "77dde610-02e2-4b44-c678-9e48b1c4a966"
      },
      "execution_count": null,
      "outputs": [
        {
          "output_type": "execute_result",
          "data": {
            "text/plain": [
              "  s/n state    constituency party                 position  \\\n",
              "1   1  ABIA       ABA SOUTH     A  State House of Assembly   \n",
              "2   2  ABIA       UKWA EAST     A  State House of Assembly   \n",
              "3   3  ABIA         IKWUANO     A  State House of Assembly   \n",
              "4   4  ABIA  OSISIOMA NORTH     A  State House of Assembly   \n",
              "5   5  ABIA  OSISIOMA SOUTH     A  State House of Assembly   \n",
              "\n",
              "              candidate_name   pwd age gender qualifications remarks  \n",
              "1      EBERE SMART ONUABUCHI  None  62      M      FSLC WAEC     NaN  \n",
              "2    IHUTE PETER CHUKWUEMEKA  None  53      M           FSLC     NaN  \n",
              "3        OJI ERICO OKECHUKWU  None  52      M       FSLC SSC     NaN  \n",
              "4  ENYINNAH INNOCENT CHINTUA  None  64      M      FSLC WAEC     NaN  \n",
              "5      NWANKPA JOHN CHIJINDU  None  38      M      FSLC WAEC     NaN  "
            ],
            "text/html": [
              "\n",
              "  <div id=\"df-8ff24c8b-d50c-4f3f-a35b-0b06970af313\">\n",
              "    <div class=\"colab-df-container\">\n",
              "      <div>\n",
              "<style scoped>\n",
              "    .dataframe tbody tr th:only-of-type {\n",
              "        vertical-align: middle;\n",
              "    }\n",
              "\n",
              "    .dataframe tbody tr th {\n",
              "        vertical-align: top;\n",
              "    }\n",
              "\n",
              "    .dataframe thead th {\n",
              "        text-align: right;\n",
              "    }\n",
              "</style>\n",
              "<table border=\"1\" class=\"dataframe\">\n",
              "  <thead>\n",
              "    <tr style=\"text-align: right;\">\n",
              "      <th></th>\n",
              "      <th>s/n</th>\n",
              "      <th>state</th>\n",
              "      <th>constituency</th>\n",
              "      <th>party</th>\n",
              "      <th>position</th>\n",
              "      <th>candidate_name</th>\n",
              "      <th>pwd</th>\n",
              "      <th>age</th>\n",
              "      <th>gender</th>\n",
              "      <th>qualifications</th>\n",
              "      <th>remarks</th>\n",
              "    </tr>\n",
              "  </thead>\n",
              "  <tbody>\n",
              "    <tr>\n",
              "      <th>1</th>\n",
              "      <td>1</td>\n",
              "      <td>ABIA</td>\n",
              "      <td>ABA SOUTH</td>\n",
              "      <td>A</td>\n",
              "      <td>State House of Assembly</td>\n",
              "      <td>EBERE SMART ONUABUCHI</td>\n",
              "      <td>None</td>\n",
              "      <td>62</td>\n",
              "      <td>M</td>\n",
              "      <td>FSLC WAEC</td>\n",
              "      <td>NaN</td>\n",
              "    </tr>\n",
              "    <tr>\n",
              "      <th>2</th>\n",
              "      <td>2</td>\n",
              "      <td>ABIA</td>\n",
              "      <td>UKWA EAST</td>\n",
              "      <td>A</td>\n",
              "      <td>State House of Assembly</td>\n",
              "      <td>IHUTE PETER CHUKWUEMEKA</td>\n",
              "      <td>None</td>\n",
              "      <td>53</td>\n",
              "      <td>M</td>\n",
              "      <td>FSLC</td>\n",
              "      <td>NaN</td>\n",
              "    </tr>\n",
              "    <tr>\n",
              "      <th>3</th>\n",
              "      <td>3</td>\n",
              "      <td>ABIA</td>\n",
              "      <td>IKWUANO</td>\n",
              "      <td>A</td>\n",
              "      <td>State House of Assembly</td>\n",
              "      <td>OJI ERICO OKECHUKWU</td>\n",
              "      <td>None</td>\n",
              "      <td>52</td>\n",
              "      <td>M</td>\n",
              "      <td>FSLC SSC</td>\n",
              "      <td>NaN</td>\n",
              "    </tr>\n",
              "    <tr>\n",
              "      <th>4</th>\n",
              "      <td>4</td>\n",
              "      <td>ABIA</td>\n",
              "      <td>OSISIOMA NORTH</td>\n",
              "      <td>A</td>\n",
              "      <td>State House of Assembly</td>\n",
              "      <td>ENYINNAH INNOCENT CHINTUA</td>\n",
              "      <td>None</td>\n",
              "      <td>64</td>\n",
              "      <td>M</td>\n",
              "      <td>FSLC WAEC</td>\n",
              "      <td>NaN</td>\n",
              "    </tr>\n",
              "    <tr>\n",
              "      <th>5</th>\n",
              "      <td>5</td>\n",
              "      <td>ABIA</td>\n",
              "      <td>OSISIOMA SOUTH</td>\n",
              "      <td>A</td>\n",
              "      <td>State House of Assembly</td>\n",
              "      <td>NWANKPA JOHN CHIJINDU</td>\n",
              "      <td>None</td>\n",
              "      <td>38</td>\n",
              "      <td>M</td>\n",
              "      <td>FSLC WAEC</td>\n",
              "      <td>NaN</td>\n",
              "    </tr>\n",
              "  </tbody>\n",
              "</table>\n",
              "</div>\n",
              "      <button class=\"colab-df-convert\" onclick=\"convertToInteractive('df-8ff24c8b-d50c-4f3f-a35b-0b06970af313')\"\n",
              "              title=\"Convert this dataframe to an interactive table.\"\n",
              "              style=\"display:none;\">\n",
              "        \n",
              "  <svg xmlns=\"http://www.w3.org/2000/svg\" height=\"24px\"viewBox=\"0 0 24 24\"\n",
              "       width=\"24px\">\n",
              "    <path d=\"M0 0h24v24H0V0z\" fill=\"none\"/>\n",
              "    <path d=\"M18.56 5.44l.94 2.06.94-2.06 2.06-.94-2.06-.94-.94-2.06-.94 2.06-2.06.94zm-11 1L8.5 8.5l.94-2.06 2.06-.94-2.06-.94L8.5 2.5l-.94 2.06-2.06.94zm10 10l.94 2.06.94-2.06 2.06-.94-2.06-.94-.94-2.06-.94 2.06-2.06.94z\"/><path d=\"M17.41 7.96l-1.37-1.37c-.4-.4-.92-.59-1.43-.59-.52 0-1.04.2-1.43.59L10.3 9.45l-7.72 7.72c-.78.78-.78 2.05 0 2.83L4 21.41c.39.39.9.59 1.41.59.51 0 1.02-.2 1.41-.59l7.78-7.78 2.81-2.81c.8-.78.8-2.07 0-2.86zM5.41 20L4 18.59l7.72-7.72 1.47 1.35L5.41 20z\"/>\n",
              "  </svg>\n",
              "      </button>\n",
              "      \n",
              "  <style>\n",
              "    .colab-df-container {\n",
              "      display:flex;\n",
              "      flex-wrap:wrap;\n",
              "      gap: 12px;\n",
              "    }\n",
              "\n",
              "    .colab-df-convert {\n",
              "      background-color: #E8F0FE;\n",
              "      border: none;\n",
              "      border-radius: 50%;\n",
              "      cursor: pointer;\n",
              "      display: none;\n",
              "      fill: #1967D2;\n",
              "      height: 32px;\n",
              "      padding: 0 0 0 0;\n",
              "      width: 32px;\n",
              "    }\n",
              "\n",
              "    .colab-df-convert:hover {\n",
              "      background-color: #E2EBFA;\n",
              "      box-shadow: 0px 1px 2px rgba(60, 64, 67, 0.3), 0px 1px 3px 1px rgba(60, 64, 67, 0.15);\n",
              "      fill: #174EA6;\n",
              "    }\n",
              "\n",
              "    [theme=dark] .colab-df-convert {\n",
              "      background-color: #3B4455;\n",
              "      fill: #D2E3FC;\n",
              "    }\n",
              "\n",
              "    [theme=dark] .colab-df-convert:hover {\n",
              "      background-color: #434B5C;\n",
              "      box-shadow: 0px 1px 3px 1px rgba(0, 0, 0, 0.15);\n",
              "      filter: drop-shadow(0px 1px 2px rgba(0, 0, 0, 0.3));\n",
              "      fill: #FFFFFF;\n",
              "    }\n",
              "  </style>\n",
              "\n",
              "      <script>\n",
              "        const buttonEl =\n",
              "          document.querySelector('#df-8ff24c8b-d50c-4f3f-a35b-0b06970af313 button.colab-df-convert');\n",
              "        buttonEl.style.display =\n",
              "          google.colab.kernel.accessAllowed ? 'block' : 'none';\n",
              "\n",
              "        async function convertToInteractive(key) {\n",
              "          const element = document.querySelector('#df-8ff24c8b-d50c-4f3f-a35b-0b06970af313');\n",
              "          const dataTable =\n",
              "            await google.colab.kernel.invokeFunction('convertToInteractive',\n",
              "                                                     [key], {});\n",
              "          if (!dataTable) return;\n",
              "\n",
              "          const docLinkHtml = 'Like what you see? Visit the ' +\n",
              "            '<a target=\"_blank\" href=https://colab.research.google.com/notebooks/data_table.ipynb>data table notebook</a>'\n",
              "            + ' to learn more about interactive tables.';\n",
              "          element.innerHTML = '';\n",
              "          dataTable['output_type'] = 'display_data';\n",
              "          await google.colab.output.renderOutput(dataTable, element);\n",
              "          const docLink = document.createElement('div');\n",
              "          docLink.innerHTML = docLinkHtml;\n",
              "          element.appendChild(docLink);\n",
              "        }\n",
              "      </script>\n",
              "    </div>\n",
              "  </div>\n",
              "  "
            ]
          },
          "metadata": {},
          "execution_count": 170
        }
      ]
    },
    {
      "cell_type": "code",
      "source": [
        "state_house.rename(columns = {'candidate_name':'name of candidate'}, inplace = True)"
      ],
      "metadata": {
        "id": "a4h6R_lEOwBJ"
      },
      "execution_count": null,
      "outputs": []
    },
    {
      "cell_type": "code",
      "source": [
        "state_house.head()"
      ],
      "metadata": {
        "colab": {
          "base_uri": "https://localhost:8080/",
          "height": 337
        },
        "id": "svw1HlSwO3Kt",
        "outputId": "9bb59577-eb56-4127-f74b-cb63c7314fa3"
      },
      "execution_count": null,
      "outputs": [
        {
          "output_type": "execute_result",
          "data": {
            "text/plain": [
              "  s/n state    constituency party                 position  \\\n",
              "1   1  ABIA       ABA SOUTH     A  State House of Assembly   \n",
              "2   2  ABIA       UKWA EAST     A  State House of Assembly   \n",
              "3   3  ABIA         IKWUANO     A  State House of Assembly   \n",
              "4   4  ABIA  OSISIOMA NORTH     A  State House of Assembly   \n",
              "5   5  ABIA  OSISIOMA SOUTH     A  State House of Assembly   \n",
              "\n",
              "           name of candidate   pwd age gender qualifications remarks  \n",
              "1      EBERE SMART ONUABUCHI  None  62      M      FSLC WAEC     NaN  \n",
              "2    IHUTE PETER CHUKWUEMEKA  None  53      M           FSLC     NaN  \n",
              "3        OJI ERICO OKECHUKWU  None  52      M       FSLC SSC     NaN  \n",
              "4  ENYINNAH INNOCENT CHINTUA  None  64      M      FSLC WAEC     NaN  \n",
              "5      NWANKPA JOHN CHIJINDU  None  38      M      FSLC WAEC     NaN  "
            ],
            "text/html": [
              "\n",
              "  <div id=\"df-175c73de-a5c1-45e8-9d2a-5ec82f0f0c81\">\n",
              "    <div class=\"colab-df-container\">\n",
              "      <div>\n",
              "<style scoped>\n",
              "    .dataframe tbody tr th:only-of-type {\n",
              "        vertical-align: middle;\n",
              "    }\n",
              "\n",
              "    .dataframe tbody tr th {\n",
              "        vertical-align: top;\n",
              "    }\n",
              "\n",
              "    .dataframe thead th {\n",
              "        text-align: right;\n",
              "    }\n",
              "</style>\n",
              "<table border=\"1\" class=\"dataframe\">\n",
              "  <thead>\n",
              "    <tr style=\"text-align: right;\">\n",
              "      <th></th>\n",
              "      <th>s/n</th>\n",
              "      <th>state</th>\n",
              "      <th>constituency</th>\n",
              "      <th>party</th>\n",
              "      <th>position</th>\n",
              "      <th>name of candidate</th>\n",
              "      <th>pwd</th>\n",
              "      <th>age</th>\n",
              "      <th>gender</th>\n",
              "      <th>qualifications</th>\n",
              "      <th>remarks</th>\n",
              "    </tr>\n",
              "  </thead>\n",
              "  <tbody>\n",
              "    <tr>\n",
              "      <th>1</th>\n",
              "      <td>1</td>\n",
              "      <td>ABIA</td>\n",
              "      <td>ABA SOUTH</td>\n",
              "      <td>A</td>\n",
              "      <td>State House of Assembly</td>\n",
              "      <td>EBERE SMART ONUABUCHI</td>\n",
              "      <td>None</td>\n",
              "      <td>62</td>\n",
              "      <td>M</td>\n",
              "      <td>FSLC WAEC</td>\n",
              "      <td>NaN</td>\n",
              "    </tr>\n",
              "    <tr>\n",
              "      <th>2</th>\n",
              "      <td>2</td>\n",
              "      <td>ABIA</td>\n",
              "      <td>UKWA EAST</td>\n",
              "      <td>A</td>\n",
              "      <td>State House of Assembly</td>\n",
              "      <td>IHUTE PETER CHUKWUEMEKA</td>\n",
              "      <td>None</td>\n",
              "      <td>53</td>\n",
              "      <td>M</td>\n",
              "      <td>FSLC</td>\n",
              "      <td>NaN</td>\n",
              "    </tr>\n",
              "    <tr>\n",
              "      <th>3</th>\n",
              "      <td>3</td>\n",
              "      <td>ABIA</td>\n",
              "      <td>IKWUANO</td>\n",
              "      <td>A</td>\n",
              "      <td>State House of Assembly</td>\n",
              "      <td>OJI ERICO OKECHUKWU</td>\n",
              "      <td>None</td>\n",
              "      <td>52</td>\n",
              "      <td>M</td>\n",
              "      <td>FSLC SSC</td>\n",
              "      <td>NaN</td>\n",
              "    </tr>\n",
              "    <tr>\n",
              "      <th>4</th>\n",
              "      <td>4</td>\n",
              "      <td>ABIA</td>\n",
              "      <td>OSISIOMA NORTH</td>\n",
              "      <td>A</td>\n",
              "      <td>State House of Assembly</td>\n",
              "      <td>ENYINNAH INNOCENT CHINTUA</td>\n",
              "      <td>None</td>\n",
              "      <td>64</td>\n",
              "      <td>M</td>\n",
              "      <td>FSLC WAEC</td>\n",
              "      <td>NaN</td>\n",
              "    </tr>\n",
              "    <tr>\n",
              "      <th>5</th>\n",
              "      <td>5</td>\n",
              "      <td>ABIA</td>\n",
              "      <td>OSISIOMA SOUTH</td>\n",
              "      <td>A</td>\n",
              "      <td>State House of Assembly</td>\n",
              "      <td>NWANKPA JOHN CHIJINDU</td>\n",
              "      <td>None</td>\n",
              "      <td>38</td>\n",
              "      <td>M</td>\n",
              "      <td>FSLC WAEC</td>\n",
              "      <td>NaN</td>\n",
              "    </tr>\n",
              "  </tbody>\n",
              "</table>\n",
              "</div>\n",
              "      <button class=\"colab-df-convert\" onclick=\"convertToInteractive('df-175c73de-a5c1-45e8-9d2a-5ec82f0f0c81')\"\n",
              "              title=\"Convert this dataframe to an interactive table.\"\n",
              "              style=\"display:none;\">\n",
              "        \n",
              "  <svg xmlns=\"http://www.w3.org/2000/svg\" height=\"24px\"viewBox=\"0 0 24 24\"\n",
              "       width=\"24px\">\n",
              "    <path d=\"M0 0h24v24H0V0z\" fill=\"none\"/>\n",
              "    <path d=\"M18.56 5.44l.94 2.06.94-2.06 2.06-.94-2.06-.94-.94-2.06-.94 2.06-2.06.94zm-11 1L8.5 8.5l.94-2.06 2.06-.94-2.06-.94L8.5 2.5l-.94 2.06-2.06.94zm10 10l.94 2.06.94-2.06 2.06-.94-2.06-.94-.94-2.06-.94 2.06-2.06.94z\"/><path d=\"M17.41 7.96l-1.37-1.37c-.4-.4-.92-.59-1.43-.59-.52 0-1.04.2-1.43.59L10.3 9.45l-7.72 7.72c-.78.78-.78 2.05 0 2.83L4 21.41c.39.39.9.59 1.41.59.51 0 1.02-.2 1.41-.59l7.78-7.78 2.81-2.81c.8-.78.8-2.07 0-2.86zM5.41 20L4 18.59l7.72-7.72 1.47 1.35L5.41 20z\"/>\n",
              "  </svg>\n",
              "      </button>\n",
              "      \n",
              "  <style>\n",
              "    .colab-df-container {\n",
              "      display:flex;\n",
              "      flex-wrap:wrap;\n",
              "      gap: 12px;\n",
              "    }\n",
              "\n",
              "    .colab-df-convert {\n",
              "      background-color: #E8F0FE;\n",
              "      border: none;\n",
              "      border-radius: 50%;\n",
              "      cursor: pointer;\n",
              "      display: none;\n",
              "      fill: #1967D2;\n",
              "      height: 32px;\n",
              "      padding: 0 0 0 0;\n",
              "      width: 32px;\n",
              "    }\n",
              "\n",
              "    .colab-df-convert:hover {\n",
              "      background-color: #E2EBFA;\n",
              "      box-shadow: 0px 1px 2px rgba(60, 64, 67, 0.3), 0px 1px 3px 1px rgba(60, 64, 67, 0.15);\n",
              "      fill: #174EA6;\n",
              "    }\n",
              "\n",
              "    [theme=dark] .colab-df-convert {\n",
              "      background-color: #3B4455;\n",
              "      fill: #D2E3FC;\n",
              "    }\n",
              "\n",
              "    [theme=dark] .colab-df-convert:hover {\n",
              "      background-color: #434B5C;\n",
              "      box-shadow: 0px 1px 3px 1px rgba(0, 0, 0, 0.15);\n",
              "      filter: drop-shadow(0px 1px 2px rgba(0, 0, 0, 0.3));\n",
              "      fill: #FFFFFF;\n",
              "    }\n",
              "  </style>\n",
              "\n",
              "      <script>\n",
              "        const buttonEl =\n",
              "          document.querySelector('#df-175c73de-a5c1-45e8-9d2a-5ec82f0f0c81 button.colab-df-convert');\n",
              "        buttonEl.style.display =\n",
              "          google.colab.kernel.accessAllowed ? 'block' : 'none';\n",
              "\n",
              "        async function convertToInteractive(key) {\n",
              "          const element = document.querySelector('#df-175c73de-a5c1-45e8-9d2a-5ec82f0f0c81');\n",
              "          const dataTable =\n",
              "            await google.colab.kernel.invokeFunction('convertToInteractive',\n",
              "                                                     [key], {});\n",
              "          if (!dataTable) return;\n",
              "\n",
              "          const docLinkHtml = 'Like what you see? Visit the ' +\n",
              "            '<a target=\"_blank\" href=https://colab.research.google.com/notebooks/data_table.ipynb>data table notebook</a>'\n",
              "            + ' to learn more about interactive tables.';\n",
              "          element.innerHTML = '';\n",
              "          dataTable['output_type'] = 'display_data';\n",
              "          await google.colab.output.renderOutput(dataTable, element);\n",
              "          const docLink = document.createElement('div');\n",
              "          docLink.innerHTML = docLinkHtml;\n",
              "          element.appendChild(docLink);\n",
              "        }\n",
              "      </script>\n",
              "    </div>\n",
              "  </div>\n",
              "  "
            ]
          },
          "metadata": {},
          "execution_count": 172
        }
      ]
    },
    {
      "cell_type": "code",
      "source": [
        "state_house.state.unique()"
      ],
      "metadata": {
        "colab": {
          "base_uri": "https://localhost:8080/"
        },
        "id": "mBjbPeIrO9zd",
        "outputId": "62811332-278f-4b71-9353-7c7d7a3cc0ba"
      },
      "execution_count": null,
      "outputs": [
        {
          "output_type": "execute_result",
          "data": {
            "text/plain": [
              "array(['ABIA', nan, 'STATE', 'ADAMAWA', 'AKWA IBOM', 'ANAMBRA', 'BAUCHI',\n",
              "       'BAYELSA', 'BENUE', 'BORNO', 'CROSS River', 'DELTA', 'EBONYI',\n",
              "       'EDO', 'EKITI', 'ENUGU', 'GOMBE', 'IMO', 'JIGAWA', 'KADUNA',\n",
              "       'KANO', 'KATSINA', 'KEBBI', 'KOGI', 'KWARA', 'LAGOS', 'NASARAWA',\n",
              "       'NIGER', 'OGUN', 'ONDO', 'OSUN', 'OYO', 'PLATEAU', 'RIVERS',\n",
              "       'SOKOTO', 'TARABA', 'YOBE', 'ZAMFARA'], dtype=object)"
            ]
          },
          "metadata": {},
          "execution_count": 173
        }
      ]
    },
    {
      "cell_type": "code",
      "source": [
        "state_house.state.nunique()"
      ],
      "metadata": {
        "colab": {
          "base_uri": "https://localhost:8080/"
        },
        "id": "dlW00HlIO9r1",
        "outputId": "0afc9929-6c43-4b6d-f1ca-933cc16ea45e"
      },
      "execution_count": null,
      "outputs": [
        {
          "output_type": "execute_result",
          "data": {
            "text/plain": [
              "37"
            ]
          },
          "metadata": {},
          "execution_count": 174
        }
      ]
    },
    {
      "cell_type": "code",
      "source": [
        "s =  state_house[state_house['state']=='STATE']\n",
        "s.shape"
      ],
      "metadata": {
        "colab": {
          "base_uri": "https://localhost:8080/"
        },
        "id": "gRN4psIYO9nn",
        "outputId": "e44e8437-0116-4d94-dda0-60c5f9e8011f"
      },
      "execution_count": null,
      "outputs": [
        {
          "output_type": "execute_result",
          "data": {
            "text/plain": [
              "(34, 11)"
            ]
          },
          "metadata": {},
          "execution_count": 175
        }
      ]
    },
    {
      "cell_type": "code",
      "source": [
        "state_house2 = state_house[state_house['state'].str.contains(\"STATE\") == False]"
      ],
      "metadata": {
        "id": "sUsCWNhuO9kQ"
      },
      "execution_count": null,
      "outputs": []
    },
    {
      "cell_type": "code",
      "source": [
        "state_house2.state.nunique()"
      ],
      "metadata": {
        "colab": {
          "base_uri": "https://localhost:8080/"
        },
        "id": "e0aW5bWHO9g9",
        "outputId": "2cb4302a-a7a2-4b7f-9b87-6b7c37d5b4d6"
      },
      "execution_count": null,
      "outputs": [
        {
          "output_type": "execute_result",
          "data": {
            "text/plain": [
              "36"
            ]
          },
          "metadata": {},
          "execution_count": 177
        }
      ]
    },
    {
      "cell_type": "code",
      "source": [
        "print(state_house2.duplicated().sum())"
      ],
      "metadata": {
        "colab": {
          "base_uri": "https://localhost:8080/"
        },
        "id": "WONJLzfMO9a2",
        "outputId": "e93ad3e6-5bde-4219-e932-ff2d4edc1fa4"
      },
      "execution_count": null,
      "outputs": [
        {
          "output_type": "stream",
          "name": "stdout",
          "text": [
            "0\n"
          ]
        }
      ]
    },
    {
      "cell_type": "code",
      "source": [
        "state_house2.tail(5)"
      ],
      "metadata": {
        "colab": {
          "base_uri": "https://localhost:8080/",
          "height": 354
        },
        "id": "wP1j8GreO9O9",
        "outputId": "d46b9f50-2c3d-499f-9b10-1118ac01904a"
      },
      "execution_count": null,
      "outputs": [
        {
          "output_type": "execute_result",
          "data": {
            "text/plain": [
              "      s/n    state    constituency party                 position  \\\n",
              "9   10227  ZAMFARA         GUMMI I   YPP  State House of Assembly   \n",
              "10  10228  ZAMFARA      TSAFE WEST   YPP  State House of Assembly   \n",
              "11  10229  ZAMFARA          BAKURA   YPP  State House of Assembly   \n",
              "12  10230  ZAMFARA      GUSAU WEST   ZLP  State House of Assembly   \n",
              "13  10231  ZAMFARA  BUKKUYUM SOUTH   ZLP  State House of Assembly   \n",
              "\n",
              "      name of candidate   pwd age gender qualifications remarks  \n",
              "9          S/GARI BELLO  None  35      M  FSLC NECO NCE     NaN  \n",
              "10        SHAFIA HASSAN  None  34      M      FSLC WAEC     NaN  \n",
              "11         YUSUF SALISU  None  25      M      FSLC SSCE     NaN  \n",
              "12  ALIYU IBRAHIM GUSAU  None  30      M           NECO     NaN  \n",
              "13  LAWAL BASHIR MASAMA  None  28      M           NECO     NaN  "
            ],
            "text/html": [
              "\n",
              "  <div id=\"df-3eadc2b8-7466-42f3-bdc3-b00584d26c00\">\n",
              "    <div class=\"colab-df-container\">\n",
              "      <div>\n",
              "<style scoped>\n",
              "    .dataframe tbody tr th:only-of-type {\n",
              "        vertical-align: middle;\n",
              "    }\n",
              "\n",
              "    .dataframe tbody tr th {\n",
              "        vertical-align: top;\n",
              "    }\n",
              "\n",
              "    .dataframe thead th {\n",
              "        text-align: right;\n",
              "    }\n",
              "</style>\n",
              "<table border=\"1\" class=\"dataframe\">\n",
              "  <thead>\n",
              "    <tr style=\"text-align: right;\">\n",
              "      <th></th>\n",
              "      <th>s/n</th>\n",
              "      <th>state</th>\n",
              "      <th>constituency</th>\n",
              "      <th>party</th>\n",
              "      <th>position</th>\n",
              "      <th>name of candidate</th>\n",
              "      <th>pwd</th>\n",
              "      <th>age</th>\n",
              "      <th>gender</th>\n",
              "      <th>qualifications</th>\n",
              "      <th>remarks</th>\n",
              "    </tr>\n",
              "  </thead>\n",
              "  <tbody>\n",
              "    <tr>\n",
              "      <th>9</th>\n",
              "      <td>10227</td>\n",
              "      <td>ZAMFARA</td>\n",
              "      <td>GUMMI I</td>\n",
              "      <td>YPP</td>\n",
              "      <td>State House of Assembly</td>\n",
              "      <td>S/GARI BELLO</td>\n",
              "      <td>None</td>\n",
              "      <td>35</td>\n",
              "      <td>M</td>\n",
              "      <td>FSLC NECO NCE</td>\n",
              "      <td>NaN</td>\n",
              "    </tr>\n",
              "    <tr>\n",
              "      <th>10</th>\n",
              "      <td>10228</td>\n",
              "      <td>ZAMFARA</td>\n",
              "      <td>TSAFE WEST</td>\n",
              "      <td>YPP</td>\n",
              "      <td>State House of Assembly</td>\n",
              "      <td>SHAFIA HASSAN</td>\n",
              "      <td>None</td>\n",
              "      <td>34</td>\n",
              "      <td>M</td>\n",
              "      <td>FSLC WAEC</td>\n",
              "      <td>NaN</td>\n",
              "    </tr>\n",
              "    <tr>\n",
              "      <th>11</th>\n",
              "      <td>10229</td>\n",
              "      <td>ZAMFARA</td>\n",
              "      <td>BAKURA</td>\n",
              "      <td>YPP</td>\n",
              "      <td>State House of Assembly</td>\n",
              "      <td>YUSUF SALISU</td>\n",
              "      <td>None</td>\n",
              "      <td>25</td>\n",
              "      <td>M</td>\n",
              "      <td>FSLC SSCE</td>\n",
              "      <td>NaN</td>\n",
              "    </tr>\n",
              "    <tr>\n",
              "      <th>12</th>\n",
              "      <td>10230</td>\n",
              "      <td>ZAMFARA</td>\n",
              "      <td>GUSAU WEST</td>\n",
              "      <td>ZLP</td>\n",
              "      <td>State House of Assembly</td>\n",
              "      <td>ALIYU IBRAHIM GUSAU</td>\n",
              "      <td>None</td>\n",
              "      <td>30</td>\n",
              "      <td>M</td>\n",
              "      <td>NECO</td>\n",
              "      <td>NaN</td>\n",
              "    </tr>\n",
              "    <tr>\n",
              "      <th>13</th>\n",
              "      <td>10231</td>\n",
              "      <td>ZAMFARA</td>\n",
              "      <td>BUKKUYUM SOUTH</td>\n",
              "      <td>ZLP</td>\n",
              "      <td>State House of Assembly</td>\n",
              "      <td>LAWAL BASHIR MASAMA</td>\n",
              "      <td>None</td>\n",
              "      <td>28</td>\n",
              "      <td>M</td>\n",
              "      <td>NECO</td>\n",
              "      <td>NaN</td>\n",
              "    </tr>\n",
              "  </tbody>\n",
              "</table>\n",
              "</div>\n",
              "      <button class=\"colab-df-convert\" onclick=\"convertToInteractive('df-3eadc2b8-7466-42f3-bdc3-b00584d26c00')\"\n",
              "              title=\"Convert this dataframe to an interactive table.\"\n",
              "              style=\"display:none;\">\n",
              "        \n",
              "  <svg xmlns=\"http://www.w3.org/2000/svg\" height=\"24px\"viewBox=\"0 0 24 24\"\n",
              "       width=\"24px\">\n",
              "    <path d=\"M0 0h24v24H0V0z\" fill=\"none\"/>\n",
              "    <path d=\"M18.56 5.44l.94 2.06.94-2.06 2.06-.94-2.06-.94-.94-2.06-.94 2.06-2.06.94zm-11 1L8.5 8.5l.94-2.06 2.06-.94-2.06-.94L8.5 2.5l-.94 2.06-2.06.94zm10 10l.94 2.06.94-2.06 2.06-.94-2.06-.94-.94-2.06-.94 2.06-2.06.94z\"/><path d=\"M17.41 7.96l-1.37-1.37c-.4-.4-.92-.59-1.43-.59-.52 0-1.04.2-1.43.59L10.3 9.45l-7.72 7.72c-.78.78-.78 2.05 0 2.83L4 21.41c.39.39.9.59 1.41.59.51 0 1.02-.2 1.41-.59l7.78-7.78 2.81-2.81c.8-.78.8-2.07 0-2.86zM5.41 20L4 18.59l7.72-7.72 1.47 1.35L5.41 20z\"/>\n",
              "  </svg>\n",
              "      </button>\n",
              "      \n",
              "  <style>\n",
              "    .colab-df-container {\n",
              "      display:flex;\n",
              "      flex-wrap:wrap;\n",
              "      gap: 12px;\n",
              "    }\n",
              "\n",
              "    .colab-df-convert {\n",
              "      background-color: #E8F0FE;\n",
              "      border: none;\n",
              "      border-radius: 50%;\n",
              "      cursor: pointer;\n",
              "      display: none;\n",
              "      fill: #1967D2;\n",
              "      height: 32px;\n",
              "      padding: 0 0 0 0;\n",
              "      width: 32px;\n",
              "    }\n",
              "\n",
              "    .colab-df-convert:hover {\n",
              "      background-color: #E2EBFA;\n",
              "      box-shadow: 0px 1px 2px rgba(60, 64, 67, 0.3), 0px 1px 3px 1px rgba(60, 64, 67, 0.15);\n",
              "      fill: #174EA6;\n",
              "    }\n",
              "\n",
              "    [theme=dark] .colab-df-convert {\n",
              "      background-color: #3B4455;\n",
              "      fill: #D2E3FC;\n",
              "    }\n",
              "\n",
              "    [theme=dark] .colab-df-convert:hover {\n",
              "      background-color: #434B5C;\n",
              "      box-shadow: 0px 1px 3px 1px rgba(0, 0, 0, 0.15);\n",
              "      filter: drop-shadow(0px 1px 2px rgba(0, 0, 0, 0.3));\n",
              "      fill: #FFFFFF;\n",
              "    }\n",
              "  </style>\n",
              "\n",
              "      <script>\n",
              "        const buttonEl =\n",
              "          document.querySelector('#df-3eadc2b8-7466-42f3-bdc3-b00584d26c00 button.colab-df-convert');\n",
              "        buttonEl.style.display =\n",
              "          google.colab.kernel.accessAllowed ? 'block' : 'none';\n",
              "\n",
              "        async function convertToInteractive(key) {\n",
              "          const element = document.querySelector('#df-3eadc2b8-7466-42f3-bdc3-b00584d26c00');\n",
              "          const dataTable =\n",
              "            await google.colab.kernel.invokeFunction('convertToInteractive',\n",
              "                                                     [key], {});\n",
              "          if (!dataTable) return;\n",
              "\n",
              "          const docLinkHtml = 'Like what you see? Visit the ' +\n",
              "            '<a target=\"_blank\" href=https://colab.research.google.com/notebooks/data_table.ipynb>data table notebook</a>'\n",
              "            + ' to learn more about interactive tables.';\n",
              "          element.innerHTML = '';\n",
              "          dataTable['output_type'] = 'display_data';\n",
              "          await google.colab.output.renderOutput(dataTable, element);\n",
              "          const docLink = document.createElement('div');\n",
              "          docLink.innerHTML = docLinkHtml;\n",
              "          element.appendChild(docLink);\n",
              "        }\n",
              "      </script>\n",
              "    </div>\n",
              "  </div>\n",
              "  "
            ]
          },
          "metadata": {},
          "execution_count": 179
        }
      ]
    },
    {
      "cell_type": "code",
      "source": [
        "states = [\"Abia\",\n",
        "  \"Adamawa\",\n",
        "  \"Akwa Ibom\",\n",
        "  \"Anambra\",\n",
        "  \"Bauchi\",\n",
        "  \"Bayelsa\",\n",
        "  \"Benue\",\n",
        "  \"Borno\",\n",
        "  \"Cross River\",\n",
        "  \"Delta\",\n",
        "  \"Ebonyi\",\n",
        "  \"Edo\",\n",
        "  \"Ekiti\",\n",
        "  \"Enugu\",\n",
        "  \"FCT - Abuja\",\n",
        "  \"Gombe\",\n",
        "  \"Imo\",\n",
        "  \"Jigawa\",\n",
        "  \"Kaduna\",\n",
        "  \"Kano\",\n",
        "  \"Katsina\",\n",
        "  \"Kebbi\",\n",
        "  \"Kogi\",\n",
        "  \"Kwara\",\n",
        "  \"Lagos\",\n",
        "  \"Nasarawa\",\n",
        "  \"Niger\",\n",
        "  \"Ogun\",\n",
        "  \"Ondo\",\n",
        "  \"Osun\",\n",
        "  \"Oyo\",\n",
        "  \"Plateau\",\n",
        "  \"Rivers\",\n",
        "  \"Sokoto\",\n",
        "  \"Taraba\",\n",
        "  \"Yobe\",\n",
        "  \"Zamfara\"\n",
        "]"
      ],
      "metadata": {
        "id": "UMtx--4aQVFN"
      },
      "execution_count": null,
      "outputs": []
    },
    {
      "cell_type": "code",
      "source": [
        "states = [state.upper() for state in states]\n",
        "print(states)"
      ],
      "metadata": {
        "colab": {
          "base_uri": "https://localhost:8080/"
        },
        "id": "ZnoPBYmeS_tE",
        "outputId": "65d6cb20-5d1b-47a4-9e04-1d21f803d4e2"
      },
      "execution_count": null,
      "outputs": [
        {
          "output_type": "stream",
          "name": "stdout",
          "text": [
            "['ABIA', 'ADAMAWA', 'AKWA IBOM', 'ANAMBRA', 'BAUCHI', 'BAYELSA', 'BENUE', 'BORNO', 'CROSS RIVER', 'DELTA', 'EBONYI', 'EDO', 'EKITI', 'ENUGU', 'FCT - ABUJA', 'GOMBE', 'IMO', 'JIGAWA', 'KADUNA', 'KANO', 'KATSINA', 'KEBBI', 'KOGI', 'KWARA', 'LAGOS', 'NASARAWA', 'NIGER', 'OGUN', 'ONDO', 'OSUN', 'OYO', 'PLATEAU', 'RIVERS', 'SOKOTO', 'TARABA', 'YOBE', 'ZAMFARA']\n"
          ]
        }
      ]
    },
    {
      "cell_type": "code",
      "source": [
        "states_in_nigeria = (state_house2['state'].isin(states)) | (state_house2['state']=='CROSS River')"
      ],
      "metadata": {
        "id": "FlaVmqiNWwqT"
      },
      "execution_count": null,
      "outputs": []
    },
    {
      "cell_type": "code",
      "source": [
        "state_house3 = state_house2[states_in_nigeria]\n",
        "not_state_house = state_house2[~states_in_nigeria]"
      ],
      "metadata": {
        "id": "2Ulfq851QVCd"
      },
      "execution_count": null,
      "outputs": []
    },
    {
      "cell_type": "code",
      "source": [
        "state_house3.state.unique()"
      ],
      "metadata": {
        "colab": {
          "base_uri": "https://localhost:8080/"
        },
        "id": "OMHehGd1TzYe",
        "outputId": "e77ba96a-0203-40b0-b836-b8946d6484d4"
      },
      "execution_count": null,
      "outputs": [
        {
          "output_type": "execute_result",
          "data": {
            "text/plain": [
              "array(['ABIA', 'ADAMAWA', 'AKWA IBOM', 'ANAMBRA', 'BAUCHI', 'BAYELSA',\n",
              "       'BENUE', 'BORNO', 'CROSS River', 'DELTA', 'EBONYI', 'EDO', 'EKITI',\n",
              "       'ENUGU', 'GOMBE', 'IMO', 'JIGAWA', 'KADUNA', 'KANO', 'KATSINA',\n",
              "       'KEBBI', 'KOGI', 'KWARA', 'LAGOS', 'NASARAWA', 'NIGER', 'OGUN',\n",
              "       'ONDO', 'OSUN', 'OYO', 'PLATEAU', 'RIVERS', 'SOKOTO', 'TARABA',\n",
              "       'YOBE', 'ZAMFARA'], dtype=object)"
            ]
          },
          "metadata": {},
          "execution_count": 184
        }
      ]
    },
    {
      "cell_type": "code",
      "source": [
        "state_house3.constituency.nunique()"
      ],
      "metadata": {
        "colab": {
          "base_uri": "https://localhost:8080/"
        },
        "id": "BMEfYAfe4DP8",
        "outputId": "568d2acc-1e72-4f74-b9d9-98e129988a1f"
      },
      "execution_count": null,
      "outputs": [
        {
          "output_type": "execute_result",
          "data": {
            "text/plain": [
              "993"
            ]
          },
          "metadata": {},
          "execution_count": 194
        }
      ]
    },
    {
      "cell_type": "code",
      "source": [
        "state_house3.state.nunique()"
      ],
      "metadata": {
        "colab": {
          "base_uri": "https://localhost:8080/"
        },
        "id": "-DOV9a4gQU_8",
        "outputId": "0a96ae49-af7e-458c-cbe6-cbc84dbe61ca"
      },
      "execution_count": null,
      "outputs": [
        {
          "output_type": "execute_result",
          "data": {
            "text/plain": [
              "36"
            ]
          },
          "metadata": {},
          "execution_count": 185
        }
      ]
    },
    {
      "cell_type": "code",
      "source": [
        "state_house3.info()"
      ],
      "metadata": {
        "colab": {
          "base_uri": "https://localhost:8080/"
        },
        "id": "yZt4rQOWUYrc",
        "outputId": "206370e4-c247-44f6-b9ba-6cd67de99497"
      },
      "execution_count": null,
      "outputs": [
        {
          "output_type": "stream",
          "name": "stdout",
          "text": [
            "<class 'pandas.core.frame.DataFrame'>\n",
            "Int64Index: 10217 entries, 1 to 13\n",
            "Data columns (total 11 columns):\n",
            " #   Column             Non-Null Count  Dtype \n",
            "---  ------             --------------  ----- \n",
            " 0   s/n                10206 non-null  object\n",
            " 1   state              10217 non-null  object\n",
            " 2   constituency       10217 non-null  object\n",
            " 3   party              10217 non-null  object\n",
            " 4   position           10217 non-null  object\n",
            " 5   name of candidate  10191 non-null  object\n",
            " 6   pwd                10173 non-null  object\n",
            " 7   age                10173 non-null  object\n",
            " 8   gender             10173 non-null  object\n",
            " 9   qualifications     9779 non-null   object\n",
            " 10  remarks            69 non-null     object\n",
            "dtypes: object(11)\n",
            "memory usage: 957.8+ KB\n"
          ]
        }
      ]
    },
    {
      "cell_type": "code",
      "source": [
        "state_house3.tail()"
      ],
      "metadata": {
        "colab": {
          "base_uri": "https://localhost:8080/",
          "height": 354
        },
        "id": "YJKEyxsIQU6d",
        "outputId": "21483c4d-105f-4409-fab0-cbc8603db72e"
      },
      "execution_count": null,
      "outputs": [
        {
          "output_type": "execute_result",
          "data": {
            "text/plain": [
              "      s/n    state    constituency party                 position  \\\n",
              "9   10227  ZAMFARA         GUMMI I   YPP  State House of Assembly   \n",
              "10  10228  ZAMFARA      TSAFE WEST   YPP  State House of Assembly   \n",
              "11  10229  ZAMFARA          BAKURA   YPP  State House of Assembly   \n",
              "12  10230  ZAMFARA      GUSAU WEST   ZLP  State House of Assembly   \n",
              "13  10231  ZAMFARA  BUKKUYUM SOUTH   ZLP  State House of Assembly   \n",
              "\n",
              "      name of candidate   pwd age gender qualifications remarks  \n",
              "9          S/GARI BELLO  None  35      M  FSLC NECO NCE     NaN  \n",
              "10        SHAFIA HASSAN  None  34      M      FSLC WAEC     NaN  \n",
              "11         YUSUF SALISU  None  25      M      FSLC SSCE     NaN  \n",
              "12  ALIYU IBRAHIM GUSAU  None  30      M           NECO     NaN  \n",
              "13  LAWAL BASHIR MASAMA  None  28      M           NECO     NaN  "
            ],
            "text/html": [
              "\n",
              "  <div id=\"df-eee15b08-180d-4cef-b8a9-a3d140e611b7\">\n",
              "    <div class=\"colab-df-container\">\n",
              "      <div>\n",
              "<style scoped>\n",
              "    .dataframe tbody tr th:only-of-type {\n",
              "        vertical-align: middle;\n",
              "    }\n",
              "\n",
              "    .dataframe tbody tr th {\n",
              "        vertical-align: top;\n",
              "    }\n",
              "\n",
              "    .dataframe thead th {\n",
              "        text-align: right;\n",
              "    }\n",
              "</style>\n",
              "<table border=\"1\" class=\"dataframe\">\n",
              "  <thead>\n",
              "    <tr style=\"text-align: right;\">\n",
              "      <th></th>\n",
              "      <th>s/n</th>\n",
              "      <th>state</th>\n",
              "      <th>constituency</th>\n",
              "      <th>party</th>\n",
              "      <th>position</th>\n",
              "      <th>name of candidate</th>\n",
              "      <th>pwd</th>\n",
              "      <th>age</th>\n",
              "      <th>gender</th>\n",
              "      <th>qualifications</th>\n",
              "      <th>remarks</th>\n",
              "    </tr>\n",
              "  </thead>\n",
              "  <tbody>\n",
              "    <tr>\n",
              "      <th>9</th>\n",
              "      <td>10227</td>\n",
              "      <td>ZAMFARA</td>\n",
              "      <td>GUMMI I</td>\n",
              "      <td>YPP</td>\n",
              "      <td>State House of Assembly</td>\n",
              "      <td>S/GARI BELLO</td>\n",
              "      <td>None</td>\n",
              "      <td>35</td>\n",
              "      <td>M</td>\n",
              "      <td>FSLC NECO NCE</td>\n",
              "      <td>NaN</td>\n",
              "    </tr>\n",
              "    <tr>\n",
              "      <th>10</th>\n",
              "      <td>10228</td>\n",
              "      <td>ZAMFARA</td>\n",
              "      <td>TSAFE WEST</td>\n",
              "      <td>YPP</td>\n",
              "      <td>State House of Assembly</td>\n",
              "      <td>SHAFIA HASSAN</td>\n",
              "      <td>None</td>\n",
              "      <td>34</td>\n",
              "      <td>M</td>\n",
              "      <td>FSLC WAEC</td>\n",
              "      <td>NaN</td>\n",
              "    </tr>\n",
              "    <tr>\n",
              "      <th>11</th>\n",
              "      <td>10229</td>\n",
              "      <td>ZAMFARA</td>\n",
              "      <td>BAKURA</td>\n",
              "      <td>YPP</td>\n",
              "      <td>State House of Assembly</td>\n",
              "      <td>YUSUF SALISU</td>\n",
              "      <td>None</td>\n",
              "      <td>25</td>\n",
              "      <td>M</td>\n",
              "      <td>FSLC SSCE</td>\n",
              "      <td>NaN</td>\n",
              "    </tr>\n",
              "    <tr>\n",
              "      <th>12</th>\n",
              "      <td>10230</td>\n",
              "      <td>ZAMFARA</td>\n",
              "      <td>GUSAU WEST</td>\n",
              "      <td>ZLP</td>\n",
              "      <td>State House of Assembly</td>\n",
              "      <td>ALIYU IBRAHIM GUSAU</td>\n",
              "      <td>None</td>\n",
              "      <td>30</td>\n",
              "      <td>M</td>\n",
              "      <td>NECO</td>\n",
              "      <td>NaN</td>\n",
              "    </tr>\n",
              "    <tr>\n",
              "      <th>13</th>\n",
              "      <td>10231</td>\n",
              "      <td>ZAMFARA</td>\n",
              "      <td>BUKKUYUM SOUTH</td>\n",
              "      <td>ZLP</td>\n",
              "      <td>State House of Assembly</td>\n",
              "      <td>LAWAL BASHIR MASAMA</td>\n",
              "      <td>None</td>\n",
              "      <td>28</td>\n",
              "      <td>M</td>\n",
              "      <td>NECO</td>\n",
              "      <td>NaN</td>\n",
              "    </tr>\n",
              "  </tbody>\n",
              "</table>\n",
              "</div>\n",
              "      <button class=\"colab-df-convert\" onclick=\"convertToInteractive('df-eee15b08-180d-4cef-b8a9-a3d140e611b7')\"\n",
              "              title=\"Convert this dataframe to an interactive table.\"\n",
              "              style=\"display:none;\">\n",
              "        \n",
              "  <svg xmlns=\"http://www.w3.org/2000/svg\" height=\"24px\"viewBox=\"0 0 24 24\"\n",
              "       width=\"24px\">\n",
              "    <path d=\"M0 0h24v24H0V0z\" fill=\"none\"/>\n",
              "    <path d=\"M18.56 5.44l.94 2.06.94-2.06 2.06-.94-2.06-.94-.94-2.06-.94 2.06-2.06.94zm-11 1L8.5 8.5l.94-2.06 2.06-.94-2.06-.94L8.5 2.5l-.94 2.06-2.06.94zm10 10l.94 2.06.94-2.06 2.06-.94-2.06-.94-.94-2.06-.94 2.06-2.06.94z\"/><path d=\"M17.41 7.96l-1.37-1.37c-.4-.4-.92-.59-1.43-.59-.52 0-1.04.2-1.43.59L10.3 9.45l-7.72 7.72c-.78.78-.78 2.05 0 2.83L4 21.41c.39.39.9.59 1.41.59.51 0 1.02-.2 1.41-.59l7.78-7.78 2.81-2.81c.8-.78.8-2.07 0-2.86zM5.41 20L4 18.59l7.72-7.72 1.47 1.35L5.41 20z\"/>\n",
              "  </svg>\n",
              "      </button>\n",
              "      \n",
              "  <style>\n",
              "    .colab-df-container {\n",
              "      display:flex;\n",
              "      flex-wrap:wrap;\n",
              "      gap: 12px;\n",
              "    }\n",
              "\n",
              "    .colab-df-convert {\n",
              "      background-color: #E8F0FE;\n",
              "      border: none;\n",
              "      border-radius: 50%;\n",
              "      cursor: pointer;\n",
              "      display: none;\n",
              "      fill: #1967D2;\n",
              "      height: 32px;\n",
              "      padding: 0 0 0 0;\n",
              "      width: 32px;\n",
              "    }\n",
              "\n",
              "    .colab-df-convert:hover {\n",
              "      background-color: #E2EBFA;\n",
              "      box-shadow: 0px 1px 2px rgba(60, 64, 67, 0.3), 0px 1px 3px 1px rgba(60, 64, 67, 0.15);\n",
              "      fill: #174EA6;\n",
              "    }\n",
              "\n",
              "    [theme=dark] .colab-df-convert {\n",
              "      background-color: #3B4455;\n",
              "      fill: #D2E3FC;\n",
              "    }\n",
              "\n",
              "    [theme=dark] .colab-df-convert:hover {\n",
              "      background-color: #434B5C;\n",
              "      box-shadow: 0px 1px 3px 1px rgba(0, 0, 0, 0.15);\n",
              "      filter: drop-shadow(0px 1px 2px rgba(0, 0, 0, 0.3));\n",
              "      fill: #FFFFFF;\n",
              "    }\n",
              "  </style>\n",
              "\n",
              "      <script>\n",
              "        const buttonEl =\n",
              "          document.querySelector('#df-eee15b08-180d-4cef-b8a9-a3d140e611b7 button.colab-df-convert');\n",
              "        buttonEl.style.display =\n",
              "          google.colab.kernel.accessAllowed ? 'block' : 'none';\n",
              "\n",
              "        async function convertToInteractive(key) {\n",
              "          const element = document.querySelector('#df-eee15b08-180d-4cef-b8a9-a3d140e611b7');\n",
              "          const dataTable =\n",
              "            await google.colab.kernel.invokeFunction('convertToInteractive',\n",
              "                                                     [key], {});\n",
              "          if (!dataTable) return;\n",
              "\n",
              "          const docLinkHtml = 'Like what you see? Visit the ' +\n",
              "            '<a target=\"_blank\" href=https://colab.research.google.com/notebooks/data_table.ipynb>data table notebook</a>'\n",
              "            + ' to learn more about interactive tables.';\n",
              "          element.innerHTML = '';\n",
              "          dataTable['output_type'] = 'display_data';\n",
              "          await google.colab.output.renderOutput(dataTable, element);\n",
              "          const docLink = document.createElement('div');\n",
              "          docLink.innerHTML = docLinkHtml;\n",
              "          element.appendChild(docLink);\n",
              "        }\n",
              "      </script>\n",
              "    </div>\n",
              "  </div>\n",
              "  "
            ]
          },
          "metadata": {},
          "execution_count": 190
        }
      ]
    },
    {
      "cell_type": "code",
      "source": [
        "state_house4 = state_house3[state_house3['constituency'].str.contains(\"CONSTITUENCY\") == False]"
      ],
      "metadata": {
        "id": "UYK_KoCQQU4C"
      },
      "execution_count": null,
      "outputs": []
    },
    {
      "cell_type": "code",
      "source": [
        "state_house4.isna().sum()"
      ],
      "metadata": {
        "colab": {
          "base_uri": "https://localhost:8080/"
        },
        "id": "UKZ8LXi4QU1N",
        "outputId": "60e02ea3-2642-4bf5-a953-f21b164103ae"
      },
      "execution_count": null,
      "outputs": [
        {
          "output_type": "execute_result",
          "data": {
            "text/plain": [
              "s/n                     11\n",
              "state                    0\n",
              "constituency             0\n",
              "party                    0\n",
              "position                 0\n",
              "name of candidate       26\n",
              "pwd                     44\n",
              "age                     44\n",
              "gender                  44\n",
              "qualifications         438\n",
              "remarks              10148\n",
              "dtype: int64"
            ]
          },
          "metadata": {},
          "execution_count": 199
        }
      ]
    },
    {
      "cell_type": "code",
      "source": [
        "state_house4['age'] = state_house4['age'].fillna(0).astype('int64')"
      ],
      "metadata": {
        "id": "Pwo8Syq8QUyQ"
      },
      "execution_count": null,
      "outputs": []
    },
    {
      "cell_type": "code",
      "source": [
        "state_house4.describe()"
      ],
      "metadata": {
        "colab": {
          "base_uri": "https://localhost:8080/",
          "height": 300
        },
        "id": "H0S4HFITQUvW",
        "outputId": "b4d14e68-5e91-4460-e427-768ca0c86aa1"
      },
      "execution_count": null,
      "outputs": [
        {
          "output_type": "execute_result",
          "data": {
            "text/plain": [
              "                age\n",
              "count  10217.000000\n",
              "mean      40.665949\n",
              "std       16.826702\n",
              "min        0.000000\n",
              "25%       33.000000\n",
              "50%       39.000000\n",
              "75%       47.000000\n",
              "max     1035.000000"
            ],
            "text/html": [
              "\n",
              "  <div id=\"df-09455998-b1fe-45ef-bb44-c03abe5c4c7f\">\n",
              "    <div class=\"colab-df-container\">\n",
              "      <div>\n",
              "<style scoped>\n",
              "    .dataframe tbody tr th:only-of-type {\n",
              "        vertical-align: middle;\n",
              "    }\n",
              "\n",
              "    .dataframe tbody tr th {\n",
              "        vertical-align: top;\n",
              "    }\n",
              "\n",
              "    .dataframe thead th {\n",
              "        text-align: right;\n",
              "    }\n",
              "</style>\n",
              "<table border=\"1\" class=\"dataframe\">\n",
              "  <thead>\n",
              "    <tr style=\"text-align: right;\">\n",
              "      <th></th>\n",
              "      <th>age</th>\n",
              "    </tr>\n",
              "  </thead>\n",
              "  <tbody>\n",
              "    <tr>\n",
              "      <th>count</th>\n",
              "      <td>10217.000000</td>\n",
              "    </tr>\n",
              "    <tr>\n",
              "      <th>mean</th>\n",
              "      <td>40.665949</td>\n",
              "    </tr>\n",
              "    <tr>\n",
              "      <th>std</th>\n",
              "      <td>16.826702</td>\n",
              "    </tr>\n",
              "    <tr>\n",
              "      <th>min</th>\n",
              "      <td>0.000000</td>\n",
              "    </tr>\n",
              "    <tr>\n",
              "      <th>25%</th>\n",
              "      <td>33.000000</td>\n",
              "    </tr>\n",
              "    <tr>\n",
              "      <th>50%</th>\n",
              "      <td>39.000000</td>\n",
              "    </tr>\n",
              "    <tr>\n",
              "      <th>75%</th>\n",
              "      <td>47.000000</td>\n",
              "    </tr>\n",
              "    <tr>\n",
              "      <th>max</th>\n",
              "      <td>1035.000000</td>\n",
              "    </tr>\n",
              "  </tbody>\n",
              "</table>\n",
              "</div>\n",
              "      <button class=\"colab-df-convert\" onclick=\"convertToInteractive('df-09455998-b1fe-45ef-bb44-c03abe5c4c7f')\"\n",
              "              title=\"Convert this dataframe to an interactive table.\"\n",
              "              style=\"display:none;\">\n",
              "        \n",
              "  <svg xmlns=\"http://www.w3.org/2000/svg\" height=\"24px\"viewBox=\"0 0 24 24\"\n",
              "       width=\"24px\">\n",
              "    <path d=\"M0 0h24v24H0V0z\" fill=\"none\"/>\n",
              "    <path d=\"M18.56 5.44l.94 2.06.94-2.06 2.06-.94-2.06-.94-.94-2.06-.94 2.06-2.06.94zm-11 1L8.5 8.5l.94-2.06 2.06-.94-2.06-.94L8.5 2.5l-.94 2.06-2.06.94zm10 10l.94 2.06.94-2.06 2.06-.94-2.06-.94-.94-2.06-.94 2.06-2.06.94z\"/><path d=\"M17.41 7.96l-1.37-1.37c-.4-.4-.92-.59-1.43-.59-.52 0-1.04.2-1.43.59L10.3 9.45l-7.72 7.72c-.78.78-.78 2.05 0 2.83L4 21.41c.39.39.9.59 1.41.59.51 0 1.02-.2 1.41-.59l7.78-7.78 2.81-2.81c.8-.78.8-2.07 0-2.86zM5.41 20L4 18.59l7.72-7.72 1.47 1.35L5.41 20z\"/>\n",
              "  </svg>\n",
              "      </button>\n",
              "      \n",
              "  <style>\n",
              "    .colab-df-container {\n",
              "      display:flex;\n",
              "      flex-wrap:wrap;\n",
              "      gap: 12px;\n",
              "    }\n",
              "\n",
              "    .colab-df-convert {\n",
              "      background-color: #E8F0FE;\n",
              "      border: none;\n",
              "      border-radius: 50%;\n",
              "      cursor: pointer;\n",
              "      display: none;\n",
              "      fill: #1967D2;\n",
              "      height: 32px;\n",
              "      padding: 0 0 0 0;\n",
              "      width: 32px;\n",
              "    }\n",
              "\n",
              "    .colab-df-convert:hover {\n",
              "      background-color: #E2EBFA;\n",
              "      box-shadow: 0px 1px 2px rgba(60, 64, 67, 0.3), 0px 1px 3px 1px rgba(60, 64, 67, 0.15);\n",
              "      fill: #174EA6;\n",
              "    }\n",
              "\n",
              "    [theme=dark] .colab-df-convert {\n",
              "      background-color: #3B4455;\n",
              "      fill: #D2E3FC;\n",
              "    }\n",
              "\n",
              "    [theme=dark] .colab-df-convert:hover {\n",
              "      background-color: #434B5C;\n",
              "      box-shadow: 0px 1px 3px 1px rgba(0, 0, 0, 0.15);\n",
              "      filter: drop-shadow(0px 1px 2px rgba(0, 0, 0, 0.3));\n",
              "      fill: #FFFFFF;\n",
              "    }\n",
              "  </style>\n",
              "\n",
              "      <script>\n",
              "        const buttonEl =\n",
              "          document.querySelector('#df-09455998-b1fe-45ef-bb44-c03abe5c4c7f button.colab-df-convert');\n",
              "        buttonEl.style.display =\n",
              "          google.colab.kernel.accessAllowed ? 'block' : 'none';\n",
              "\n",
              "        async function convertToInteractive(key) {\n",
              "          const element = document.querySelector('#df-09455998-b1fe-45ef-bb44-c03abe5c4c7f');\n",
              "          const dataTable =\n",
              "            await google.colab.kernel.invokeFunction('convertToInteractive',\n",
              "                                                     [key], {});\n",
              "          if (!dataTable) return;\n",
              "\n",
              "          const docLinkHtml = 'Like what you see? Visit the ' +\n",
              "            '<a target=\"_blank\" href=https://colab.research.google.com/notebooks/data_table.ipynb>data table notebook</a>'\n",
              "            + ' to learn more about interactive tables.';\n",
              "          element.innerHTML = '';\n",
              "          dataTable['output_type'] = 'display_data';\n",
              "          await google.colab.output.renderOutput(dataTable, element);\n",
              "          const docLink = document.createElement('div');\n",
              "          docLink.innerHTML = docLinkHtml;\n",
              "          element.appendChild(docLink);\n",
              "        }\n",
              "      </script>\n",
              "    </div>\n",
              "  </div>\n",
              "  "
            ]
          },
          "metadata": {},
          "execution_count": 201
        }
      ]
    },
    {
      "cell_type": "code",
      "source": [
        "state_house4.dtypes"
      ],
      "metadata": {
        "colab": {
          "base_uri": "https://localhost:8080/"
        },
        "id": "ta66qa2cQUs4",
        "outputId": "705c608c-a597-479a-fbab-29df8e82879d"
      },
      "execution_count": null,
      "outputs": [
        {
          "output_type": "execute_result",
          "data": {
            "text/plain": [
              "s/n                  object\n",
              "state                object\n",
              "constituency         object\n",
              "party                object\n",
              "position             object\n",
              "name of candidate    object\n",
              "pwd                  object\n",
              "age                   int64\n",
              "gender               object\n",
              "qualifications       object\n",
              "remarks              object\n",
              "dtype: object"
            ]
          },
          "metadata": {},
          "execution_count": 202
        }
      ]
    },
    {
      "cell_type": "code",
      "source": [
        "state_house4['source'] = source"
      ],
      "metadata": {
        "id": "YJSRDu9FQUqF"
      },
      "execution_count": null,
      "outputs": []
    },
    {
      "cell_type": "code",
      "source": [
        "state_house4.replace(to_replace=[\"M\", \"F\"],\n",
        "           value=[\"male\", \"female\"], inplace = True)"
      ],
      "metadata": {
        "id": "QXAF7RL3QUkF"
      },
      "execution_count": null,
      "outputs": []
    },
    {
      "cell_type": "code",
      "source": [
        "state_house4.tail()"
      ],
      "metadata": {
        "colab": {
          "base_uri": "https://localhost:8080/",
          "height": 461
        },
        "id": "03_d8hioQUa9",
        "outputId": "2efa118b-e8e7-42c6-82ff-22a255a740fb"
      },
      "execution_count": null,
      "outputs": [
        {
          "output_type": "execute_result",
          "data": {
            "text/plain": [
              "      s/n    state    constituency party                 position  \\\n",
              "9   10227  ZAMFARA         GUMMI I   YPP  State House of Assembly   \n",
              "10  10228  ZAMFARA      TSAFE WEST   YPP  State House of Assembly   \n",
              "11  10229  ZAMFARA          BAKURA   YPP  State House of Assembly   \n",
              "12  10230  ZAMFARA      GUSAU WEST   ZLP  State House of Assembly   \n",
              "13  10231  ZAMFARA  BUKKUYUM SOUTH   ZLP  State House of Assembly   \n",
              "\n",
              "      name of candidate   pwd  age gender qualifications remarks  \\\n",
              "9          S/GARI BELLO  None   35   male  FSLC NECO NCE     NaN   \n",
              "10        SHAFIA HASSAN  None   34   male      FSLC WAEC     NaN   \n",
              "11         YUSUF SALISU  None   25   male      FSLC SSCE     NaN   \n",
              "12  ALIYU IBRAHIM GUSAU  None   30   male           NECO     NaN   \n",
              "13  LAWAL BASHIR MASAMA  None   28   male           NECO     NaN   \n",
              "\n",
              "                                               source  \n",
              "9   https://inecnigeria.org/list-of-candidates-for...  \n",
              "10  https://inecnigeria.org/list-of-candidates-for...  \n",
              "11  https://inecnigeria.org/list-of-candidates-for...  \n",
              "12  https://inecnigeria.org/list-of-candidates-for...  \n",
              "13  https://inecnigeria.org/list-of-candidates-for...  "
            ],
            "text/html": [
              "\n",
              "  <div id=\"df-ee97399b-ccd2-41d1-b0fe-b94344d07576\">\n",
              "    <div class=\"colab-df-container\">\n",
              "      <div>\n",
              "<style scoped>\n",
              "    .dataframe tbody tr th:only-of-type {\n",
              "        vertical-align: middle;\n",
              "    }\n",
              "\n",
              "    .dataframe tbody tr th {\n",
              "        vertical-align: top;\n",
              "    }\n",
              "\n",
              "    .dataframe thead th {\n",
              "        text-align: right;\n",
              "    }\n",
              "</style>\n",
              "<table border=\"1\" class=\"dataframe\">\n",
              "  <thead>\n",
              "    <tr style=\"text-align: right;\">\n",
              "      <th></th>\n",
              "      <th>s/n</th>\n",
              "      <th>state</th>\n",
              "      <th>constituency</th>\n",
              "      <th>party</th>\n",
              "      <th>position</th>\n",
              "      <th>name of candidate</th>\n",
              "      <th>pwd</th>\n",
              "      <th>age</th>\n",
              "      <th>gender</th>\n",
              "      <th>qualifications</th>\n",
              "      <th>remarks</th>\n",
              "      <th>source</th>\n",
              "    </tr>\n",
              "  </thead>\n",
              "  <tbody>\n",
              "    <tr>\n",
              "      <th>9</th>\n",
              "      <td>10227</td>\n",
              "      <td>ZAMFARA</td>\n",
              "      <td>GUMMI I</td>\n",
              "      <td>YPP</td>\n",
              "      <td>State House of Assembly</td>\n",
              "      <td>S/GARI BELLO</td>\n",
              "      <td>None</td>\n",
              "      <td>35</td>\n",
              "      <td>male</td>\n",
              "      <td>FSLC NECO NCE</td>\n",
              "      <td>NaN</td>\n",
              "      <td>https://inecnigeria.org/list-of-candidates-for...</td>\n",
              "    </tr>\n",
              "    <tr>\n",
              "      <th>10</th>\n",
              "      <td>10228</td>\n",
              "      <td>ZAMFARA</td>\n",
              "      <td>TSAFE WEST</td>\n",
              "      <td>YPP</td>\n",
              "      <td>State House of Assembly</td>\n",
              "      <td>SHAFIA HASSAN</td>\n",
              "      <td>None</td>\n",
              "      <td>34</td>\n",
              "      <td>male</td>\n",
              "      <td>FSLC WAEC</td>\n",
              "      <td>NaN</td>\n",
              "      <td>https://inecnigeria.org/list-of-candidates-for...</td>\n",
              "    </tr>\n",
              "    <tr>\n",
              "      <th>11</th>\n",
              "      <td>10229</td>\n",
              "      <td>ZAMFARA</td>\n",
              "      <td>BAKURA</td>\n",
              "      <td>YPP</td>\n",
              "      <td>State House of Assembly</td>\n",
              "      <td>YUSUF SALISU</td>\n",
              "      <td>None</td>\n",
              "      <td>25</td>\n",
              "      <td>male</td>\n",
              "      <td>FSLC SSCE</td>\n",
              "      <td>NaN</td>\n",
              "      <td>https://inecnigeria.org/list-of-candidates-for...</td>\n",
              "    </tr>\n",
              "    <tr>\n",
              "      <th>12</th>\n",
              "      <td>10230</td>\n",
              "      <td>ZAMFARA</td>\n",
              "      <td>GUSAU WEST</td>\n",
              "      <td>ZLP</td>\n",
              "      <td>State House of Assembly</td>\n",
              "      <td>ALIYU IBRAHIM GUSAU</td>\n",
              "      <td>None</td>\n",
              "      <td>30</td>\n",
              "      <td>male</td>\n",
              "      <td>NECO</td>\n",
              "      <td>NaN</td>\n",
              "      <td>https://inecnigeria.org/list-of-candidates-for...</td>\n",
              "    </tr>\n",
              "    <tr>\n",
              "      <th>13</th>\n",
              "      <td>10231</td>\n",
              "      <td>ZAMFARA</td>\n",
              "      <td>BUKKUYUM SOUTH</td>\n",
              "      <td>ZLP</td>\n",
              "      <td>State House of Assembly</td>\n",
              "      <td>LAWAL BASHIR MASAMA</td>\n",
              "      <td>None</td>\n",
              "      <td>28</td>\n",
              "      <td>male</td>\n",
              "      <td>NECO</td>\n",
              "      <td>NaN</td>\n",
              "      <td>https://inecnigeria.org/list-of-candidates-for...</td>\n",
              "    </tr>\n",
              "  </tbody>\n",
              "</table>\n",
              "</div>\n",
              "      <button class=\"colab-df-convert\" onclick=\"convertToInteractive('df-ee97399b-ccd2-41d1-b0fe-b94344d07576')\"\n",
              "              title=\"Convert this dataframe to an interactive table.\"\n",
              "              style=\"display:none;\">\n",
              "        \n",
              "  <svg xmlns=\"http://www.w3.org/2000/svg\" height=\"24px\"viewBox=\"0 0 24 24\"\n",
              "       width=\"24px\">\n",
              "    <path d=\"M0 0h24v24H0V0z\" fill=\"none\"/>\n",
              "    <path d=\"M18.56 5.44l.94 2.06.94-2.06 2.06-.94-2.06-.94-.94-2.06-.94 2.06-2.06.94zm-11 1L8.5 8.5l.94-2.06 2.06-.94-2.06-.94L8.5 2.5l-.94 2.06-2.06.94zm10 10l.94 2.06.94-2.06 2.06-.94-2.06-.94-.94-2.06-.94 2.06-2.06.94z\"/><path d=\"M17.41 7.96l-1.37-1.37c-.4-.4-.92-.59-1.43-.59-.52 0-1.04.2-1.43.59L10.3 9.45l-7.72 7.72c-.78.78-.78 2.05 0 2.83L4 21.41c.39.39.9.59 1.41.59.51 0 1.02-.2 1.41-.59l7.78-7.78 2.81-2.81c.8-.78.8-2.07 0-2.86zM5.41 20L4 18.59l7.72-7.72 1.47 1.35L5.41 20z\"/>\n",
              "  </svg>\n",
              "      </button>\n",
              "      \n",
              "  <style>\n",
              "    .colab-df-container {\n",
              "      display:flex;\n",
              "      flex-wrap:wrap;\n",
              "      gap: 12px;\n",
              "    }\n",
              "\n",
              "    .colab-df-convert {\n",
              "      background-color: #E8F0FE;\n",
              "      border: none;\n",
              "      border-radius: 50%;\n",
              "      cursor: pointer;\n",
              "      display: none;\n",
              "      fill: #1967D2;\n",
              "      height: 32px;\n",
              "      padding: 0 0 0 0;\n",
              "      width: 32px;\n",
              "    }\n",
              "\n",
              "    .colab-df-convert:hover {\n",
              "      background-color: #E2EBFA;\n",
              "      box-shadow: 0px 1px 2px rgba(60, 64, 67, 0.3), 0px 1px 3px 1px rgba(60, 64, 67, 0.15);\n",
              "      fill: #174EA6;\n",
              "    }\n",
              "\n",
              "    [theme=dark] .colab-df-convert {\n",
              "      background-color: #3B4455;\n",
              "      fill: #D2E3FC;\n",
              "    }\n",
              "\n",
              "    [theme=dark] .colab-df-convert:hover {\n",
              "      background-color: #434B5C;\n",
              "      box-shadow: 0px 1px 3px 1px rgba(0, 0, 0, 0.15);\n",
              "      filter: drop-shadow(0px 1px 2px rgba(0, 0, 0, 0.3));\n",
              "      fill: #FFFFFF;\n",
              "    }\n",
              "  </style>\n",
              "\n",
              "      <script>\n",
              "        const buttonEl =\n",
              "          document.querySelector('#df-ee97399b-ccd2-41d1-b0fe-b94344d07576 button.colab-df-convert');\n",
              "        buttonEl.style.display =\n",
              "          google.colab.kernel.accessAllowed ? 'block' : 'none';\n",
              "\n",
              "        async function convertToInteractive(key) {\n",
              "          const element = document.querySelector('#df-ee97399b-ccd2-41d1-b0fe-b94344d07576');\n",
              "          const dataTable =\n",
              "            await google.colab.kernel.invokeFunction('convertToInteractive',\n",
              "                                                     [key], {});\n",
              "          if (!dataTable) return;\n",
              "\n",
              "          const docLinkHtml = 'Like what you see? Visit the ' +\n",
              "            '<a target=\"_blank\" href=https://colab.research.google.com/notebooks/data_table.ipynb>data table notebook</a>'\n",
              "            + ' to learn more about interactive tables.';\n",
              "          element.innerHTML = '';\n",
              "          dataTable['output_type'] = 'display_data';\n",
              "          await google.colab.output.renderOutput(dataTable, element);\n",
              "          const docLink = document.createElement('div');\n",
              "          docLink.innerHTML = docLinkHtml;\n",
              "          element.appendChild(docLink);\n",
              "        }\n",
              "      </script>\n",
              "    </div>\n",
              "  </div>\n",
              "  "
            ]
          },
          "metadata": {},
          "execution_count": 209
        }
      ]
    },
    {
      "cell_type": "code",
      "source": [
        "state_house4.shape"
      ],
      "metadata": {
        "colab": {
          "base_uri": "https://localhost:8080/"
        },
        "id": "3Q64RqfI-ErN",
        "outputId": "449dcfc8-5c9c-48df-af8d-c42be9bc4a92"
      },
      "execution_count": null,
      "outputs": [
        {
          "output_type": "execute_result",
          "data": {
            "text/plain": [
              "(10217, 12)"
            ]
          },
          "metadata": {},
          "execution_count": 212
        }
      ]
    },
    {
      "cell_type": "code",
      "source": [
        "state_house4.to_csv(\"state_house.csv\",index= False, header= True)"
      ],
      "metadata": {
        "id": "sQw5eqfL-NBm"
      },
      "execution_count": null,
      "outputs": []
    },
    {
      "cell_type": "code",
      "source": [
        "state_house5 = state_house4.copy()"
      ],
      "metadata": {
        "id": "M2wKaMGVJQ-D"
      },
      "execution_count": null,
      "outputs": []
    },
    {
      "cell_type": "code",
      "source": [
        "state_house5['state'] = state_house5['state'].str.title()"
      ],
      "metadata": {
        "id": "xxsl0rxKJZU0"
      },
      "execution_count": null,
      "outputs": []
    },
    {
      "cell_type": "code",
      "source": [
        "state_house5['constituency'] = state_house5['constituency'].str.title()\n",
        "state_house5['name of candidate'] = state_house5['name of candidate'].str.title()\n",
        "state_house5['gender'] = state_house5['gender'].str.title()"
      ],
      "metadata": {
        "id": "HO7uVNgGJZQL"
      },
      "execution_count": null,
      "outputs": []
    },
    {
      "cell_type": "code",
      "source": [
        "state_house5.to_csv(\"state_house2.csv\",index= False, header= True)"
      ],
      "metadata": {
        "id": "HFcZOJoGJZOt"
      },
      "execution_count": null,
      "outputs": []
    },
    {
      "cell_type": "code",
      "source": [],
      "metadata": {
        "id": "iyOqYGPuJZJ3"
      },
      "execution_count": null,
      "outputs": []
    },
    {
      "cell_type": "code",
      "source": [],
      "metadata": {
        "id": "8H3gWj5gJZHg"
      },
      "execution_count": null,
      "outputs": []
    },
    {
      "cell_type": "code",
      "source": [],
      "metadata": {
        "id": "70pbwNvLJZEr"
      },
      "execution_count": null,
      "outputs": []
    },
    {
      "cell_type": "code",
      "source": [],
      "metadata": {
        "id": "9rs4ARF5JY-q"
      },
      "execution_count": null,
      "outputs": []
    }
  ]
}