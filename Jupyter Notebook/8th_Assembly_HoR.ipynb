{
  "nbformat": 4,
  "nbformat_minor": 0,
  "metadata": {
    "colab": {
      "provenance": []
    },
    "kernelspec": {
      "name": "python3",
      "display_name": "Python 3"
    },
    "language_info": {
      "name": "python"
    }
  },
  "cells": [
    {
      "cell_type": "code",
      "source": [
        "!pip install -q tabula-py"
      ],
      "metadata": {
        "colab": {
          "base_uri": "https://localhost:8080/"
        },
        "id": "UrvPGaOI2WGG",
        "outputId": "5300b6c4-a809-44e8-92f5-7f46e2fee33e"
      },
      "execution_count": null,
      "outputs": [
        {
          "output_type": "stream",
          "name": "stdout",
          "text": [
            "\u001b[K     |████████████████████████████████| 12.0 MB 5.2 MB/s \n",
            "\u001b[?25h"
          ]
        }
      ]
    },
    {
      "cell_type": "code",
      "execution_count": null,
      "metadata": {
        "id": "oZd9WDlFCMRa"
      },
      "outputs": [],
      "source": [
        "import tabula\n",
        "import pandas as pd\n",
        "import numpy as np\n",
        "import re\n",
        "#import camelot"
      ]
    },
    {
      "cell_type": "code",
      "source": [
        "from google.colab import drive\n",
        "drive.mount('/content/drive', force_remount=True)\n",
        "path = \"/content/drive/MyDrive/Stears Data/Full-list-of-members-of-the-8th-reps.pdf\""
      ],
      "metadata": {
        "colab": {
          "base_uri": "https://localhost:8080/"
        },
        "id": "VigS8LYnDzbI",
        "outputId": "c558e1d3-1a75-4e18-ac6d-ab23c43aa3c5"
      },
      "execution_count": null,
      "outputs": [
        {
          "output_type": "stream",
          "name": "stdout",
          "text": [
            "Mounted at /content/drive\n"
          ]
        }
      ]
    },
    {
      "cell_type": "code",
      "source": [
        "df = tabula.read_pdf(path, pages= '1-11',pandas_options={'header':None}, lattice = False)"
      ],
      "metadata": {
        "id": "bbSdcF9yD0WW"
      },
      "execution_count": null,
      "outputs": []
    },
    {
      "cell_type": "code",
      "source": [
        "df2 = df.copy()"
      ],
      "metadata": {
        "id": "tZY9y_jUL1Ym"
      },
      "execution_count": null,
      "outputs": []
    },
    {
      "cell_type": "code",
      "source": [
        "cols = df2[0].values.tolist()[0]\n",
        "print(cols)"
      ],
      "metadata": {
        "colab": {
          "base_uri": "https://localhost:8080/"
        },
        "id": "5HijiMpTD0QO",
        "outputId": "eb0f6d1b-5291-401a-c427-9e56699e4112"
      },
      "execution_count": null,
      "outputs": [
        {
          "output_type": "stream",
          "name": "stdout",
          "text": [
            "['S/N', 'NAMES', 'AGE', 'GENDER', 'PARTY', 'STATE', nan, 'CONSTITUENCY']\n"
          ]
        }
      ]
    },
    {
      "cell_type": "code",
      "source": [
        "df2[0] = df2[0].iloc[1:]\n",
        "df2[-1] = df2[-1].iloc[1:]\n",
        "df2 = pd.concat(df2)\n",
        "df2.columns = cols"
      ],
      "metadata": {
        "id": "B5ggt_OpKCiW"
      },
      "execution_count": null,
      "outputs": []
    },
    {
      "cell_type": "code",
      "source": [
        "df2.head()"
      ],
      "metadata": {
        "colab": {
          "base_uri": "https://localhost:8080/",
          "height": 206
        },
        "id": "juIYQYjCD0CH",
        "outputId": "a2570c34-5c9e-4247-e5ff-64aaba0ef309"
      },
      "execution_count": null,
      "outputs": [
        {
          "output_type": "execute_result",
          "data": {
            "text/plain": [
              "  S/N                                              NAMES AGE  GENDER PARTY  \\\n",
              "1  *1  Hon.\\t\\r  Ossy\\t\\r  Prestige\\t\\r  Chinedu\\t\\r ...  51    Male  APGA   \n",
              "2  *2               Hon.\\t\\r  Nkole\\t\\r  Uko\\t\\r  Ndukwe  40    Male   PDP   \n",
              "3   3  Hon.\\t\\r  Nnenna\\t\\r  Ijeoma\\t\\r  Elendu\\t\\r  ...  46  Female   PDP   \n",
              "4  *4                 Hon.\\t\\r  Darlington\\t\\r  Nwokocha  49    Male   PDP   \n",
              "5   5                  Hon.\\t\\r  Onyejeocha\\t\\r  Nkiruka  46  Female   PDP   \n",
              "\n",
              "  STATE                    NaN CONSTITUENCY  \n",
              "1  Abia  Abia\\t\\r  North/South          NaN  \n",
              "2  Abia       Arochukwu/Ohafia          NaN  \n",
              "3  Abia                  Bende          NaN  \n",
              "4  Abia  IsialangwaNorth/South          NaN  \n",
              "5  Abia  Isuikwuato/Umunneochi          NaN  "
            ],
            "text/html": [
              "\n",
              "  <div id=\"df-50e16618-3f89-4cc0-8119-a5c53fdfd5d8\">\n",
              "    <div class=\"colab-df-container\">\n",
              "      <div>\n",
              "<style scoped>\n",
              "    .dataframe tbody tr th:only-of-type {\n",
              "        vertical-align: middle;\n",
              "    }\n",
              "\n",
              "    .dataframe tbody tr th {\n",
              "        vertical-align: top;\n",
              "    }\n",
              "\n",
              "    .dataframe thead th {\n",
              "        text-align: right;\n",
              "    }\n",
              "</style>\n",
              "<table border=\"1\" class=\"dataframe\">\n",
              "  <thead>\n",
              "    <tr style=\"text-align: right;\">\n",
              "      <th></th>\n",
              "      <th>S/N</th>\n",
              "      <th>NAMES</th>\n",
              "      <th>AGE</th>\n",
              "      <th>GENDER</th>\n",
              "      <th>PARTY</th>\n",
              "      <th>STATE</th>\n",
              "      <th>NaN</th>\n",
              "      <th>CONSTITUENCY</th>\n",
              "    </tr>\n",
              "  </thead>\n",
              "  <tbody>\n",
              "    <tr>\n",
              "      <th>1</th>\n",
              "      <td>*1</td>\n",
              "      <td>Hon.\\t\\r  Ossy\\t\\r  Prestige\\t\\r  Chinedu\\t\\r ...</td>\n",
              "      <td>51</td>\n",
              "      <td>Male</td>\n",
              "      <td>APGA</td>\n",
              "      <td>Abia</td>\n",
              "      <td>Abia\\t\\r  North/South</td>\n",
              "      <td>NaN</td>\n",
              "    </tr>\n",
              "    <tr>\n",
              "      <th>2</th>\n",
              "      <td>*2</td>\n",
              "      <td>Hon.\\t\\r  Nkole\\t\\r  Uko\\t\\r  Ndukwe</td>\n",
              "      <td>40</td>\n",
              "      <td>Male</td>\n",
              "      <td>PDP</td>\n",
              "      <td>Abia</td>\n",
              "      <td>Arochukwu/Ohafia</td>\n",
              "      <td>NaN</td>\n",
              "    </tr>\n",
              "    <tr>\n",
              "      <th>3</th>\n",
              "      <td>3</td>\n",
              "      <td>Hon.\\t\\r  Nnenna\\t\\r  Ijeoma\\t\\r  Elendu\\t\\r  ...</td>\n",
              "      <td>46</td>\n",
              "      <td>Female</td>\n",
              "      <td>PDP</td>\n",
              "      <td>Abia</td>\n",
              "      <td>Bende</td>\n",
              "      <td>NaN</td>\n",
              "    </tr>\n",
              "    <tr>\n",
              "      <th>4</th>\n",
              "      <td>*4</td>\n",
              "      <td>Hon.\\t\\r  Darlington\\t\\r  Nwokocha</td>\n",
              "      <td>49</td>\n",
              "      <td>Male</td>\n",
              "      <td>PDP</td>\n",
              "      <td>Abia</td>\n",
              "      <td>IsialangwaNorth/South</td>\n",
              "      <td>NaN</td>\n",
              "    </tr>\n",
              "    <tr>\n",
              "      <th>5</th>\n",
              "      <td>5</td>\n",
              "      <td>Hon.\\t\\r  Onyejeocha\\t\\r  Nkiruka</td>\n",
              "      <td>46</td>\n",
              "      <td>Female</td>\n",
              "      <td>PDP</td>\n",
              "      <td>Abia</td>\n",
              "      <td>Isuikwuato/Umunneochi</td>\n",
              "      <td>NaN</td>\n",
              "    </tr>\n",
              "  </tbody>\n",
              "</table>\n",
              "</div>\n",
              "      <button class=\"colab-df-convert\" onclick=\"convertToInteractive('df-50e16618-3f89-4cc0-8119-a5c53fdfd5d8')\"\n",
              "              title=\"Convert this dataframe to an interactive table.\"\n",
              "              style=\"display:none;\">\n",
              "        \n",
              "  <svg xmlns=\"http://www.w3.org/2000/svg\" height=\"24px\"viewBox=\"0 0 24 24\"\n",
              "       width=\"24px\">\n",
              "    <path d=\"M0 0h24v24H0V0z\" fill=\"none\"/>\n",
              "    <path d=\"M18.56 5.44l.94 2.06.94-2.06 2.06-.94-2.06-.94-.94-2.06-.94 2.06-2.06.94zm-11 1L8.5 8.5l.94-2.06 2.06-.94-2.06-.94L8.5 2.5l-.94 2.06-2.06.94zm10 10l.94 2.06.94-2.06 2.06-.94-2.06-.94-.94-2.06-.94 2.06-2.06.94z\"/><path d=\"M17.41 7.96l-1.37-1.37c-.4-.4-.92-.59-1.43-.59-.52 0-1.04.2-1.43.59L10.3 9.45l-7.72 7.72c-.78.78-.78 2.05 0 2.83L4 21.41c.39.39.9.59 1.41.59.51 0 1.02-.2 1.41-.59l7.78-7.78 2.81-2.81c.8-.78.8-2.07 0-2.86zM5.41 20L4 18.59l7.72-7.72 1.47 1.35L5.41 20z\"/>\n",
              "  </svg>\n",
              "      </button>\n",
              "      \n",
              "  <style>\n",
              "    .colab-df-container {\n",
              "      display:flex;\n",
              "      flex-wrap:wrap;\n",
              "      gap: 12px;\n",
              "    }\n",
              "\n",
              "    .colab-df-convert {\n",
              "      background-color: #E8F0FE;\n",
              "      border: none;\n",
              "      border-radius: 50%;\n",
              "      cursor: pointer;\n",
              "      display: none;\n",
              "      fill: #1967D2;\n",
              "      height: 32px;\n",
              "      padding: 0 0 0 0;\n",
              "      width: 32px;\n",
              "    }\n",
              "\n",
              "    .colab-df-convert:hover {\n",
              "      background-color: #E2EBFA;\n",
              "      box-shadow: 0px 1px 2px rgba(60, 64, 67, 0.3), 0px 1px 3px 1px rgba(60, 64, 67, 0.15);\n",
              "      fill: #174EA6;\n",
              "    }\n",
              "\n",
              "    [theme=dark] .colab-df-convert {\n",
              "      background-color: #3B4455;\n",
              "      fill: #D2E3FC;\n",
              "    }\n",
              "\n",
              "    [theme=dark] .colab-df-convert:hover {\n",
              "      background-color: #434B5C;\n",
              "      box-shadow: 0px 1px 3px 1px rgba(0, 0, 0, 0.15);\n",
              "      filter: drop-shadow(0px 1px 2px rgba(0, 0, 0, 0.3));\n",
              "      fill: #FFFFFF;\n",
              "    }\n",
              "  </style>\n",
              "\n",
              "      <script>\n",
              "        const buttonEl =\n",
              "          document.querySelector('#df-50e16618-3f89-4cc0-8119-a5c53fdfd5d8 button.colab-df-convert');\n",
              "        buttonEl.style.display =\n",
              "          google.colab.kernel.accessAllowed ? 'block' : 'none';\n",
              "\n",
              "        async function convertToInteractive(key) {\n",
              "          const element = document.querySelector('#df-50e16618-3f89-4cc0-8119-a5c53fdfd5d8');\n",
              "          const dataTable =\n",
              "            await google.colab.kernel.invokeFunction('convertToInteractive',\n",
              "                                                     [key], {});\n",
              "          if (!dataTable) return;\n",
              "\n",
              "          const docLinkHtml = 'Like what you see? Visit the ' +\n",
              "            '<a target=\"_blank\" href=https://colab.research.google.com/notebooks/data_table.ipynb>data table notebook</a>'\n",
              "            + ' to learn more about interactive tables.';\n",
              "          element.innerHTML = '';\n",
              "          dataTable['output_type'] = 'display_data';\n",
              "          await google.colab.output.renderOutput(dataTable, element);\n",
              "          const docLink = document.createElement('div');\n",
              "          docLink.innerHTML = docLinkHtml;\n",
              "          element.appendChild(docLink);\n",
              "        }\n",
              "      </script>\n",
              "    </div>\n",
              "  </div>\n",
              "  "
            ]
          },
          "metadata": {},
          "execution_count": 53
        }
      ]
    },
    {
      "cell_type": "code",
      "source": [
        "df2.tail()"
      ],
      "metadata": {
        "colab": {
          "base_uri": "https://localhost:8080/",
          "height": 206
        },
        "id": "YkxkktWKK70i",
        "outputId": "d9cd1a1e-c95b-43e7-b6f8-0728ff49b7b7"
      },
      "execution_count": null,
      "outputs": [
        {
          "output_type": "execute_result",
          "data": {
            "text/plain": [
              "     S/N                                          NAMES   AGE GENDER PARTY  \\\n",
              "31   354         Hon.\\t\\r  Hassan\\t\\r  Lawali\\t\\r  Anka  47.0   Male   APC   \n",
              "32  *355  Hon.\\t\\r  Abdumalik\\t\\r  Zubairu\\t\\r  Bungudu  37.0   Male   APC   \n",
              "33   356                    Hon.\\t\\r  Lawal\\t\\r  Mu'azu  56.0   Male   APC   \n",
              "34  *357          Hon.\\t\\r  Yahaya\\t\\r  Chado\\t\\r  Gora  60.0   Male   APC   \n",
              "35  *358            Hon.\\t\\r  Aminu\\t\\r  Sani\\t\\r  Jaji  42.0   Male   APC   \n",
              "\n",
              "      STATE                             NaN CONSTITUENCY  \n",
              "31  Zamfara              Anka/Talata/Mafara          NaN  \n",
              "32  Zamfara                    Bungudu/Maru          NaN  \n",
              "33  Zamfara                  Gummi/Bukkuyum          NaN  \n",
              "34  Zamfara            Bakura/\\t\\r  Maradun          NaN  \n",
              "35  Zamfara  Kaura-­‐Namoda/Birnin-­‐Magaji          NaN  "
            ],
            "text/html": [
              "\n",
              "  <div id=\"df-02b40750-86e3-44f0-abcf-fd4f637ea4a4\">\n",
              "    <div class=\"colab-df-container\">\n",
              "      <div>\n",
              "<style scoped>\n",
              "    .dataframe tbody tr th:only-of-type {\n",
              "        vertical-align: middle;\n",
              "    }\n",
              "\n",
              "    .dataframe tbody tr th {\n",
              "        vertical-align: top;\n",
              "    }\n",
              "\n",
              "    .dataframe thead th {\n",
              "        text-align: right;\n",
              "    }\n",
              "</style>\n",
              "<table border=\"1\" class=\"dataframe\">\n",
              "  <thead>\n",
              "    <tr style=\"text-align: right;\">\n",
              "      <th></th>\n",
              "      <th>S/N</th>\n",
              "      <th>NAMES</th>\n",
              "      <th>AGE</th>\n",
              "      <th>GENDER</th>\n",
              "      <th>PARTY</th>\n",
              "      <th>STATE</th>\n",
              "      <th>NaN</th>\n",
              "      <th>CONSTITUENCY</th>\n",
              "    </tr>\n",
              "  </thead>\n",
              "  <tbody>\n",
              "    <tr>\n",
              "      <th>31</th>\n",
              "      <td>354</td>\n",
              "      <td>Hon.\\t\\r  Hassan\\t\\r  Lawali\\t\\r  Anka</td>\n",
              "      <td>47.0</td>\n",
              "      <td>Male</td>\n",
              "      <td>APC</td>\n",
              "      <td>Zamfara</td>\n",
              "      <td>Anka/Talata/Mafara</td>\n",
              "      <td>NaN</td>\n",
              "    </tr>\n",
              "    <tr>\n",
              "      <th>32</th>\n",
              "      <td>*355</td>\n",
              "      <td>Hon.\\t\\r  Abdumalik\\t\\r  Zubairu\\t\\r  Bungudu</td>\n",
              "      <td>37.0</td>\n",
              "      <td>Male</td>\n",
              "      <td>APC</td>\n",
              "      <td>Zamfara</td>\n",
              "      <td>Bungudu/Maru</td>\n",
              "      <td>NaN</td>\n",
              "    </tr>\n",
              "    <tr>\n",
              "      <th>33</th>\n",
              "      <td>356</td>\n",
              "      <td>Hon.\\t\\r  Lawal\\t\\r  Mu'azu</td>\n",
              "      <td>56.0</td>\n",
              "      <td>Male</td>\n",
              "      <td>APC</td>\n",
              "      <td>Zamfara</td>\n",
              "      <td>Gummi/Bukkuyum</td>\n",
              "      <td>NaN</td>\n",
              "    </tr>\n",
              "    <tr>\n",
              "      <th>34</th>\n",
              "      <td>*357</td>\n",
              "      <td>Hon.\\t\\r  Yahaya\\t\\r  Chado\\t\\r  Gora</td>\n",
              "      <td>60.0</td>\n",
              "      <td>Male</td>\n",
              "      <td>APC</td>\n",
              "      <td>Zamfara</td>\n",
              "      <td>Bakura/\\t\\r  Maradun</td>\n",
              "      <td>NaN</td>\n",
              "    </tr>\n",
              "    <tr>\n",
              "      <th>35</th>\n",
              "      <td>*358</td>\n",
              "      <td>Hon.\\t\\r  Aminu\\t\\r  Sani\\t\\r  Jaji</td>\n",
              "      <td>42.0</td>\n",
              "      <td>Male</td>\n",
              "      <td>APC</td>\n",
              "      <td>Zamfara</td>\n",
              "      <td>Kaura-­‐Namoda/Birnin-­‐Magaji</td>\n",
              "      <td>NaN</td>\n",
              "    </tr>\n",
              "  </tbody>\n",
              "</table>\n",
              "</div>\n",
              "      <button class=\"colab-df-convert\" onclick=\"convertToInteractive('df-02b40750-86e3-44f0-abcf-fd4f637ea4a4')\"\n",
              "              title=\"Convert this dataframe to an interactive table.\"\n",
              "              style=\"display:none;\">\n",
              "        \n",
              "  <svg xmlns=\"http://www.w3.org/2000/svg\" height=\"24px\"viewBox=\"0 0 24 24\"\n",
              "       width=\"24px\">\n",
              "    <path d=\"M0 0h24v24H0V0z\" fill=\"none\"/>\n",
              "    <path d=\"M18.56 5.44l.94 2.06.94-2.06 2.06-.94-2.06-.94-.94-2.06-.94 2.06-2.06.94zm-11 1L8.5 8.5l.94-2.06 2.06-.94-2.06-.94L8.5 2.5l-.94 2.06-2.06.94zm10 10l.94 2.06.94-2.06 2.06-.94-2.06-.94-.94-2.06-.94 2.06-2.06.94z\"/><path d=\"M17.41 7.96l-1.37-1.37c-.4-.4-.92-.59-1.43-.59-.52 0-1.04.2-1.43.59L10.3 9.45l-7.72 7.72c-.78.78-.78 2.05 0 2.83L4 21.41c.39.39.9.59 1.41.59.51 0 1.02-.2 1.41-.59l7.78-7.78 2.81-2.81c.8-.78.8-2.07 0-2.86zM5.41 20L4 18.59l7.72-7.72 1.47 1.35L5.41 20z\"/>\n",
              "  </svg>\n",
              "      </button>\n",
              "      \n",
              "  <style>\n",
              "    .colab-df-container {\n",
              "      display:flex;\n",
              "      flex-wrap:wrap;\n",
              "      gap: 12px;\n",
              "    }\n",
              "\n",
              "    .colab-df-convert {\n",
              "      background-color: #E8F0FE;\n",
              "      border: none;\n",
              "      border-radius: 50%;\n",
              "      cursor: pointer;\n",
              "      display: none;\n",
              "      fill: #1967D2;\n",
              "      height: 32px;\n",
              "      padding: 0 0 0 0;\n",
              "      width: 32px;\n",
              "    }\n",
              "\n",
              "    .colab-df-convert:hover {\n",
              "      background-color: #E2EBFA;\n",
              "      box-shadow: 0px 1px 2px rgba(60, 64, 67, 0.3), 0px 1px 3px 1px rgba(60, 64, 67, 0.15);\n",
              "      fill: #174EA6;\n",
              "    }\n",
              "\n",
              "    [theme=dark] .colab-df-convert {\n",
              "      background-color: #3B4455;\n",
              "      fill: #D2E3FC;\n",
              "    }\n",
              "\n",
              "    [theme=dark] .colab-df-convert:hover {\n",
              "      background-color: #434B5C;\n",
              "      box-shadow: 0px 1px 3px 1px rgba(0, 0, 0, 0.15);\n",
              "      filter: drop-shadow(0px 1px 2px rgba(0, 0, 0, 0.3));\n",
              "      fill: #FFFFFF;\n",
              "    }\n",
              "  </style>\n",
              "\n",
              "      <script>\n",
              "        const buttonEl =\n",
              "          document.querySelector('#df-02b40750-86e3-44f0-abcf-fd4f637ea4a4 button.colab-df-convert');\n",
              "        buttonEl.style.display =\n",
              "          google.colab.kernel.accessAllowed ? 'block' : 'none';\n",
              "\n",
              "        async function convertToInteractive(key) {\n",
              "          const element = document.querySelector('#df-02b40750-86e3-44f0-abcf-fd4f637ea4a4');\n",
              "          const dataTable =\n",
              "            await google.colab.kernel.invokeFunction('convertToInteractive',\n",
              "                                                     [key], {});\n",
              "          if (!dataTable) return;\n",
              "\n",
              "          const docLinkHtml = 'Like what you see? Visit the ' +\n",
              "            '<a target=\"_blank\" href=https://colab.research.google.com/notebooks/data_table.ipynb>data table notebook</a>'\n",
              "            + ' to learn more about interactive tables.';\n",
              "          element.innerHTML = '';\n",
              "          dataTable['output_type'] = 'display_data';\n",
              "          await google.colab.output.renderOutput(dataTable, element);\n",
              "          const docLink = document.createElement('div');\n",
              "          docLink.innerHTML = docLinkHtml;\n",
              "          element.appendChild(docLink);\n",
              "        }\n",
              "      </script>\n",
              "    </div>\n",
              "  </div>\n",
              "  "
            ]
          },
          "metadata": {},
          "execution_count": 54
        }
      ]
    },
    {
      "cell_type": "code",
      "source": [
        "eighth_assembly = df2.copy()"
      ],
      "metadata": {
        "id": "CZbLpFW8NF5V"
      },
      "execution_count": null,
      "outputs": []
    },
    {
      "cell_type": "code",
      "source": [
        "eighth_assembly.info()"
      ],
      "metadata": {
        "colab": {
          "base_uri": "https://localhost:8080/"
        },
        "id": "rpc9HIK9NYjF",
        "outputId": "6d75aa07-2048-4da0-eda1-817bafb0362a"
      },
      "execution_count": null,
      "outputs": [
        {
          "output_type": "stream",
          "name": "stdout",
          "text": [
            "<class 'pandas.core.frame.DataFrame'>\n",
            "Int64Index: 393 entries, 1 to 35\n",
            "Data columns (total 8 columns):\n",
            " #   Column        Non-Null Count  Dtype \n",
            "---  ------        --------------  ----- \n",
            " 0   S/N           357 non-null    object\n",
            " 1   NAMES         357 non-null    object\n",
            " 2   AGE           357 non-null    object\n",
            " 3   GENDER        357 non-null    object\n",
            " 4   PARTY         357 non-null    object\n",
            " 5   STATE         357 non-null    object\n",
            " 6   nan           358 non-null    object\n",
            " 7   CONSTITUENCY  0 non-null      object\n",
            "dtypes: object(8)\n",
            "memory usage: 27.6+ KB\n"
          ]
        }
      ]
    },
    {
      "cell_type": "code",
      "source": [
        "eighth_assembly.replace(to_replace=[r\"\\\\t|\\\\n|\\\\r\", \"\\t|\\n|\\r\"], value=[\" \",\" \"], regex=True, inplace=True)"
      ],
      "metadata": {
        "id": "oyLGm7u7NHig"
      },
      "execution_count": null,
      "outputs": []
    },
    {
      "cell_type": "code",
      "source": [
        "eighth_assembly.head()"
      ],
      "metadata": {
        "colab": {
          "base_uri": "https://localhost:8080/",
          "height": 206
        },
        "id": "Ef__rkOXNwd1",
        "outputId": "28d181a1-a192-4385-e653-b0e7d57a9314"
      },
      "execution_count": null,
      "outputs": [
        {
          "output_type": "execute_result",
          "data": {
            "text/plain": [
              "  S/N                                              NAMES AGE  GENDER PARTY  \\\n",
              "1  *1  Hon.    Ossy    Prestige    Chinedu    Ehiriod...  51    Male  APGA   \n",
              "2  *2                     Hon.    Nkole    Uko    Ndukwe  40    Male   PDP   \n",
              "3   3        Hon.    Nnenna    Ijeoma    Elendu    Ukeje  46  Female   PDP   \n",
              "4  *4                     Hon.    Darlington    Nwokocha  49    Male   PDP   \n",
              "5   5                      Hon.    Onyejeocha    Nkiruka  46  Female   PDP   \n",
              "\n",
              "  STATE                    NaN  CONSTITUENCY  \n",
              "1  Abia    Abia    North/South           NaN  \n",
              "2  Abia       Arochukwu/Ohafia           NaN  \n",
              "3  Abia                  Bende           NaN  \n",
              "4  Abia  IsialangwaNorth/South           NaN  \n",
              "5  Abia  Isuikwuato/Umunneochi           NaN  "
            ],
            "text/html": [
              "\n",
              "  <div id=\"df-3db940bc-14d6-407c-9775-7ac7e188019d\">\n",
              "    <div class=\"colab-df-container\">\n",
              "      <div>\n",
              "<style scoped>\n",
              "    .dataframe tbody tr th:only-of-type {\n",
              "        vertical-align: middle;\n",
              "    }\n",
              "\n",
              "    .dataframe tbody tr th {\n",
              "        vertical-align: top;\n",
              "    }\n",
              "\n",
              "    .dataframe thead th {\n",
              "        text-align: right;\n",
              "    }\n",
              "</style>\n",
              "<table border=\"1\" class=\"dataframe\">\n",
              "  <thead>\n",
              "    <tr style=\"text-align: right;\">\n",
              "      <th></th>\n",
              "      <th>S/N</th>\n",
              "      <th>NAMES</th>\n",
              "      <th>AGE</th>\n",
              "      <th>GENDER</th>\n",
              "      <th>PARTY</th>\n",
              "      <th>STATE</th>\n",
              "      <th>NaN</th>\n",
              "      <th>CONSTITUENCY</th>\n",
              "    </tr>\n",
              "  </thead>\n",
              "  <tbody>\n",
              "    <tr>\n",
              "      <th>1</th>\n",
              "      <td>*1</td>\n",
              "      <td>Hon.    Ossy    Prestige    Chinedu    Ehiriod...</td>\n",
              "      <td>51</td>\n",
              "      <td>Male</td>\n",
              "      <td>APGA</td>\n",
              "      <td>Abia</td>\n",
              "      <td>Abia    North/South</td>\n",
              "      <td>NaN</td>\n",
              "    </tr>\n",
              "    <tr>\n",
              "      <th>2</th>\n",
              "      <td>*2</td>\n",
              "      <td>Hon.    Nkole    Uko    Ndukwe</td>\n",
              "      <td>40</td>\n",
              "      <td>Male</td>\n",
              "      <td>PDP</td>\n",
              "      <td>Abia</td>\n",
              "      <td>Arochukwu/Ohafia</td>\n",
              "      <td>NaN</td>\n",
              "    </tr>\n",
              "    <tr>\n",
              "      <th>3</th>\n",
              "      <td>3</td>\n",
              "      <td>Hon.    Nnenna    Ijeoma    Elendu    Ukeje</td>\n",
              "      <td>46</td>\n",
              "      <td>Female</td>\n",
              "      <td>PDP</td>\n",
              "      <td>Abia</td>\n",
              "      <td>Bende</td>\n",
              "      <td>NaN</td>\n",
              "    </tr>\n",
              "    <tr>\n",
              "      <th>4</th>\n",
              "      <td>*4</td>\n",
              "      <td>Hon.    Darlington    Nwokocha</td>\n",
              "      <td>49</td>\n",
              "      <td>Male</td>\n",
              "      <td>PDP</td>\n",
              "      <td>Abia</td>\n",
              "      <td>IsialangwaNorth/South</td>\n",
              "      <td>NaN</td>\n",
              "    </tr>\n",
              "    <tr>\n",
              "      <th>5</th>\n",
              "      <td>5</td>\n",
              "      <td>Hon.    Onyejeocha    Nkiruka</td>\n",
              "      <td>46</td>\n",
              "      <td>Female</td>\n",
              "      <td>PDP</td>\n",
              "      <td>Abia</td>\n",
              "      <td>Isuikwuato/Umunneochi</td>\n",
              "      <td>NaN</td>\n",
              "    </tr>\n",
              "  </tbody>\n",
              "</table>\n",
              "</div>\n",
              "      <button class=\"colab-df-convert\" onclick=\"convertToInteractive('df-3db940bc-14d6-407c-9775-7ac7e188019d')\"\n",
              "              title=\"Convert this dataframe to an interactive table.\"\n",
              "              style=\"display:none;\">\n",
              "        \n",
              "  <svg xmlns=\"http://www.w3.org/2000/svg\" height=\"24px\"viewBox=\"0 0 24 24\"\n",
              "       width=\"24px\">\n",
              "    <path d=\"M0 0h24v24H0V0z\" fill=\"none\"/>\n",
              "    <path d=\"M18.56 5.44l.94 2.06.94-2.06 2.06-.94-2.06-.94-.94-2.06-.94 2.06-2.06.94zm-11 1L8.5 8.5l.94-2.06 2.06-.94-2.06-.94L8.5 2.5l-.94 2.06-2.06.94zm10 10l.94 2.06.94-2.06 2.06-.94-2.06-.94-.94-2.06-.94 2.06-2.06.94z\"/><path d=\"M17.41 7.96l-1.37-1.37c-.4-.4-.92-.59-1.43-.59-.52 0-1.04.2-1.43.59L10.3 9.45l-7.72 7.72c-.78.78-.78 2.05 0 2.83L4 21.41c.39.39.9.59 1.41.59.51 0 1.02-.2 1.41-.59l7.78-7.78 2.81-2.81c.8-.78.8-2.07 0-2.86zM5.41 20L4 18.59l7.72-7.72 1.47 1.35L5.41 20z\"/>\n",
              "  </svg>\n",
              "      </button>\n",
              "      \n",
              "  <style>\n",
              "    .colab-df-container {\n",
              "      display:flex;\n",
              "      flex-wrap:wrap;\n",
              "      gap: 12px;\n",
              "    }\n",
              "\n",
              "    .colab-df-convert {\n",
              "      background-color: #E8F0FE;\n",
              "      border: none;\n",
              "      border-radius: 50%;\n",
              "      cursor: pointer;\n",
              "      display: none;\n",
              "      fill: #1967D2;\n",
              "      height: 32px;\n",
              "      padding: 0 0 0 0;\n",
              "      width: 32px;\n",
              "    }\n",
              "\n",
              "    .colab-df-convert:hover {\n",
              "      background-color: #E2EBFA;\n",
              "      box-shadow: 0px 1px 2px rgba(60, 64, 67, 0.3), 0px 1px 3px 1px rgba(60, 64, 67, 0.15);\n",
              "      fill: #174EA6;\n",
              "    }\n",
              "\n",
              "    [theme=dark] .colab-df-convert {\n",
              "      background-color: #3B4455;\n",
              "      fill: #D2E3FC;\n",
              "    }\n",
              "\n",
              "    [theme=dark] .colab-df-convert:hover {\n",
              "      background-color: #434B5C;\n",
              "      box-shadow: 0px 1px 3px 1px rgba(0, 0, 0, 0.15);\n",
              "      filter: drop-shadow(0px 1px 2px rgba(0, 0, 0, 0.3));\n",
              "      fill: #FFFFFF;\n",
              "    }\n",
              "  </style>\n",
              "\n",
              "      <script>\n",
              "        const buttonEl =\n",
              "          document.querySelector('#df-3db940bc-14d6-407c-9775-7ac7e188019d button.colab-df-convert');\n",
              "        buttonEl.style.display =\n",
              "          google.colab.kernel.accessAllowed ? 'block' : 'none';\n",
              "\n",
              "        async function convertToInteractive(key) {\n",
              "          const element = document.querySelector('#df-3db940bc-14d6-407c-9775-7ac7e188019d');\n",
              "          const dataTable =\n",
              "            await google.colab.kernel.invokeFunction('convertToInteractive',\n",
              "                                                     [key], {});\n",
              "          if (!dataTable) return;\n",
              "\n",
              "          const docLinkHtml = 'Like what you see? Visit the ' +\n",
              "            '<a target=\"_blank\" href=https://colab.research.google.com/notebooks/data_table.ipynb>data table notebook</a>'\n",
              "            + ' to learn more about interactive tables.';\n",
              "          element.innerHTML = '';\n",
              "          dataTable['output_type'] = 'display_data';\n",
              "          await google.colab.output.renderOutput(dataTable, element);\n",
              "          const docLink = document.createElement('div');\n",
              "          docLink.innerHTML = docLinkHtml;\n",
              "          element.appendChild(docLink);\n",
              "        }\n",
              "      </script>\n",
              "    </div>\n",
              "  </div>\n",
              "  "
            ]
          },
          "metadata": {},
          "execution_count": 58
        }
      ]
    },
    {
      "cell_type": "code",
      "source": [
        "eighth_assembly.STATE.unique()"
      ],
      "metadata": {
        "colab": {
          "base_uri": "https://localhost:8080/"
        },
        "id": "mBjbPeIrO9zd",
        "outputId": "1ffd060f-a94f-4d89-98fd-7a154ec4232e"
      },
      "execution_count": null,
      "outputs": [
        {
          "output_type": "execute_result",
          "data": {
            "text/plain": [
              "array(['Abia', nan, 'Adamawa', 'Akwa-\\xad‐Ibom', 'Anambra', 'Bauchi',\n",
              "       'Bayelsa', 'Benue', 'Borno', 'Cross    River', 'Delta', 'Ebonyi',\n",
              "       'Edo', 'Ekiti', 'Enugu', 'FCT', 'Gombe', 'Imo', 'Jigawa', 'Kaduna',\n",
              "       'Kano', 'Katsina', 'Kebbi', 'Kogi', 'Kwara', 'Lagos', 'Nasarawa',\n",
              "       'Niger', 'Ogun', 'Ondo', 'Osun', 'Oyo', 'Plateau', 'Rivers',\n",
              "       'Sokoto', 'Taraba', 'Yobe', 'Zamfara'], dtype=object)"
            ]
          },
          "metadata": {},
          "execution_count": 59
        }
      ]
    },
    {
      "cell_type": "code",
      "source": [
        "eighth_assembly.STATE.nunique()"
      ],
      "metadata": {
        "colab": {
          "base_uri": "https://localhost:8080/"
        },
        "id": "dlW00HlIO9r1",
        "outputId": "a7860632-1f9a-487d-f0b8-b766ebbaeaa2"
      },
      "execution_count": null,
      "outputs": [
        {
          "output_type": "execute_result",
          "data": {
            "text/plain": [
              "37"
            ]
          },
          "metadata": {},
          "execution_count": 60
        }
      ]
    },
    {
      "cell_type": "code",
      "source": [
        "eighth_assembly_2 = eighth_assembly[eighth_assembly['STATE'].str.contains(\"STATE\") == False]"
      ],
      "metadata": {
        "id": "sUsCWNhuO9kQ"
      },
      "execution_count": null,
      "outputs": []
    },
    {
      "cell_type": "code",
      "source": [
        "print(eighth_assembly_2.duplicated().sum())"
      ],
      "metadata": {
        "colab": {
          "base_uri": "https://localhost:8080/"
        },
        "id": "WONJLzfMO9a2",
        "outputId": "eb2591c4-f345-45a1-de29-fd22cf066e58"
      },
      "execution_count": null,
      "outputs": [
        {
          "output_type": "stream",
          "name": "stdout",
          "text": [
            "0\n"
          ]
        }
      ]
    },
    {
      "cell_type": "code",
      "source": [
        "eighth_assembly_2.tail(5)"
      ],
      "metadata": {
        "colab": {
          "base_uri": "https://localhost:8080/",
          "height": 206
        },
        "id": "wP1j8GreO9O9",
        "outputId": "130a301d-da5e-4a43-82c1-f026cfdfd978"
      },
      "execution_count": null,
      "outputs": [
        {
          "output_type": "execute_result",
          "data": {
            "text/plain": [
              "     S/N                                    NAMES   AGE GENDER PARTY    STATE  \\\n",
              "31   354         Hon.    Hassan    Lawali    Anka  47.0   Male   APC  Zamfara   \n",
              "32  *355  Hon.    Abdumalik    Zubairu    Bungudu  37.0   Male   APC  Zamfara   \n",
              "33   356                  Hon.    Lawal    Mu'azu  56.0   Male   APC  Zamfara   \n",
              "34  *357          Hon.    Yahaya    Chado    Gora  60.0   Male   APC  Zamfara   \n",
              "35  *358            Hon.    Aminu    Sani    Jaji  42.0   Male   APC  Zamfara   \n",
              "\n",
              "                               NaN  CONSTITUENCY  \n",
              "31              Anka/Talata/Mafara           NaN  \n",
              "32                    Bungudu/Maru           NaN  \n",
              "33                  Gummi/Bukkuyum           NaN  \n",
              "34              Bakura/    Maradun           NaN  \n",
              "35  Kaura-­‐Namoda/Birnin-­‐Magaji           NaN  "
            ],
            "text/html": [
              "\n",
              "  <div id=\"df-dc8aff00-6cdd-48d5-a644-48bd34d1b883\">\n",
              "    <div class=\"colab-df-container\">\n",
              "      <div>\n",
              "<style scoped>\n",
              "    .dataframe tbody tr th:only-of-type {\n",
              "        vertical-align: middle;\n",
              "    }\n",
              "\n",
              "    .dataframe tbody tr th {\n",
              "        vertical-align: top;\n",
              "    }\n",
              "\n",
              "    .dataframe thead th {\n",
              "        text-align: right;\n",
              "    }\n",
              "</style>\n",
              "<table border=\"1\" class=\"dataframe\">\n",
              "  <thead>\n",
              "    <tr style=\"text-align: right;\">\n",
              "      <th></th>\n",
              "      <th>S/N</th>\n",
              "      <th>NAMES</th>\n",
              "      <th>AGE</th>\n",
              "      <th>GENDER</th>\n",
              "      <th>PARTY</th>\n",
              "      <th>STATE</th>\n",
              "      <th>NaN</th>\n",
              "      <th>CONSTITUENCY</th>\n",
              "    </tr>\n",
              "  </thead>\n",
              "  <tbody>\n",
              "    <tr>\n",
              "      <th>31</th>\n",
              "      <td>354</td>\n",
              "      <td>Hon.    Hassan    Lawali    Anka</td>\n",
              "      <td>47.0</td>\n",
              "      <td>Male</td>\n",
              "      <td>APC</td>\n",
              "      <td>Zamfara</td>\n",
              "      <td>Anka/Talata/Mafara</td>\n",
              "      <td>NaN</td>\n",
              "    </tr>\n",
              "    <tr>\n",
              "      <th>32</th>\n",
              "      <td>*355</td>\n",
              "      <td>Hon.    Abdumalik    Zubairu    Bungudu</td>\n",
              "      <td>37.0</td>\n",
              "      <td>Male</td>\n",
              "      <td>APC</td>\n",
              "      <td>Zamfara</td>\n",
              "      <td>Bungudu/Maru</td>\n",
              "      <td>NaN</td>\n",
              "    </tr>\n",
              "    <tr>\n",
              "      <th>33</th>\n",
              "      <td>356</td>\n",
              "      <td>Hon.    Lawal    Mu'azu</td>\n",
              "      <td>56.0</td>\n",
              "      <td>Male</td>\n",
              "      <td>APC</td>\n",
              "      <td>Zamfara</td>\n",
              "      <td>Gummi/Bukkuyum</td>\n",
              "      <td>NaN</td>\n",
              "    </tr>\n",
              "    <tr>\n",
              "      <th>34</th>\n",
              "      <td>*357</td>\n",
              "      <td>Hon.    Yahaya    Chado    Gora</td>\n",
              "      <td>60.0</td>\n",
              "      <td>Male</td>\n",
              "      <td>APC</td>\n",
              "      <td>Zamfara</td>\n",
              "      <td>Bakura/    Maradun</td>\n",
              "      <td>NaN</td>\n",
              "    </tr>\n",
              "    <tr>\n",
              "      <th>35</th>\n",
              "      <td>*358</td>\n",
              "      <td>Hon.    Aminu    Sani    Jaji</td>\n",
              "      <td>42.0</td>\n",
              "      <td>Male</td>\n",
              "      <td>APC</td>\n",
              "      <td>Zamfara</td>\n",
              "      <td>Kaura-­‐Namoda/Birnin-­‐Magaji</td>\n",
              "      <td>NaN</td>\n",
              "    </tr>\n",
              "  </tbody>\n",
              "</table>\n",
              "</div>\n",
              "      <button class=\"colab-df-convert\" onclick=\"convertToInteractive('df-dc8aff00-6cdd-48d5-a644-48bd34d1b883')\"\n",
              "              title=\"Convert this dataframe to an interactive table.\"\n",
              "              style=\"display:none;\">\n",
              "        \n",
              "  <svg xmlns=\"http://www.w3.org/2000/svg\" height=\"24px\"viewBox=\"0 0 24 24\"\n",
              "       width=\"24px\">\n",
              "    <path d=\"M0 0h24v24H0V0z\" fill=\"none\"/>\n",
              "    <path d=\"M18.56 5.44l.94 2.06.94-2.06 2.06-.94-2.06-.94-.94-2.06-.94 2.06-2.06.94zm-11 1L8.5 8.5l.94-2.06 2.06-.94-2.06-.94L8.5 2.5l-.94 2.06-2.06.94zm10 10l.94 2.06.94-2.06 2.06-.94-2.06-.94-.94-2.06-.94 2.06-2.06.94z\"/><path d=\"M17.41 7.96l-1.37-1.37c-.4-.4-.92-.59-1.43-.59-.52 0-1.04.2-1.43.59L10.3 9.45l-7.72 7.72c-.78.78-.78 2.05 0 2.83L4 21.41c.39.39.9.59 1.41.59.51 0 1.02-.2 1.41-.59l7.78-7.78 2.81-2.81c.8-.78.8-2.07 0-2.86zM5.41 20L4 18.59l7.72-7.72 1.47 1.35L5.41 20z\"/>\n",
              "  </svg>\n",
              "      </button>\n",
              "      \n",
              "  <style>\n",
              "    .colab-df-container {\n",
              "      display:flex;\n",
              "      flex-wrap:wrap;\n",
              "      gap: 12px;\n",
              "    }\n",
              "\n",
              "    .colab-df-convert {\n",
              "      background-color: #E8F0FE;\n",
              "      border: none;\n",
              "      border-radius: 50%;\n",
              "      cursor: pointer;\n",
              "      display: none;\n",
              "      fill: #1967D2;\n",
              "      height: 32px;\n",
              "      padding: 0 0 0 0;\n",
              "      width: 32px;\n",
              "    }\n",
              "\n",
              "    .colab-df-convert:hover {\n",
              "      background-color: #E2EBFA;\n",
              "      box-shadow: 0px 1px 2px rgba(60, 64, 67, 0.3), 0px 1px 3px 1px rgba(60, 64, 67, 0.15);\n",
              "      fill: #174EA6;\n",
              "    }\n",
              "\n",
              "    [theme=dark] .colab-df-convert {\n",
              "      background-color: #3B4455;\n",
              "      fill: #D2E3FC;\n",
              "    }\n",
              "\n",
              "    [theme=dark] .colab-df-convert:hover {\n",
              "      background-color: #434B5C;\n",
              "      box-shadow: 0px 1px 3px 1px rgba(0, 0, 0, 0.15);\n",
              "      filter: drop-shadow(0px 1px 2px rgba(0, 0, 0, 0.3));\n",
              "      fill: #FFFFFF;\n",
              "    }\n",
              "  </style>\n",
              "\n",
              "      <script>\n",
              "        const buttonEl =\n",
              "          document.querySelector('#df-dc8aff00-6cdd-48d5-a644-48bd34d1b883 button.colab-df-convert');\n",
              "        buttonEl.style.display =\n",
              "          google.colab.kernel.accessAllowed ? 'block' : 'none';\n",
              "\n",
              "        async function convertToInteractive(key) {\n",
              "          const element = document.querySelector('#df-dc8aff00-6cdd-48d5-a644-48bd34d1b883');\n",
              "          const dataTable =\n",
              "            await google.colab.kernel.invokeFunction('convertToInteractive',\n",
              "                                                     [key], {});\n",
              "          if (!dataTable) return;\n",
              "\n",
              "          const docLinkHtml = 'Like what you see? Visit the ' +\n",
              "            '<a target=\"_blank\" href=https://colab.research.google.com/notebooks/data_table.ipynb>data table notebook</a>'\n",
              "            + ' to learn more about interactive tables.';\n",
              "          element.innerHTML = '';\n",
              "          dataTable['output_type'] = 'display_data';\n",
              "          await google.colab.output.renderOutput(dataTable, element);\n",
              "          const docLink = document.createElement('div');\n",
              "          docLink.innerHTML = docLinkHtml;\n",
              "          element.appendChild(docLink);\n",
              "        }\n",
              "      </script>\n",
              "    </div>\n",
              "  </div>\n",
              "  "
            ]
          },
          "metadata": {},
          "execution_count": 63
        }
      ]
    },
    {
      "cell_type": "code",
      "source": [
        "eighth_assembly_2.to_csv(\"eighth_assembly_3.csv\",index= False, header= True)"
      ],
      "metadata": {
        "id": "sQw5eqfL-NBm"
      },
      "execution_count": null,
      "outputs": []
    }
  ]
}