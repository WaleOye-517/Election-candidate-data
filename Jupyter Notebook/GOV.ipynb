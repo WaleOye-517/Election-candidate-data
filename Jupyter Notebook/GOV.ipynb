{
  "cells": [
    {
      "cell_type": "markdown",
      "id": "ceae4bda",
      "metadata": {
        "id": "ceae4bda"
      },
      "source": [
        "SH_tab = tabula.read_pdf(url, pages= '6-96',pandas_options={'header':None})"
      ]
    },
    {
      "cell_type": "markdown",
      "id": "cfdfd499",
      "metadata": {
        "id": "cfdfd499"
      },
      "source": [
        "url = 'https://inecnigeria.org/wp-content/uploads/2022/10/Final-List-of-Candidates-for-National-Elections_SHA-14.pdf'"
      ]
    },
    {
      "cell_type": "markdown",
      "id": "e1a571ed",
      "metadata": {
        "collapsed": true,
        "id": "e1a571ed"
      },
      "source": [
        "SH=camelot.read_pdf(url, flavor='stream', pages='97-893')"
      ]
    },
    {
      "cell_type": "code",
      "execution_count": null,
      "id": "3e5c9f9e",
      "metadata": {
        "id": "3e5c9f9e"
      },
      "outputs": [],
      "source": [
        "import tabula\n",
        "from tabula import read_pdf\n",
        "import pandas as pd\n",
        "import numpy as np\n",
        "import re\n",
        "import camelot"
      ]
    },
    {
      "cell_type": "code",
      "execution_count": null,
      "id": "aa916071",
      "metadata": {
        "id": "aa916071"
      },
      "outputs": [],
      "source": [
        "path = \"C:/Users/user/Desktop/Inec List/Final-List-of-Candidates-for-National-Elections_SHA-14.pdf\""
      ]
    },
    {
      "cell_type": "code",
      "execution_count": null,
      "id": "306fa534",
      "metadata": {
        "id": "306fa534"
      },
      "outputs": [],
      "source": [
        "source = 'https://inecnigeria.org/list-of-candidates-for-2023-elections/'"
      ]
    },
    {
      "cell_type": "code",
      "execution_count": null,
      "id": "fc11d7bc",
      "metadata": {
        "id": "fc11d7bc"
      },
      "outputs": [],
      "source": [
        "SH_tab2 = tabula.read_pdf(path, pages= '6-96',pandas_options={'header':None})"
      ]
    },
    {
      "cell_type": "code",
      "execution_count": null,
      "id": "e94b8371",
      "metadata": {
        "id": "e94b8371"
      },
      "outputs": [],
      "source": [
        "cols = SH_tab2[0].values.tolist()[0]"
      ]
    },
    {
      "cell_type": "code",
      "execution_count": null,
      "id": "68150ea4",
      "metadata": {
        "id": "68150ea4",
        "outputId": "b424d00a-a2a8-4c47-d6ca-1f869380fbb2"
      },
      "outputs": [
        {
          "name": "stdout",
          "output_type": "stream",
          "text": [
            "['S/N', 'STATE', 'PARTY', 'POSITION', 'CANDIDATE_NAME', 'PWD', 'AGE', 'GENDER', 'QUALIFICATIONS', 'REMARKS']\n"
          ]
        }
      ],
      "source": [
        "print(cols)"
      ]
    },
    {
      "cell_type": "code",
      "execution_count": null,
      "id": "e1554a5c",
      "metadata": {
        "id": "e1554a5c"
      },
      "outputs": [],
      "source": [
        "SH_tab2[0]= SH_tab2[0].iloc[1:]"
      ]
    },
    {
      "cell_type": "code",
      "execution_count": null,
      "id": "5664b16e",
      "metadata": {
        "id": "5664b16e"
      },
      "outputs": [],
      "source": [
        "SH_tab2 = pd.concat(SH_tab2)"
      ]
    },
    {
      "cell_type": "code",
      "execution_count": null,
      "id": "74f0b540",
      "metadata": {
        "id": "74f0b540"
      },
      "outputs": [],
      "source": [
        "SH_tab2.columns = cols"
      ]
    },
    {
      "cell_type": "code",
      "execution_count": null,
      "id": "cd390f70",
      "metadata": {
        "id": "cd390f70",
        "outputId": "524b2a94-2ce0-4a1c-85a7-3ddbd1aceca0"
      },
      "outputs": [
        {
          "data": {
            "text/html": [
              "<div>\n",
              "<style scoped>\n",
              "    .dataframe tbody tr th:only-of-type {\n",
              "        vertical-align: middle;\n",
              "    }\n",
              "\n",
              "    .dataframe tbody tr th {\n",
              "        vertical-align: top;\n",
              "    }\n",
              "\n",
              "    .dataframe thead th {\n",
              "        text-align: right;\n",
              "    }\n",
              "</style>\n",
              "<table border=\"1\" class=\"dataframe\">\n",
              "  <thead>\n",
              "    <tr style=\"text-align: right;\">\n",
              "      <th></th>\n",
              "      <th>S/N</th>\n",
              "      <th>STATE</th>\n",
              "      <th>PARTY</th>\n",
              "      <th>POSITION</th>\n",
              "      <th>CANDIDATE_NAME</th>\n",
              "      <th>PWD</th>\n",
              "      <th>AGE</th>\n",
              "      <th>GENDER</th>\n",
              "      <th>QUALIFICATIONS</th>\n",
              "      <th>REMARKS</th>\n",
              "    </tr>\n",
              "  </thead>\n",
              "  <tbody>\n",
              "    <tr>\n",
              "      <th>1</th>\n",
              "      <td>1</td>\n",
              "      <td>ABIA</td>\n",
              "      <td>A</td>\n",
              "      <td>Governorship</td>\n",
              "      <td>NWANKPA EMEKA MICHAEL</td>\n",
              "      <td>None</td>\n",
              "      <td>52</td>\n",
              "      <td>M</td>\n",
              "      <td>FSLC WAEC HIGHER\\rNATIONAL DIPLOMA</td>\n",
              "      <td>NaN</td>\n",
              "    </tr>\n",
              "    <tr>\n",
              "      <th>2</th>\n",
              "      <td>2</td>\n",
              "      <td>ABIA</td>\n",
              "      <td>A</td>\n",
              "      <td>Deputy-\\rGovernorship</td>\n",
              "      <td>UDO PRINCE OKPERE</td>\n",
              "      <td>None</td>\n",
              "      <td>48</td>\n",
              "      <td>M</td>\n",
              "      <td>FSLC WAEC PGD</td>\n",
              "      <td>NaN</td>\n",
              "    </tr>\n",
              "    <tr>\n",
              "      <th>3</th>\n",
              "      <td>3</td>\n",
              "      <td>ABIA</td>\n",
              "      <td>AA</td>\n",
              "      <td>Governorship</td>\n",
              "      <td>AKUMA KALU WILSON</td>\n",
              "      <td>None</td>\n",
              "      <td>35</td>\n",
              "      <td>M</td>\n",
              "      <td>F.L.S.C WAEC</td>\n",
              "      <td>NaN</td>\n",
              "    </tr>\n",
              "    <tr>\n",
              "      <th>4</th>\n",
              "      <td>4</td>\n",
              "      <td>ABIA</td>\n",
              "      <td>AA</td>\n",
              "      <td>Deputy-\\rGovernorship</td>\n",
              "      <td>NWANGANGA GILEAD</td>\n",
              "      <td>None</td>\n",
              "      <td>44</td>\n",
              "      <td>M</td>\n",
              "      <td>F.S.L.C  WAEC BS.C</td>\n",
              "      <td>NaN</td>\n",
              "    </tr>\n",
              "    <tr>\n",
              "      <th>5</th>\n",
              "      <td>5</td>\n",
              "      <td>ABIA</td>\n",
              "      <td>AAC</td>\n",
              "      <td>Governorship</td>\n",
              "      <td>OHUCHE BOND OLUCHUKWU</td>\n",
              "      <td>None</td>\n",
              "      <td>48</td>\n",
              "      <td>M</td>\n",
              "      <td>FSLC SSCE DEGREE</td>\n",
              "      <td>NaN</td>\n",
              "    </tr>\n",
              "  </tbody>\n",
              "</table>\n",
              "</div>"
            ],
            "text/plain": [
              "  S/N STATE PARTY               POSITION         CANDIDATE_NAME   PWD AGE  \\\n",
              "1   1  ABIA     A           Governorship  NWANKPA EMEKA MICHAEL  None  52   \n",
              "2   2  ABIA     A  Deputy-\\rGovernorship      UDO PRINCE OKPERE  None  48   \n",
              "3   3  ABIA    AA           Governorship      AKUMA KALU WILSON  None  35   \n",
              "4   4  ABIA    AA  Deputy-\\rGovernorship       NWANGANGA GILEAD  None  44   \n",
              "5   5  ABIA   AAC           Governorship  OHUCHE BOND OLUCHUKWU  None  48   \n",
              "\n",
              "  GENDER                      QUALIFICATIONS REMARKS  \n",
              "1      M  FSLC WAEC HIGHER\\rNATIONAL DIPLOMA     NaN  \n",
              "2      M                       FSLC WAEC PGD     NaN  \n",
              "3      M                        F.L.S.C WAEC     NaN  \n",
              "4      M                  F.S.L.C  WAEC BS.C     NaN  \n",
              "5      M                    FSLC SSCE DEGREE     NaN  "
            ]
          },
          "execution_count": 14,
          "metadata": {},
          "output_type": "execute_result"
        }
      ],
      "source": [
        "SH_tab2.head()"
      ]
    },
    {
      "cell_type": "code",
      "execution_count": null,
      "id": "13239aa9",
      "metadata": {
        "id": "13239aa9"
      },
      "outputs": [],
      "source": [
        "gov = SH_tab2.copy()"
      ]
    },
    {
      "cell_type": "code",
      "execution_count": null,
      "id": "5b39ad19",
      "metadata": {
        "id": "5b39ad19",
        "outputId": "ae25974b-8342-4d5b-ccf5-27a69101559d"
      },
      "outputs": [
        {
          "name": "stdout",
          "output_type": "stream",
          "text": [
            "<class 'pandas.core.frame.DataFrame'>\n",
            "Int64Index: 937 entries, 1 to 0\n",
            "Data columns (total 10 columns):\n",
            " #   Column          Non-Null Count  Dtype \n",
            "---  ------          --------------  ----- \n",
            " 0   S/N             865 non-null    object\n",
            " 1   STATE           865 non-null    object\n",
            " 2   PARTY           865 non-null    object\n",
            " 3   POSITION        865 non-null    object\n",
            " 4   CANDIDATE_NAME  861 non-null    object\n",
            " 5   PWD             860 non-null    object\n",
            " 6   AGE             860 non-null    object\n",
            " 7   GENDER          860 non-null    object\n",
            " 8   QUALIFICATIONS  843 non-null    object\n",
            " 9   REMARKS         36 non-null     object\n",
            "dtypes: object(10)\n",
            "memory usage: 80.5+ KB\n"
          ]
        }
      ],
      "source": [
        "gov.info()"
      ]
    },
    {
      "cell_type": "code",
      "execution_count": null,
      "id": "4ed71796",
      "metadata": {
        "id": "4ed71796"
      },
      "outputs": [],
      "source": [
        "gov.replace(to_replace=[r\"\\\\t|\\\\n|\\\\r\", \"\\t|\\n|\\r\"], value=[\" \",\" \"], regex=True, inplace=True)"
      ]
    },
    {
      "cell_type": "code",
      "execution_count": null,
      "id": "09638319",
      "metadata": {
        "id": "09638319"
      },
      "outputs": [],
      "source": [
        "gov.rename(columns = {'candidate_name':'name of candidate'}, inplace = True)"
      ]
    },
    {
      "cell_type": "code",
      "execution_count": null,
      "id": "d531e018",
      "metadata": {
        "id": "d531e018",
        "outputId": "ddb80135-662b-414d-9704-8ff09ed9963c"
      },
      "outputs": [
        {
          "data": {
            "text/html": [
              "<div>\n",
              "<style scoped>\n",
              "    .dataframe tbody tr th:only-of-type {\n",
              "        vertical-align: middle;\n",
              "    }\n",
              "\n",
              "    .dataframe tbody tr th {\n",
              "        vertical-align: top;\n",
              "    }\n",
              "\n",
              "    .dataframe thead th {\n",
              "        text-align: right;\n",
              "    }\n",
              "</style>\n",
              "<table border=\"1\" class=\"dataframe\">\n",
              "  <thead>\n",
              "    <tr style=\"text-align: right;\">\n",
              "      <th></th>\n",
              "      <th>s/n</th>\n",
              "      <th>state</th>\n",
              "      <th>party</th>\n",
              "      <th>position</th>\n",
              "      <th>name of candidate</th>\n",
              "      <th>pwd</th>\n",
              "      <th>age</th>\n",
              "      <th>gender</th>\n",
              "      <th>qualifications</th>\n",
              "      <th>remarks</th>\n",
              "    </tr>\n",
              "  </thead>\n",
              "  <tbody>\n",
              "    <tr>\n",
              "      <th>1</th>\n",
              "      <td>1</td>\n",
              "      <td>ABIA</td>\n",
              "      <td>A</td>\n",
              "      <td>Governorship</td>\n",
              "      <td>NWANKPA EMEKA MICHAEL</td>\n",
              "      <td>None</td>\n",
              "      <td>52</td>\n",
              "      <td>M</td>\n",
              "      <td>FSLC WAEC HIGHER NATIONAL DIPLOMA</td>\n",
              "      <td>NaN</td>\n",
              "    </tr>\n",
              "    <tr>\n",
              "      <th>2</th>\n",
              "      <td>2</td>\n",
              "      <td>ABIA</td>\n",
              "      <td>A</td>\n",
              "      <td>Deputy- Governorship</td>\n",
              "      <td>UDO PRINCE OKPERE</td>\n",
              "      <td>None</td>\n",
              "      <td>48</td>\n",
              "      <td>M</td>\n",
              "      <td>FSLC WAEC PGD</td>\n",
              "      <td>NaN</td>\n",
              "    </tr>\n",
              "    <tr>\n",
              "      <th>3</th>\n",
              "      <td>3</td>\n",
              "      <td>ABIA</td>\n",
              "      <td>AA</td>\n",
              "      <td>Governorship</td>\n",
              "      <td>AKUMA KALU WILSON</td>\n",
              "      <td>None</td>\n",
              "      <td>35</td>\n",
              "      <td>M</td>\n",
              "      <td>F.L.S.C WAEC</td>\n",
              "      <td>NaN</td>\n",
              "    </tr>\n",
              "    <tr>\n",
              "      <th>4</th>\n",
              "      <td>4</td>\n",
              "      <td>ABIA</td>\n",
              "      <td>AA</td>\n",
              "      <td>Deputy- Governorship</td>\n",
              "      <td>NWANGANGA GILEAD</td>\n",
              "      <td>None</td>\n",
              "      <td>44</td>\n",
              "      <td>M</td>\n",
              "      <td>F.S.L.C  WAEC BS.C</td>\n",
              "      <td>NaN</td>\n",
              "    </tr>\n",
              "    <tr>\n",
              "      <th>5</th>\n",
              "      <td>5</td>\n",
              "      <td>ABIA</td>\n",
              "      <td>AAC</td>\n",
              "      <td>Governorship</td>\n",
              "      <td>OHUCHE BOND OLUCHUKWU</td>\n",
              "      <td>None</td>\n",
              "      <td>48</td>\n",
              "      <td>M</td>\n",
              "      <td>FSLC SSCE DEGREE</td>\n",
              "      <td>NaN</td>\n",
              "    </tr>\n",
              "  </tbody>\n",
              "</table>\n",
              "</div>"
            ],
            "text/plain": [
              "  s/n state party              position      name of candidate   pwd age  \\\n",
              "1   1  ABIA     A          Governorship  NWANKPA EMEKA MICHAEL  None  52   \n",
              "2   2  ABIA     A  Deputy- Governorship      UDO PRINCE OKPERE  None  48   \n",
              "3   3  ABIA    AA          Governorship      AKUMA KALU WILSON  None  35   \n",
              "4   4  ABIA    AA  Deputy- Governorship       NWANGANGA GILEAD  None  44   \n",
              "5   5  ABIA   AAC          Governorship  OHUCHE BOND OLUCHUKWU  None  48   \n",
              "\n",
              "  gender                     qualifications remarks  \n",
              "1      M  FSLC WAEC HIGHER NATIONAL DIPLOMA     NaN  \n",
              "2      M                      FSLC WAEC PGD     NaN  \n",
              "3      M                       F.L.S.C WAEC     NaN  \n",
              "4      M                 F.S.L.C  WAEC BS.C     NaN  \n",
              "5      M                   FSLC SSCE DEGREE     NaN  "
            ]
          },
          "execution_count": 25,
          "metadata": {},
          "output_type": "execute_result"
        }
      ],
      "source": [
        "gov.head()"
      ]
    },
    {
      "cell_type": "code",
      "execution_count": null,
      "id": "aed0eaad",
      "metadata": {
        "id": "aed0eaad",
        "outputId": "910aeffd-5538-40ed-bf8b-133472193be1"
      },
      "outputs": [
        {
          "data": {
            "text/plain": [
              "(937, 10)"
            ]
          },
          "execution_count": 27,
          "metadata": {},
          "output_type": "execute_result"
        }
      ],
      "source": [
        "gov.shape"
      ]
    },
    {
      "cell_type": "code",
      "execution_count": null,
      "id": "98e1c385",
      "metadata": {
        "id": "98e1c385"
      },
      "outputs": [],
      "source": [
        "gov.columns = gov.columns.str.lower()"
      ]
    },
    {
      "cell_type": "code",
      "execution_count": null,
      "id": "0fb6c1c4",
      "metadata": {
        "id": "0fb6c1c4",
        "outputId": "520b7808-685e-483d-aeeb-9598d19c38d8"
      },
      "outputs": [
        {
          "data": {
            "text/plain": [
              "array(['ABIA', nan, 'STATE', 'ADAMAWA', 'AKWA IBOM', 'BAUCHI', 'BENUE',\n",
              "       'BORNO', 'CROSS River', 'DELTA', 'EBONYI', 'ENUGU', 'GOMBE',\n",
              "       'JIGAWA', 'KADUNA', 'KANO', 'KATSINA', 'KEBBI', 'KWARA', 'LAGOS',\n",
              "       'NASARAWA', 'NIGER', 'OGUN', 'OYO', 'PLATEAU', 'RIVERS', 'SOKOTO',\n",
              "       'TARABA', 'YOBE', 'ZAMFARA'], dtype=object)"
            ]
          },
          "execution_count": 22,
          "metadata": {},
          "output_type": "execute_result"
        }
      ],
      "source": [
        "gov.state.unique()"
      ]
    },
    {
      "cell_type": "code",
      "execution_count": null,
      "id": "e04538e1",
      "metadata": {
        "scrolled": true,
        "id": "e04538e1",
        "outputId": "c490fe5d-c703-4690-ae79-8a4b921cf988"
      },
      "outputs": [
        {
          "data": {
            "text/plain": [
              "29"
            ]
          },
          "execution_count": 23,
          "metadata": {},
          "output_type": "execute_result"
        }
      ],
      "source": [
        "gov.state.nunique()"
      ]
    },
    {
      "cell_type": "code",
      "execution_count": null,
      "id": "d8b1c77f",
      "metadata": {
        "id": "d8b1c77f"
      },
      "outputs": [],
      "source": [
        "s =  gov[gov['state']=='STATE']"
      ]
    },
    {
      "cell_type": "code",
      "execution_count": null,
      "id": "0c0e1ada",
      "metadata": {
        "scrolled": true,
        "id": "0c0e1ada",
        "outputId": "899c4ddd-39ae-4b50-dacf-8cd5b5d81f64"
      },
      "outputs": [
        {
          "data": {
            "text/html": [
              "<div>\n",
              "<style scoped>\n",
              "    .dataframe tbody tr th:only-of-type {\n",
              "        vertical-align: middle;\n",
              "    }\n",
              "\n",
              "    .dataframe tbody tr th {\n",
              "        vertical-align: top;\n",
              "    }\n",
              "\n",
              "    .dataframe thead th {\n",
              "        text-align: right;\n",
              "    }\n",
              "</style>\n",
              "<table border=\"1\" class=\"dataframe\">\n",
              "  <thead>\n",
              "    <tr style=\"text-align: right;\">\n",
              "      <th></th>\n",
              "      <th>s/n</th>\n",
              "      <th>state</th>\n",
              "      <th>party</th>\n",
              "      <th>position</th>\n",
              "      <th>name of candidate</th>\n",
              "      <th>pwd</th>\n",
              "      <th>age</th>\n",
              "      <th>gender</th>\n",
              "      <th>qualifications</th>\n",
              "      <th>remarks</th>\n",
              "    </tr>\n",
              "  </thead>\n",
              "  <tbody>\n",
              "    <tr>\n",
              "      <th>0</th>\n",
              "      <td>S/N</td>\n",
              "      <td>STATE</td>\n",
              "      <td>PARTY</td>\n",
              "      <td>POSITION</td>\n",
              "      <td>CANDIDATE_NAME</td>\n",
              "      <td>PWD</td>\n",
              "      <td>AGE</td>\n",
              "      <td>GENDER</td>\n",
              "      <td>QUALIFICATIONS</td>\n",
              "      <td>REMARKS</td>\n",
              "    </tr>\n",
              "    <tr>\n",
              "      <th>0</th>\n",
              "      <td>S/N</td>\n",
              "      <td>STATE</td>\n",
              "      <td>PARTY</td>\n",
              "      <td>POSITION</td>\n",
              "      <td>CANDIDATE_NAME</td>\n",
              "      <td>PWD</td>\n",
              "      <td>AGE</td>\n",
              "      <td>GENDER</td>\n",
              "      <td>QUALIFICATIONS</td>\n",
              "      <td>REMARKS</td>\n",
              "    </tr>\n",
              "    <tr>\n",
              "      <th>0</th>\n",
              "      <td>S/N</td>\n",
              "      <td>STATE</td>\n",
              "      <td>PARTY</td>\n",
              "      <td>POSITION</td>\n",
              "      <td>CANDIDATE_NAME</td>\n",
              "      <td>PWD</td>\n",
              "      <td>AGE</td>\n",
              "      <td>GENDER</td>\n",
              "      <td>QUALIFICATIONS</td>\n",
              "      <td>REMARKS</td>\n",
              "    </tr>\n",
              "    <tr>\n",
              "      <th>0</th>\n",
              "      <td>S/N</td>\n",
              "      <td>STATE</td>\n",
              "      <td>PARTY</td>\n",
              "      <td>POSITION</td>\n",
              "      <td>CANDIDATE_NAME</td>\n",
              "      <td>PWD</td>\n",
              "      <td>AGE</td>\n",
              "      <td>GENDER</td>\n",
              "      <td>QUALIFICATIONS</td>\n",
              "      <td>REMARKS</td>\n",
              "    </tr>\n",
              "    <tr>\n",
              "      <th>0</th>\n",
              "      <td>S/N</td>\n",
              "      <td>STATE</td>\n",
              "      <td>PARTY</td>\n",
              "      <td>POSITION</td>\n",
              "      <td>CANDIDATE_NAME</td>\n",
              "      <td>PWD</td>\n",
              "      <td>AGE</td>\n",
              "      <td>GENDER</td>\n",
              "      <td>QUALIFICATIONS</td>\n",
              "      <td>REMARKS</td>\n",
              "    </tr>\n",
              "    <tr>\n",
              "      <th>0</th>\n",
              "      <td>S/N</td>\n",
              "      <td>STATE</td>\n",
              "      <td>PARTY</td>\n",
              "      <td>POSITION</td>\n",
              "      <td>CANDIDATE_NAME</td>\n",
              "      <td>PWD</td>\n",
              "      <td>AGE</td>\n",
              "      <td>GENDER</td>\n",
              "      <td>QUALIFICATIONS</td>\n",
              "      <td>REMARKS</td>\n",
              "    </tr>\n",
              "    <tr>\n",
              "      <th>0</th>\n",
              "      <td>S/N</td>\n",
              "      <td>STATE</td>\n",
              "      <td>PARTY</td>\n",
              "      <td>POSITION</td>\n",
              "      <td>CANDIDATE_NAME</td>\n",
              "      <td>PWD</td>\n",
              "      <td>AGE</td>\n",
              "      <td>GENDER</td>\n",
              "      <td>QUALIFICATIONS</td>\n",
              "      <td>REMARKS</td>\n",
              "    </tr>\n",
              "    <tr>\n",
              "      <th>0</th>\n",
              "      <td>S/N</td>\n",
              "      <td>STATE</td>\n",
              "      <td>PARTY</td>\n",
              "      <td>POSITION</td>\n",
              "      <td>CANDIDATE_NAME</td>\n",
              "      <td>PWD</td>\n",
              "      <td>AGE</td>\n",
              "      <td>GENDER</td>\n",
              "      <td>QUALIFICATIONS</td>\n",
              "      <td>REMARKS</td>\n",
              "    </tr>\n",
              "    <tr>\n",
              "      <th>0</th>\n",
              "      <td>S/N</td>\n",
              "      <td>STATE</td>\n",
              "      <td>PARTY</td>\n",
              "      <td>POSITION</td>\n",
              "      <td>CANDIDATE_NAME</td>\n",
              "      <td>PWD</td>\n",
              "      <td>AGE</td>\n",
              "      <td>GENDER</td>\n",
              "      <td>QUALIFICATIONS</td>\n",
              "      <td>REMARKS</td>\n",
              "    </tr>\n",
              "    <tr>\n",
              "      <th>0</th>\n",
              "      <td>S/N</td>\n",
              "      <td>STATE</td>\n",
              "      <td>PARTY</td>\n",
              "      <td>POSITION</td>\n",
              "      <td>CANDIDATE_NAME</td>\n",
              "      <td>PWD</td>\n",
              "      <td>AGE</td>\n",
              "      <td>GENDER</td>\n",
              "      <td>QUALIFICATIONS</td>\n",
              "      <td>REMARKS</td>\n",
              "    </tr>\n",
              "    <tr>\n",
              "      <th>0</th>\n",
              "      <td>S/N</td>\n",
              "      <td>STATE</td>\n",
              "      <td>PARTY</td>\n",
              "      <td>POSITION</td>\n",
              "      <td>CANDIDATE_NAME</td>\n",
              "      <td>PWD</td>\n",
              "      <td>AGE</td>\n",
              "      <td>GENDER</td>\n",
              "      <td>QUALIFICATIONS</td>\n",
              "      <td>REMARKS</td>\n",
              "    </tr>\n",
              "    <tr>\n",
              "      <th>0</th>\n",
              "      <td>S/N</td>\n",
              "      <td>STATE</td>\n",
              "      <td>PARTY</td>\n",
              "      <td>POSITION</td>\n",
              "      <td>CANDIDATE_NAME</td>\n",
              "      <td>PWD</td>\n",
              "      <td>AGE</td>\n",
              "      <td>GENDER</td>\n",
              "      <td>QUALIFICATIONS</td>\n",
              "      <td>REMARKS</td>\n",
              "    </tr>\n",
              "    <tr>\n",
              "      <th>0</th>\n",
              "      <td>S/N</td>\n",
              "      <td>STATE</td>\n",
              "      <td>PARTY</td>\n",
              "      <td>POSITION</td>\n",
              "      <td>CANDIDATE_NAME</td>\n",
              "      <td>PWD</td>\n",
              "      <td>AGE</td>\n",
              "      <td>GENDER</td>\n",
              "      <td>QUALIFICATIONS</td>\n",
              "      <td>REMARKS</td>\n",
              "    </tr>\n",
              "    <tr>\n",
              "      <th>0</th>\n",
              "      <td>S/N</td>\n",
              "      <td>STATE</td>\n",
              "      <td>PARTY</td>\n",
              "      <td>POSITION</td>\n",
              "      <td>CANDIDATE_NAME</td>\n",
              "      <td>PWD</td>\n",
              "      <td>AGE</td>\n",
              "      <td>GENDER</td>\n",
              "      <td>QUALIFICATIONS</td>\n",
              "      <td>REMARKS</td>\n",
              "    </tr>\n",
              "    <tr>\n",
              "      <th>0</th>\n",
              "      <td>S/N</td>\n",
              "      <td>STATE</td>\n",
              "      <td>PARTY</td>\n",
              "      <td>POSITION</td>\n",
              "      <td>CANDIDATE_NAME</td>\n",
              "      <td>PWD</td>\n",
              "      <td>AGE</td>\n",
              "      <td>GENDER</td>\n",
              "      <td>QUALIFICATIONS</td>\n",
              "      <td>REMARKS</td>\n",
              "    </tr>\n",
              "    <tr>\n",
              "      <th>0</th>\n",
              "      <td>S/N</td>\n",
              "      <td>STATE</td>\n",
              "      <td>PARTY</td>\n",
              "      <td>POSITION</td>\n",
              "      <td>CANDIDATE_NAME</td>\n",
              "      <td>PWD</td>\n",
              "      <td>AGE</td>\n",
              "      <td>GENDER</td>\n",
              "      <td>QUALIFICATIONS</td>\n",
              "      <td>REMARKS</td>\n",
              "    </tr>\n",
              "    <tr>\n",
              "      <th>0</th>\n",
              "      <td>S/N</td>\n",
              "      <td>STATE</td>\n",
              "      <td>PARTY</td>\n",
              "      <td>POSITION</td>\n",
              "      <td>CANDIDATE_NAME</td>\n",
              "      <td>PWD</td>\n",
              "      <td>AGE</td>\n",
              "      <td>GENDER</td>\n",
              "      <td>QUALIFICATIONS</td>\n",
              "      <td>REMARKS</td>\n",
              "    </tr>\n",
              "    <tr>\n",
              "      <th>0</th>\n",
              "      <td>S/N</td>\n",
              "      <td>STATE</td>\n",
              "      <td>PARTY</td>\n",
              "      <td>POSITION</td>\n",
              "      <td>CANDIDATE_NAME</td>\n",
              "      <td>PWD</td>\n",
              "      <td>AGE</td>\n",
              "      <td>GENDER</td>\n",
              "      <td>QUALIFICATIONS</td>\n",
              "      <td>REMARKS</td>\n",
              "    </tr>\n",
              "    <tr>\n",
              "      <th>0</th>\n",
              "      <td>S/N</td>\n",
              "      <td>STATE</td>\n",
              "      <td>PARTY</td>\n",
              "      <td>POSITION</td>\n",
              "      <td>CANDIDATE_NAME</td>\n",
              "      <td>PWD</td>\n",
              "      <td>AGE</td>\n",
              "      <td>GENDER</td>\n",
              "      <td>QUALIFICATIONS</td>\n",
              "      <td>REMARKS</td>\n",
              "    </tr>\n",
              "    <tr>\n",
              "      <th>0</th>\n",
              "      <td>S/N</td>\n",
              "      <td>STATE</td>\n",
              "      <td>PARTY</td>\n",
              "      <td>POSITION</td>\n",
              "      <td>CANDIDATE_NAME</td>\n",
              "      <td>PWD</td>\n",
              "      <td>AGE</td>\n",
              "      <td>GENDER</td>\n",
              "      <td>QUALIFICATIONS</td>\n",
              "      <td>REMARKS</td>\n",
              "    </tr>\n",
              "    <tr>\n",
              "      <th>0</th>\n",
              "      <td>S/N</td>\n",
              "      <td>STATE</td>\n",
              "      <td>PARTY</td>\n",
              "      <td>POSITION</td>\n",
              "      <td>CANDIDATE_NAME</td>\n",
              "      <td>PWD</td>\n",
              "      <td>AGE</td>\n",
              "      <td>GENDER</td>\n",
              "      <td>QUALIFICATIONS</td>\n",
              "      <td>REMARKS</td>\n",
              "    </tr>\n",
              "    <tr>\n",
              "      <th>0</th>\n",
              "      <td>S/N</td>\n",
              "      <td>STATE</td>\n",
              "      <td>PARTY</td>\n",
              "      <td>POSITION</td>\n",
              "      <td>CANDIDATE_NAME</td>\n",
              "      <td>PWD</td>\n",
              "      <td>AGE</td>\n",
              "      <td>GENDER</td>\n",
              "      <td>QUALIFICATIONS</td>\n",
              "      <td>REMARKS</td>\n",
              "    </tr>\n",
              "    <tr>\n",
              "      <th>0</th>\n",
              "      <td>S/N</td>\n",
              "      <td>STATE</td>\n",
              "      <td>PARTY</td>\n",
              "      <td>POSITION</td>\n",
              "      <td>CANDIDATE_NAME</td>\n",
              "      <td>PWD</td>\n",
              "      <td>AGE</td>\n",
              "      <td>GENDER</td>\n",
              "      <td>QUALIFICATIONS</td>\n",
              "      <td>REMARKS</td>\n",
              "    </tr>\n",
              "    <tr>\n",
              "      <th>0</th>\n",
              "      <td>S/N</td>\n",
              "      <td>STATE</td>\n",
              "      <td>PARTY</td>\n",
              "      <td>POSITION</td>\n",
              "      <td>CANDIDATE_NAME</td>\n",
              "      <td>PWD</td>\n",
              "      <td>AGE</td>\n",
              "      <td>GENDER</td>\n",
              "      <td>QUALIFICATIONS</td>\n",
              "      <td>REMARKS</td>\n",
              "    </tr>\n",
              "    <tr>\n",
              "      <th>0</th>\n",
              "      <td>S/N</td>\n",
              "      <td>STATE</td>\n",
              "      <td>PARTY</td>\n",
              "      <td>POSITION</td>\n",
              "      <td>CANDIDATE_NAME</td>\n",
              "      <td>PWD</td>\n",
              "      <td>AGE</td>\n",
              "      <td>GENDER</td>\n",
              "      <td>QUALIFICATIONS</td>\n",
              "      <td>REMARKS</td>\n",
              "    </tr>\n",
              "    <tr>\n",
              "      <th>0</th>\n",
              "      <td>S/N</td>\n",
              "      <td>STATE</td>\n",
              "      <td>PARTY</td>\n",
              "      <td>POSITION</td>\n",
              "      <td>CANDIDATE_NAME</td>\n",
              "      <td>PWD</td>\n",
              "      <td>AGE</td>\n",
              "      <td>GENDER</td>\n",
              "      <td>QUALIFICATIONS</td>\n",
              "      <td>REMARKS</td>\n",
              "    </tr>\n",
              "    <tr>\n",
              "      <th>0</th>\n",
              "      <td>S/N</td>\n",
              "      <td>STATE</td>\n",
              "      <td>PARTY</td>\n",
              "      <td>POSITION</td>\n",
              "      <td>CANDIDATE_NAME</td>\n",
              "      <td>PWD</td>\n",
              "      <td>AGE</td>\n",
              "      <td>GENDER</td>\n",
              "      <td>QUALIFICATIONS</td>\n",
              "      <td>REMARKS</td>\n",
              "    </tr>\n",
              "  </tbody>\n",
              "</table>\n",
              "</div>"
            ],
            "text/plain": [
              "   s/n  state  party  position name of candidate  pwd  age  gender  \\\n",
              "0  S/N  STATE  PARTY  POSITION    CANDIDATE_NAME  PWD  AGE  GENDER   \n",
              "0  S/N  STATE  PARTY  POSITION    CANDIDATE_NAME  PWD  AGE  GENDER   \n",
              "0  S/N  STATE  PARTY  POSITION    CANDIDATE_NAME  PWD  AGE  GENDER   \n",
              "0  S/N  STATE  PARTY  POSITION    CANDIDATE_NAME  PWD  AGE  GENDER   \n",
              "0  S/N  STATE  PARTY  POSITION    CANDIDATE_NAME  PWD  AGE  GENDER   \n",
              "0  S/N  STATE  PARTY  POSITION    CANDIDATE_NAME  PWD  AGE  GENDER   \n",
              "0  S/N  STATE  PARTY  POSITION    CANDIDATE_NAME  PWD  AGE  GENDER   \n",
              "0  S/N  STATE  PARTY  POSITION    CANDIDATE_NAME  PWD  AGE  GENDER   \n",
              "0  S/N  STATE  PARTY  POSITION    CANDIDATE_NAME  PWD  AGE  GENDER   \n",
              "0  S/N  STATE  PARTY  POSITION    CANDIDATE_NAME  PWD  AGE  GENDER   \n",
              "0  S/N  STATE  PARTY  POSITION    CANDIDATE_NAME  PWD  AGE  GENDER   \n",
              "0  S/N  STATE  PARTY  POSITION    CANDIDATE_NAME  PWD  AGE  GENDER   \n",
              "0  S/N  STATE  PARTY  POSITION    CANDIDATE_NAME  PWD  AGE  GENDER   \n",
              "0  S/N  STATE  PARTY  POSITION    CANDIDATE_NAME  PWD  AGE  GENDER   \n",
              "0  S/N  STATE  PARTY  POSITION    CANDIDATE_NAME  PWD  AGE  GENDER   \n",
              "0  S/N  STATE  PARTY  POSITION    CANDIDATE_NAME  PWD  AGE  GENDER   \n",
              "0  S/N  STATE  PARTY  POSITION    CANDIDATE_NAME  PWD  AGE  GENDER   \n",
              "0  S/N  STATE  PARTY  POSITION    CANDIDATE_NAME  PWD  AGE  GENDER   \n",
              "0  S/N  STATE  PARTY  POSITION    CANDIDATE_NAME  PWD  AGE  GENDER   \n",
              "0  S/N  STATE  PARTY  POSITION    CANDIDATE_NAME  PWD  AGE  GENDER   \n",
              "0  S/N  STATE  PARTY  POSITION    CANDIDATE_NAME  PWD  AGE  GENDER   \n",
              "0  S/N  STATE  PARTY  POSITION    CANDIDATE_NAME  PWD  AGE  GENDER   \n",
              "0  S/N  STATE  PARTY  POSITION    CANDIDATE_NAME  PWD  AGE  GENDER   \n",
              "0  S/N  STATE  PARTY  POSITION    CANDIDATE_NAME  PWD  AGE  GENDER   \n",
              "0  S/N  STATE  PARTY  POSITION    CANDIDATE_NAME  PWD  AGE  GENDER   \n",
              "0  S/N  STATE  PARTY  POSITION    CANDIDATE_NAME  PWD  AGE  GENDER   \n",
              "0  S/N  STATE  PARTY  POSITION    CANDIDATE_NAME  PWD  AGE  GENDER   \n",
              "\n",
              "   qualifications  remarks  \n",
              "0  QUALIFICATIONS  REMARKS  \n",
              "0  QUALIFICATIONS  REMARKS  \n",
              "0  QUALIFICATIONS  REMARKS  \n",
              "0  QUALIFICATIONS  REMARKS  \n",
              "0  QUALIFICATIONS  REMARKS  \n",
              "0  QUALIFICATIONS  REMARKS  \n",
              "0  QUALIFICATIONS  REMARKS  \n",
              "0  QUALIFICATIONS  REMARKS  \n",
              "0  QUALIFICATIONS  REMARKS  \n",
              "0  QUALIFICATIONS  REMARKS  \n",
              "0  QUALIFICATIONS  REMARKS  \n",
              "0  QUALIFICATIONS  REMARKS  \n",
              "0  QUALIFICATIONS  REMARKS  \n",
              "0  QUALIFICATIONS  REMARKS  \n",
              "0  QUALIFICATIONS  REMARKS  \n",
              "0  QUALIFICATIONS  REMARKS  \n",
              "0  QUALIFICATIONS  REMARKS  \n",
              "0  QUALIFICATIONS  REMARKS  \n",
              "0  QUALIFICATIONS  REMARKS  \n",
              "0  QUALIFICATIONS  REMARKS  \n",
              "0  QUALIFICATIONS  REMARKS  \n",
              "0  QUALIFICATIONS  REMARKS  \n",
              "0  QUALIFICATIONS  REMARKS  \n",
              "0  QUALIFICATIONS  REMARKS  \n",
              "0  QUALIFICATIONS  REMARKS  \n",
              "0  QUALIFICATIONS  REMARKS  \n",
              "0  QUALIFICATIONS  REMARKS  "
            ]
          },
          "execution_count": 32,
          "metadata": {},
          "output_type": "execute_result"
        }
      ],
      "source": [
        "s"
      ]
    },
    {
      "cell_type": "code",
      "execution_count": null,
      "id": "160592bc",
      "metadata": {
        "id": "160592bc",
        "outputId": "e8276498-8f68-4540-cd66-faf7fc99dda5"
      },
      "outputs": [
        {
          "data": {
            "text/plain": [
              "(27, 10)"
            ]
          },
          "execution_count": 31,
          "metadata": {},
          "output_type": "execute_result"
        }
      ],
      "source": [
        "s.shape"
      ]
    },
    {
      "cell_type": "code",
      "execution_count": null,
      "id": "57e5ff72",
      "metadata": {
        "id": "57e5ff72"
      },
      "outputs": [],
      "source": [
        "gov = gov[gov['state'].str.contains(\"STATE\") == False]"
      ]
    },
    {
      "cell_type": "code",
      "execution_count": null,
      "id": "dd62bab8",
      "metadata": {
        "id": "dd62bab8",
        "outputId": "3d5150cd-a7ba-44cf-8d1d-ef18bfcb4cc5"
      },
      "outputs": [
        {
          "data": {
            "text/plain": [
              "array(['ABIA', 'ADAMAWA', 'AKWA IBOM', 'BAUCHI', 'BENUE', 'BORNO',\n",
              "       'CROSS River', 'DELTA', 'EBONYI', 'ENUGU', 'GOMBE', 'JIGAWA',\n",
              "       'KADUNA', 'KANO', 'KATSINA', 'KEBBI', 'KWARA', 'LAGOS', 'NASARAWA',\n",
              "       'NIGER', 'OGUN', 'OYO', 'PLATEAU', 'RIVERS', 'SOKOTO', 'TARABA',\n",
              "       'YOBE', 'ZAMFARA'], dtype=object)"
            ]
          },
          "execution_count": 34,
          "metadata": {},
          "output_type": "execute_result"
        }
      ],
      "source": [
        "gov.state.unique()"
      ]
    },
    {
      "cell_type": "code",
      "execution_count": null,
      "id": "0e178b95",
      "metadata": {
        "id": "0e178b95",
        "outputId": "a6f3dfe6-eea6-4b1a-ba47-a9d20e69392e"
      },
      "outputs": [
        {
          "data": {
            "text/plain": [
              "28"
            ]
          },
          "execution_count": 35,
          "metadata": {},
          "output_type": "execute_result"
        }
      ],
      "source": [
        "gov.state.nunique()"
      ]
    },
    {
      "cell_type": "code",
      "execution_count": null,
      "id": "295c72e9",
      "metadata": {
        "id": "295c72e9",
        "outputId": "15908f6d-4baf-417c-ca70-d1698e1fe0d9"
      },
      "outputs": [
        {
          "name": "stdout",
          "output_type": "stream",
          "text": [
            "0\n"
          ]
        }
      ],
      "source": [
        "print(gov.duplicated().sum())"
      ]
    },
    {
      "cell_type": "code",
      "execution_count": null,
      "id": "76fc9038",
      "metadata": {
        "id": "76fc9038",
        "outputId": "ee5c8fbe-bafe-486b-d66d-fb5bec7b93b3"
      },
      "outputs": [
        {
          "data": {
            "text/html": [
              "<div>\n",
              "<style scoped>\n",
              "    .dataframe tbody tr th:only-of-type {\n",
              "        vertical-align: middle;\n",
              "    }\n",
              "\n",
              "    .dataframe tbody tr th {\n",
              "        vertical-align: top;\n",
              "    }\n",
              "\n",
              "    .dataframe thead th {\n",
              "        text-align: right;\n",
              "    }\n",
              "</style>\n",
              "<table border=\"1\" class=\"dataframe\">\n",
              "  <thead>\n",
              "    <tr style=\"text-align: right;\">\n",
              "      <th></th>\n",
              "      <th>s/n</th>\n",
              "      <th>state</th>\n",
              "      <th>party</th>\n",
              "      <th>position</th>\n",
              "      <th>name of candidate</th>\n",
              "      <th>pwd</th>\n",
              "      <th>age</th>\n",
              "      <th>gender</th>\n",
              "      <th>qualifications</th>\n",
              "      <th>remarks</th>\n",
              "    </tr>\n",
              "  </thead>\n",
              "  <tbody>\n",
              "    <tr>\n",
              "      <th>9</th>\n",
              "      <td>833</td>\n",
              "      <td>ZAMFARA</td>\n",
              "      <td>SDP</td>\n",
              "      <td>Deputy- Governorship</td>\n",
              "      <td>RUFAI LAWALI</td>\n",
              "      <td>None</td>\n",
              "      <td>56</td>\n",
              "      <td>M</td>\n",
              "      <td>PRIMARY SCHOOL CERT SECONDARY SCHOOL CERT NATI...</td>\n",
              "      <td>NaN</td>\n",
              "    </tr>\n",
              "    <tr>\n",
              "      <th>10</th>\n",
              "      <td>834</td>\n",
              "      <td>ZAMFARA</td>\n",
              "      <td>YPP</td>\n",
              "      <td>Governorship</td>\n",
              "      <td>UMAR ALHAJI SANI</td>\n",
              "      <td>None</td>\n",
              "      <td>56</td>\n",
              "      <td>M</td>\n",
              "      <td>FSLC SSCE</td>\n",
              "      <td>NaN</td>\n",
              "    </tr>\n",
              "    <tr>\n",
              "      <th>11</th>\n",
              "      <td>835</td>\n",
              "      <td>ZAMFARA</td>\n",
              "      <td>YPP</td>\n",
              "      <td>Deputy- Governorship</td>\n",
              "      <td>GANDI ABUBAKAR</td>\n",
              "      <td>None</td>\n",
              "      <td>62</td>\n",
              "      <td>M</td>\n",
              "      <td>FSLC KAN RAN NAMODA TEACHERS COLLEGE</td>\n",
              "      <td>NaN</td>\n",
              "    </tr>\n",
              "    <tr>\n",
              "      <th>12</th>\n",
              "      <td>836</td>\n",
              "      <td>ZAMFARA</td>\n",
              "      <td>ZLP</td>\n",
              "      <td>Governorship</td>\n",
              "      <td>USMAN HADIZA</td>\n",
              "      <td>None</td>\n",
              "      <td>35</td>\n",
              "      <td>F</td>\n",
              "      <td>FIRST SCHOOL LEAVING CERTIFICATE  SSCE NCE</td>\n",
              "      <td>NaN</td>\n",
              "    </tr>\n",
              "    <tr>\n",
              "      <th>13</th>\n",
              "      <td>837</td>\n",
              "      <td>ZAMFARA</td>\n",
              "      <td>ZLP</td>\n",
              "      <td>Deputy- Governorship</td>\n",
              "      <td>YUSUF SANI</td>\n",
              "      <td>None</td>\n",
              "      <td>38</td>\n",
              "      <td>M</td>\n",
              "      <td>WASSCE NATIONAL DPLOMA IN COMPUTER SCIENCE</td>\n",
              "      <td>NaN</td>\n",
              "    </tr>\n",
              "  </tbody>\n",
              "</table>\n",
              "</div>"
            ],
            "text/plain": [
              "    s/n    state party              position name of candidate   pwd age  \\\n",
              "9   833  ZAMFARA   SDP  Deputy- Governorship      RUFAI LAWALI  None  56   \n",
              "10  834  ZAMFARA   YPP          Governorship  UMAR ALHAJI SANI  None  56   \n",
              "11  835  ZAMFARA   YPP  Deputy- Governorship    GANDI ABUBAKAR  None  62   \n",
              "12  836  ZAMFARA   ZLP          Governorship      USMAN HADIZA  None  35   \n",
              "13  837  ZAMFARA   ZLP  Deputy- Governorship        YUSUF SANI  None  38   \n",
              "\n",
              "   gender                                     qualifications remarks  \n",
              "9       M  PRIMARY SCHOOL CERT SECONDARY SCHOOL CERT NATI...     NaN  \n",
              "10      M                                          FSLC SSCE     NaN  \n",
              "11      M               FSLC KAN RAN NAMODA TEACHERS COLLEGE     NaN  \n",
              "12      F         FIRST SCHOOL LEAVING CERTIFICATE  SSCE NCE     NaN  \n",
              "13      M         WASSCE NATIONAL DPLOMA IN COMPUTER SCIENCE     NaN  "
            ]
          },
          "execution_count": 37,
          "metadata": {},
          "output_type": "execute_result"
        }
      ],
      "source": [
        "gov.tail(5)"
      ]
    },
    {
      "cell_type": "code",
      "execution_count": null,
      "id": "04bbce35",
      "metadata": {
        "scrolled": true,
        "id": "04bbce35"
      },
      "outputs": [],
      "source": [
        "gov['age'] = gov['age'].fillna(0).astype('int64')"
      ]
    },
    {
      "cell_type": "code",
      "execution_count": null,
      "id": "f85242cb",
      "metadata": {
        "id": "f85242cb",
        "outputId": "9f8f3d5c-d69a-47da-8dad-f49599c80647"
      },
      "outputs": [
        {
          "data": {
            "text/html": [
              "<div>\n",
              "<style scoped>\n",
              "    .dataframe tbody tr th:only-of-type {\n",
              "        vertical-align: middle;\n",
              "    }\n",
              "\n",
              "    .dataframe tbody tr th {\n",
              "        vertical-align: top;\n",
              "    }\n",
              "\n",
              "    .dataframe thead th {\n",
              "        text-align: right;\n",
              "    }\n",
              "</style>\n",
              "<table border=\"1\" class=\"dataframe\">\n",
              "  <thead>\n",
              "    <tr style=\"text-align: right;\">\n",
              "      <th></th>\n",
              "      <th>age</th>\n",
              "    </tr>\n",
              "  </thead>\n",
              "  <tbody>\n",
              "    <tr>\n",
              "      <th>count</th>\n",
              "      <td>838.000000</td>\n",
              "    </tr>\n",
              "    <tr>\n",
              "      <th>mean</th>\n",
              "      <td>49.434368</td>\n",
              "    </tr>\n",
              "    <tr>\n",
              "      <th>std</th>\n",
              "      <td>10.421229</td>\n",
              "    </tr>\n",
              "    <tr>\n",
              "      <th>min</th>\n",
              "      <td>0.000000</td>\n",
              "    </tr>\n",
              "    <tr>\n",
              "      <th>25%</th>\n",
              "      <td>41.000000</td>\n",
              "    </tr>\n",
              "    <tr>\n",
              "      <th>50%</th>\n",
              "      <td>49.000000</td>\n",
              "    </tr>\n",
              "    <tr>\n",
              "      <th>75%</th>\n",
              "      <td>58.000000</td>\n",
              "    </tr>\n",
              "    <tr>\n",
              "      <th>max</th>\n",
              "      <td>75.000000</td>\n",
              "    </tr>\n",
              "  </tbody>\n",
              "</table>\n",
              "</div>"
            ],
            "text/plain": [
              "              age\n",
              "count  838.000000\n",
              "mean    49.434368\n",
              "std     10.421229\n",
              "min      0.000000\n",
              "25%     41.000000\n",
              "50%     49.000000\n",
              "75%     58.000000\n",
              "max     75.000000"
            ]
          },
          "execution_count": 40,
          "metadata": {},
          "output_type": "execute_result"
        }
      ],
      "source": [
        "gov.describe()"
      ]
    },
    {
      "cell_type": "code",
      "execution_count": null,
      "id": "9bb22a04",
      "metadata": {
        "id": "9bb22a04",
        "outputId": "70900889-a57f-44dd-84f5-5ead58f51587"
      },
      "outputs": [
        {
          "data": {
            "text/plain": [
              "s/n                  object\n",
              "state                object\n",
              "party                object\n",
              "position             object\n",
              "name of candidate    object\n",
              "pwd                  object\n",
              "age                   int64\n",
              "gender               object\n",
              "qualifications       object\n",
              "remarks              object\n",
              "dtype: object"
            ]
          },
          "execution_count": 41,
          "metadata": {},
          "output_type": "execute_result"
        }
      ],
      "source": [
        "gov.dtypes"
      ]
    },
    {
      "cell_type": "code",
      "execution_count": null,
      "id": "1e622379",
      "metadata": {
        "id": "1e622379"
      },
      "outputs": [],
      "source": [
        "gov['source'] = source"
      ]
    },
    {
      "cell_type": "code",
      "execution_count": null,
      "id": "070a7e37",
      "metadata": {
        "id": "070a7e37",
        "outputId": "e92df047-2359-44ae-b40b-592e2be71cdb"
      },
      "outputs": [
        {
          "data": {
            "text/html": [
              "<div>\n",
              "<style scoped>\n",
              "    .dataframe tbody tr th:only-of-type {\n",
              "        vertical-align: middle;\n",
              "    }\n",
              "\n",
              "    .dataframe tbody tr th {\n",
              "        vertical-align: top;\n",
              "    }\n",
              "\n",
              "    .dataframe thead th {\n",
              "        text-align: right;\n",
              "    }\n",
              "</style>\n",
              "<table border=\"1\" class=\"dataframe\">\n",
              "  <thead>\n",
              "    <tr style=\"text-align: right;\">\n",
              "      <th></th>\n",
              "      <th>s/n</th>\n",
              "      <th>state</th>\n",
              "      <th>party</th>\n",
              "      <th>position</th>\n",
              "      <th>name of candidate</th>\n",
              "      <th>pwd</th>\n",
              "      <th>age</th>\n",
              "      <th>gender</th>\n",
              "      <th>qualifications</th>\n",
              "      <th>remarks</th>\n",
              "      <th>source</th>\n",
              "    </tr>\n",
              "  </thead>\n",
              "  <tbody>\n",
              "    <tr>\n",
              "      <th>9</th>\n",
              "      <td>833</td>\n",
              "      <td>ZAMFARA</td>\n",
              "      <td>SDP</td>\n",
              "      <td>Deputy- Governorship</td>\n",
              "      <td>RUFAI LAWALI</td>\n",
              "      <td>None</td>\n",
              "      <td>56</td>\n",
              "      <td>M</td>\n",
              "      <td>PRIMARY SCHOOL CERT SECONDARY SCHOOL CERT NATI...</td>\n",
              "      <td>NaN</td>\n",
              "      <td>https://inecnigeria.org/list-of-candidates-for...</td>\n",
              "    </tr>\n",
              "    <tr>\n",
              "      <th>10</th>\n",
              "      <td>834</td>\n",
              "      <td>ZAMFARA</td>\n",
              "      <td>YPP</td>\n",
              "      <td>Governorship</td>\n",
              "      <td>UMAR ALHAJI SANI</td>\n",
              "      <td>None</td>\n",
              "      <td>56</td>\n",
              "      <td>M</td>\n",
              "      <td>FSLC SSCE</td>\n",
              "      <td>NaN</td>\n",
              "      <td>https://inecnigeria.org/list-of-candidates-for...</td>\n",
              "    </tr>\n",
              "    <tr>\n",
              "      <th>11</th>\n",
              "      <td>835</td>\n",
              "      <td>ZAMFARA</td>\n",
              "      <td>YPP</td>\n",
              "      <td>Deputy- Governorship</td>\n",
              "      <td>GANDI ABUBAKAR</td>\n",
              "      <td>None</td>\n",
              "      <td>62</td>\n",
              "      <td>M</td>\n",
              "      <td>FSLC KAN RAN NAMODA TEACHERS COLLEGE</td>\n",
              "      <td>NaN</td>\n",
              "      <td>https://inecnigeria.org/list-of-candidates-for...</td>\n",
              "    </tr>\n",
              "    <tr>\n",
              "      <th>12</th>\n",
              "      <td>836</td>\n",
              "      <td>ZAMFARA</td>\n",
              "      <td>ZLP</td>\n",
              "      <td>Governorship</td>\n",
              "      <td>USMAN HADIZA</td>\n",
              "      <td>None</td>\n",
              "      <td>35</td>\n",
              "      <td>F</td>\n",
              "      <td>FIRST SCHOOL LEAVING CERTIFICATE  SSCE NCE</td>\n",
              "      <td>NaN</td>\n",
              "      <td>https://inecnigeria.org/list-of-candidates-for...</td>\n",
              "    </tr>\n",
              "    <tr>\n",
              "      <th>13</th>\n",
              "      <td>837</td>\n",
              "      <td>ZAMFARA</td>\n",
              "      <td>ZLP</td>\n",
              "      <td>Deputy- Governorship</td>\n",
              "      <td>YUSUF SANI</td>\n",
              "      <td>None</td>\n",
              "      <td>38</td>\n",
              "      <td>M</td>\n",
              "      <td>WASSCE NATIONAL DPLOMA IN COMPUTER SCIENCE</td>\n",
              "      <td>NaN</td>\n",
              "      <td>https://inecnigeria.org/list-of-candidates-for...</td>\n",
              "    </tr>\n",
              "  </tbody>\n",
              "</table>\n",
              "</div>"
            ],
            "text/plain": [
              "    s/n    state party              position name of candidate   pwd  age  \\\n",
              "9   833  ZAMFARA   SDP  Deputy- Governorship      RUFAI LAWALI  None   56   \n",
              "10  834  ZAMFARA   YPP          Governorship  UMAR ALHAJI SANI  None   56   \n",
              "11  835  ZAMFARA   YPP  Deputy- Governorship    GANDI ABUBAKAR  None   62   \n",
              "12  836  ZAMFARA   ZLP          Governorship      USMAN HADIZA  None   35   \n",
              "13  837  ZAMFARA   ZLP  Deputy- Governorship        YUSUF SANI  None   38   \n",
              "\n",
              "   gender                                     qualifications remarks  \\\n",
              "9       M  PRIMARY SCHOOL CERT SECONDARY SCHOOL CERT NATI...     NaN   \n",
              "10      M                                          FSLC SSCE     NaN   \n",
              "11      M               FSLC KAN RAN NAMODA TEACHERS COLLEGE     NaN   \n",
              "12      F         FIRST SCHOOL LEAVING CERTIFICATE  SSCE NCE     NaN   \n",
              "13      M         WASSCE NATIONAL DPLOMA IN COMPUTER SCIENCE     NaN   \n",
              "\n",
              "                                               source  \n",
              "9   https://inecnigeria.org/list-of-candidates-for...  \n",
              "10  https://inecnigeria.org/list-of-candidates-for...  \n",
              "11  https://inecnigeria.org/list-of-candidates-for...  \n",
              "12  https://inecnigeria.org/list-of-candidates-for...  \n",
              "13  https://inecnigeria.org/list-of-candidates-for...  "
            ]
          },
          "execution_count": 44,
          "metadata": {},
          "output_type": "execute_result"
        }
      ],
      "source": [
        "gov.tail(5)"
      ]
    },
    {
      "cell_type": "code",
      "execution_count": null,
      "id": "192fcb7a",
      "metadata": {
        "id": "192fcb7a",
        "outputId": "d03c6a90-fce4-4565-9d7a-3c5bb99dac0b"
      },
      "outputs": [
        {
          "data": {
            "text/html": [
              "<div>\n",
              "<style scoped>\n",
              "    .dataframe tbody tr th:only-of-type {\n",
              "        vertical-align: middle;\n",
              "    }\n",
              "\n",
              "    .dataframe tbody tr th {\n",
              "        vertical-align: top;\n",
              "    }\n",
              "\n",
              "    .dataframe thead th {\n",
              "        text-align: right;\n",
              "    }\n",
              "</style>\n",
              "<table border=\"1\" class=\"dataframe\">\n",
              "  <thead>\n",
              "    <tr style=\"text-align: right;\">\n",
              "      <th></th>\n",
              "      <th>s/n</th>\n",
              "      <th>state</th>\n",
              "      <th>party</th>\n",
              "      <th>position</th>\n",
              "      <th>name of candidate</th>\n",
              "      <th>pwd</th>\n",
              "      <th>age</th>\n",
              "      <th>gender</th>\n",
              "      <th>qualifications</th>\n",
              "      <th>remarks</th>\n",
              "      <th>source</th>\n",
              "    </tr>\n",
              "  </thead>\n",
              "  <tbody>\n",
              "    <tr>\n",
              "      <th>9</th>\n",
              "      <td>833</td>\n",
              "      <td>ZAMFARA</td>\n",
              "      <td>SDP</td>\n",
              "      <td>Deputy- Governorship</td>\n",
              "      <td>RUFAI LAWALI</td>\n",
              "      <td>None</td>\n",
              "      <td>56</td>\n",
              "      <td>M</td>\n",
              "      <td>PRIMARY SCHOOL CERT SECONDARY SCHOOL CERT NATI...</td>\n",
              "      <td>NaN</td>\n",
              "      <td>https://inecnigeria.org/list-of-candidates-for...</td>\n",
              "    </tr>\n",
              "    <tr>\n",
              "      <th>10</th>\n",
              "      <td>834</td>\n",
              "      <td>ZAMFARA</td>\n",
              "      <td>YPP</td>\n",
              "      <td>Governorship</td>\n",
              "      <td>UMAR ALHAJI SANI</td>\n",
              "      <td>None</td>\n",
              "      <td>56</td>\n",
              "      <td>M</td>\n",
              "      <td>FSLC SSCE</td>\n",
              "      <td>NaN</td>\n",
              "      <td>https://inecnigeria.org/list-of-candidates-for...</td>\n",
              "    </tr>\n",
              "    <tr>\n",
              "      <th>11</th>\n",
              "      <td>835</td>\n",
              "      <td>ZAMFARA</td>\n",
              "      <td>YPP</td>\n",
              "      <td>Deputy- Governorship</td>\n",
              "      <td>GANDI ABUBAKAR</td>\n",
              "      <td>None</td>\n",
              "      <td>62</td>\n",
              "      <td>M</td>\n",
              "      <td>FSLC KAN RAN NAMODA TEACHERS COLLEGE</td>\n",
              "      <td>NaN</td>\n",
              "      <td>https://inecnigeria.org/list-of-candidates-for...</td>\n",
              "    </tr>\n",
              "    <tr>\n",
              "      <th>12</th>\n",
              "      <td>836</td>\n",
              "      <td>ZAMFARA</td>\n",
              "      <td>ZLP</td>\n",
              "      <td>Governorship</td>\n",
              "      <td>USMAN HADIZA</td>\n",
              "      <td>None</td>\n",
              "      <td>35</td>\n",
              "      <td>F</td>\n",
              "      <td>FIRST SCHOOL LEAVING CERTIFICATE  SSCE NCE</td>\n",
              "      <td>NaN</td>\n",
              "      <td>https://inecnigeria.org/list-of-candidates-for...</td>\n",
              "    </tr>\n",
              "    <tr>\n",
              "      <th>13</th>\n",
              "      <td>837</td>\n",
              "      <td>ZAMFARA</td>\n",
              "      <td>ZLP</td>\n",
              "      <td>Deputy- Governorship</td>\n",
              "      <td>YUSUF SANI</td>\n",
              "      <td>None</td>\n",
              "      <td>38</td>\n",
              "      <td>M</td>\n",
              "      <td>WASSCE NATIONAL DPLOMA IN COMPUTER SCIENCE</td>\n",
              "      <td>NaN</td>\n",
              "      <td>https://inecnigeria.org/list-of-candidates-for...</td>\n",
              "    </tr>\n",
              "  </tbody>\n",
              "</table>\n",
              "</div>"
            ],
            "text/plain": [
              "    s/n    state party              position name of candidate   pwd  age  \\\n",
              "9   833  ZAMFARA   SDP  Deputy- Governorship      RUFAI LAWALI  None   56   \n",
              "10  834  ZAMFARA   YPP          Governorship  UMAR ALHAJI SANI  None   56   \n",
              "11  835  ZAMFARA   YPP  Deputy- Governorship    GANDI ABUBAKAR  None   62   \n",
              "12  836  ZAMFARA   ZLP          Governorship      USMAN HADIZA  None   35   \n",
              "13  837  ZAMFARA   ZLP  Deputy- Governorship        YUSUF SANI  None   38   \n",
              "\n",
              "   gender                                     qualifications remarks  \\\n",
              "9       M  PRIMARY SCHOOL CERT SECONDARY SCHOOL CERT NATI...     NaN   \n",
              "10      M                                          FSLC SSCE     NaN   \n",
              "11      M               FSLC KAN RAN NAMODA TEACHERS COLLEGE     NaN   \n",
              "12      F         FIRST SCHOOL LEAVING CERTIFICATE  SSCE NCE     NaN   \n",
              "13      M         WASSCE NATIONAL DPLOMA IN COMPUTER SCIENCE     NaN   \n",
              "\n",
              "                                               source  \n",
              "9   https://inecnigeria.org/list-of-candidates-for...  \n",
              "10  https://inecnigeria.org/list-of-candidates-for...  \n",
              "11  https://inecnigeria.org/list-of-candidates-for...  \n",
              "12  https://inecnigeria.org/list-of-candidates-for...  \n",
              "13  https://inecnigeria.org/list-of-candidates-for...  "
            ]
          },
          "execution_count": 46,
          "metadata": {},
          "output_type": "execute_result"
        }
      ],
      "source": [
        "gov.tail(5)"
      ]
    },
    {
      "cell_type": "code",
      "execution_count": null,
      "id": "8fd6db7b",
      "metadata": {
        "id": "8fd6db7b"
      },
      "outputs": [],
      "source": [
        "gov.replace(to_replace=[\"M\", \"F\"],\n",
        "           value=[\"male\", \"female\"], inplace = True)"
      ]
    },
    {
      "cell_type": "code",
      "execution_count": null,
      "id": "45d1f267",
      "metadata": {
        "id": "45d1f267",
        "outputId": "6df210e9-118c-4f4a-c6fb-91e18f23a7db"
      },
      "outputs": [
        {
          "data": {
            "text/html": [
              "<div>\n",
              "<style scoped>\n",
              "    .dataframe tbody tr th:only-of-type {\n",
              "        vertical-align: middle;\n",
              "    }\n",
              "\n",
              "    .dataframe tbody tr th {\n",
              "        vertical-align: top;\n",
              "    }\n",
              "\n",
              "    .dataframe thead th {\n",
              "        text-align: right;\n",
              "    }\n",
              "</style>\n",
              "<table border=\"1\" class=\"dataframe\">\n",
              "  <thead>\n",
              "    <tr style=\"text-align: right;\">\n",
              "      <th></th>\n",
              "      <th>s/n</th>\n",
              "      <th>state</th>\n",
              "      <th>party</th>\n",
              "      <th>position</th>\n",
              "      <th>name of candidate</th>\n",
              "      <th>pwd</th>\n",
              "      <th>age</th>\n",
              "      <th>gender</th>\n",
              "      <th>qualifications</th>\n",
              "      <th>remarks</th>\n",
              "      <th>source</th>\n",
              "    </tr>\n",
              "  </thead>\n",
              "  <tbody>\n",
              "    <tr>\n",
              "      <th>9</th>\n",
              "      <td>833</td>\n",
              "      <td>ZAMFARA</td>\n",
              "      <td>SDP</td>\n",
              "      <td>Deputy- Governorship</td>\n",
              "      <td>RUFAI LAWALI</td>\n",
              "      <td>None</td>\n",
              "      <td>56</td>\n",
              "      <td>male</td>\n",
              "      <td>PRIMARY SCHOOL CERT SECONDARY SCHOOL CERT NATI...</td>\n",
              "      <td>NaN</td>\n",
              "      <td>https://inecnigeria.org/list-of-candidates-for...</td>\n",
              "    </tr>\n",
              "    <tr>\n",
              "      <th>10</th>\n",
              "      <td>834</td>\n",
              "      <td>ZAMFARA</td>\n",
              "      <td>YPP</td>\n",
              "      <td>Governorship</td>\n",
              "      <td>UMAR ALHAJI SANI</td>\n",
              "      <td>None</td>\n",
              "      <td>56</td>\n",
              "      <td>male</td>\n",
              "      <td>FSLC SSCE</td>\n",
              "      <td>NaN</td>\n",
              "      <td>https://inecnigeria.org/list-of-candidates-for...</td>\n",
              "    </tr>\n",
              "    <tr>\n",
              "      <th>11</th>\n",
              "      <td>835</td>\n",
              "      <td>ZAMFARA</td>\n",
              "      <td>YPP</td>\n",
              "      <td>Deputy- Governorship</td>\n",
              "      <td>GANDI ABUBAKAR</td>\n",
              "      <td>None</td>\n",
              "      <td>62</td>\n",
              "      <td>male</td>\n",
              "      <td>FSLC KAN RAN NAMODA TEACHERS COLLEGE</td>\n",
              "      <td>NaN</td>\n",
              "      <td>https://inecnigeria.org/list-of-candidates-for...</td>\n",
              "    </tr>\n",
              "    <tr>\n",
              "      <th>12</th>\n",
              "      <td>836</td>\n",
              "      <td>ZAMFARA</td>\n",
              "      <td>ZLP</td>\n",
              "      <td>Governorship</td>\n",
              "      <td>USMAN HADIZA</td>\n",
              "      <td>None</td>\n",
              "      <td>35</td>\n",
              "      <td>female</td>\n",
              "      <td>FIRST SCHOOL LEAVING CERTIFICATE  SSCE NCE</td>\n",
              "      <td>NaN</td>\n",
              "      <td>https://inecnigeria.org/list-of-candidates-for...</td>\n",
              "    </tr>\n",
              "    <tr>\n",
              "      <th>13</th>\n",
              "      <td>837</td>\n",
              "      <td>ZAMFARA</td>\n",
              "      <td>ZLP</td>\n",
              "      <td>Deputy- Governorship</td>\n",
              "      <td>YUSUF SANI</td>\n",
              "      <td>None</td>\n",
              "      <td>38</td>\n",
              "      <td>male</td>\n",
              "      <td>WASSCE NATIONAL DPLOMA IN COMPUTER SCIENCE</td>\n",
              "      <td>NaN</td>\n",
              "      <td>https://inecnigeria.org/list-of-candidates-for...</td>\n",
              "    </tr>\n",
              "  </tbody>\n",
              "</table>\n",
              "</div>"
            ],
            "text/plain": [
              "    s/n    state party              position name of candidate   pwd  age  \\\n",
              "9   833  ZAMFARA   SDP  Deputy- Governorship      RUFAI LAWALI  None   56   \n",
              "10  834  ZAMFARA   YPP          Governorship  UMAR ALHAJI SANI  None   56   \n",
              "11  835  ZAMFARA   YPP  Deputy- Governorship    GANDI ABUBAKAR  None   62   \n",
              "12  836  ZAMFARA   ZLP          Governorship      USMAN HADIZA  None   35   \n",
              "13  837  ZAMFARA   ZLP  Deputy- Governorship        YUSUF SANI  None   38   \n",
              "\n",
              "    gender                                     qualifications remarks  \\\n",
              "9     male  PRIMARY SCHOOL CERT SECONDARY SCHOOL CERT NATI...     NaN   \n",
              "10    male                                          FSLC SSCE     NaN   \n",
              "11    male               FSLC KAN RAN NAMODA TEACHERS COLLEGE     NaN   \n",
              "12  female         FIRST SCHOOL LEAVING CERTIFICATE  SSCE NCE     NaN   \n",
              "13    male         WASSCE NATIONAL DPLOMA IN COMPUTER SCIENCE     NaN   \n",
              "\n",
              "                                               source  \n",
              "9   https://inecnigeria.org/list-of-candidates-for...  \n",
              "10  https://inecnigeria.org/list-of-candidates-for...  \n",
              "11  https://inecnigeria.org/list-of-candidates-for...  \n",
              "12  https://inecnigeria.org/list-of-candidates-for...  \n",
              "13  https://inecnigeria.org/list-of-candidates-for...  "
            ]
          },
          "execution_count": 49,
          "metadata": {},
          "output_type": "execute_result"
        }
      ],
      "source": [
        "gov.tail(5)"
      ]
    },
    {
      "cell_type": "code",
      "execution_count": null,
      "id": "bfe4a61d",
      "metadata": {
        "id": "bfe4a61d",
        "outputId": "88c96e33-0a1a-459e-b9a2-b7cd2f2840e1"
      },
      "outputs": [
        {
          "data": {
            "text/html": [
              "<div>\n",
              "<style scoped>\n",
              "    .dataframe tbody tr th:only-of-type {\n",
              "        vertical-align: middle;\n",
              "    }\n",
              "\n",
              "    .dataframe tbody tr th {\n",
              "        vertical-align: top;\n",
              "    }\n",
              "\n",
              "    .dataframe thead th {\n",
              "        text-align: right;\n",
              "    }\n",
              "</style>\n",
              "<table border=\"1\" class=\"dataframe\">\n",
              "  <thead>\n",
              "    <tr style=\"text-align: right;\">\n",
              "      <th></th>\n",
              "      <th>s/n</th>\n",
              "      <th>state</th>\n",
              "      <th>party</th>\n",
              "      <th>position</th>\n",
              "      <th>name of candidate</th>\n",
              "      <th>pwd</th>\n",
              "      <th>age</th>\n",
              "      <th>gender</th>\n",
              "      <th>qualifications</th>\n",
              "      <th>remarks</th>\n",
              "      <th>source</th>\n",
              "    </tr>\n",
              "  </thead>\n",
              "  <tbody>\n",
              "    <tr>\n",
              "      <th>1</th>\n",
              "      <td>1</td>\n",
              "      <td>ABIA</td>\n",
              "      <td>A</td>\n",
              "      <td>Governorship</td>\n",
              "      <td>NWANKPA EMEKA MICHAEL</td>\n",
              "      <td>None</td>\n",
              "      <td>52</td>\n",
              "      <td>male</td>\n",
              "      <td>FSLC WAEC HIGHER NATIONAL DIPLOMA</td>\n",
              "      <td>NaN</td>\n",
              "      <td>https://inecnigeria.org/list-of-candidates-for...</td>\n",
              "    </tr>\n",
              "    <tr>\n",
              "      <th>2</th>\n",
              "      <td>2</td>\n",
              "      <td>ABIA</td>\n",
              "      <td>A</td>\n",
              "      <td>Deputy- Governorship</td>\n",
              "      <td>UDO PRINCE OKPERE</td>\n",
              "      <td>None</td>\n",
              "      <td>48</td>\n",
              "      <td>male</td>\n",
              "      <td>FSLC WAEC PGD</td>\n",
              "      <td>NaN</td>\n",
              "      <td>https://inecnigeria.org/list-of-candidates-for...</td>\n",
              "    </tr>\n",
              "    <tr>\n",
              "      <th>3</th>\n",
              "      <td>3</td>\n",
              "      <td>ABIA</td>\n",
              "      <td>AA</td>\n",
              "      <td>Governorship</td>\n",
              "      <td>AKUMA KALU WILSON</td>\n",
              "      <td>None</td>\n",
              "      <td>35</td>\n",
              "      <td>male</td>\n",
              "      <td>F.L.S.C WAEC</td>\n",
              "      <td>NaN</td>\n",
              "      <td>https://inecnigeria.org/list-of-candidates-for...</td>\n",
              "    </tr>\n",
              "    <tr>\n",
              "      <th>4</th>\n",
              "      <td>4</td>\n",
              "      <td>ABIA</td>\n",
              "      <td>AA</td>\n",
              "      <td>Deputy- Governorship</td>\n",
              "      <td>NWANGANGA GILEAD</td>\n",
              "      <td>None</td>\n",
              "      <td>44</td>\n",
              "      <td>male</td>\n",
              "      <td>F.S.L.C  WAEC BS.C</td>\n",
              "      <td>NaN</td>\n",
              "      <td>https://inecnigeria.org/list-of-candidates-for...</td>\n",
              "    </tr>\n",
              "    <tr>\n",
              "      <th>5</th>\n",
              "      <td>5</td>\n",
              "      <td>ABIA</td>\n",
              "      <td>AAC</td>\n",
              "      <td>Governorship</td>\n",
              "      <td>OHUCHE BOND OLUCHUKWU</td>\n",
              "      <td>None</td>\n",
              "      <td>48</td>\n",
              "      <td>male</td>\n",
              "      <td>FSLC SSCE DEGREE</td>\n",
              "      <td>NaN</td>\n",
              "      <td>https://inecnigeria.org/list-of-candidates-for...</td>\n",
              "    </tr>\n",
              "  </tbody>\n",
              "</table>\n",
              "</div>"
            ],
            "text/plain": [
              "  s/n state party              position      name of candidate   pwd  age  \\\n",
              "1   1  ABIA     A          Governorship  NWANKPA EMEKA MICHAEL  None   52   \n",
              "2   2  ABIA     A  Deputy- Governorship      UDO PRINCE OKPERE  None   48   \n",
              "3   3  ABIA    AA          Governorship      AKUMA KALU WILSON  None   35   \n",
              "4   4  ABIA    AA  Deputy- Governorship       NWANGANGA GILEAD  None   44   \n",
              "5   5  ABIA   AAC          Governorship  OHUCHE BOND OLUCHUKWU  None   48   \n",
              "\n",
              "  gender                     qualifications remarks  \\\n",
              "1   male  FSLC WAEC HIGHER NATIONAL DIPLOMA     NaN   \n",
              "2   male                      FSLC WAEC PGD     NaN   \n",
              "3   male                       F.L.S.C WAEC     NaN   \n",
              "4   male                 F.S.L.C  WAEC BS.C     NaN   \n",
              "5   male                   FSLC SSCE DEGREE     NaN   \n",
              "\n",
              "                                              source  \n",
              "1  https://inecnigeria.org/list-of-candidates-for...  \n",
              "2  https://inecnigeria.org/list-of-candidates-for...  \n",
              "3  https://inecnigeria.org/list-of-candidates-for...  \n",
              "4  https://inecnigeria.org/list-of-candidates-for...  \n",
              "5  https://inecnigeria.org/list-of-candidates-for...  "
            ]
          },
          "execution_count": 52,
          "metadata": {},
          "output_type": "execute_result"
        }
      ],
      "source": [
        "gov.head(5)"
      ]
    },
    {
      "cell_type": "code",
      "execution_count": null,
      "id": "764dcd28",
      "metadata": {
        "id": "764dcd28",
        "outputId": "46e4993e-b78c-4de9-ea96-7bd0d5ba341e"
      },
      "outputs": [
        {
          "data": {
            "text/plain": [
              "(838, 11)"
            ]
          },
          "execution_count": 51,
          "metadata": {},
          "output_type": "execute_result"
        }
      ],
      "source": [
        "gov.shape"
      ]
    },
    {
      "cell_type": "code",
      "execution_count": null,
      "id": "a0e5c596",
      "metadata": {
        "id": "a0e5c596"
      },
      "outputs": [],
      "source": [
        "gov.to_csv(\"governorship.csv\",index= False, header= True)"
      ]
    }
  ],
  "metadata": {
    "kernelspec": {
      "display_name": "Python 3 (ipykernel)",
      "language": "python",
      "name": "python3"
    },
    "language_info": {
      "codemirror_mode": {
        "name": "ipython",
        "version": 3
      },
      "file_extension": ".py",
      "mimetype": "text/x-python",
      "name": "python",
      "nbconvert_exporter": "python",
      "pygments_lexer": "ipython3",
      "version": "3.9.7"
    },
    "colab": {
      "provenance": []
    }
  },
  "nbformat": 4,
  "nbformat_minor": 5
}